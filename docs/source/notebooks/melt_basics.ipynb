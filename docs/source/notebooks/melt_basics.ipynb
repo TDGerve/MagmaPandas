{
 "cells": [
  {
   "cell_type": "markdown",
   "metadata": {},
   "source": [
    "# Melt basics"
   ]
  },
  {
   "cell_type": "code",
   "execution_count": 1,
   "metadata": {},
   "outputs": [],
   "source": [
    "import MagmaPandas as mp"
   ]
  },
  {
   "cell_type": "markdown",
   "metadata": {},
   "source": [
    "Import some melt data from a csv file"
   ]
  },
  {
   "cell_type": "code",
   "execution_count": 2,
   "metadata": {},
   "outputs": [
    {
     "data": {
      "text/html": [
       "<div>\n",
       "<style scoped>\n",
       "    .dataframe tbody tr th:only-of-type {\n",
       "        vertical-align: middle;\n",
       "    }\n",
       "\n",
       "    .dataframe tbody tr th {\n",
       "        vertical-align: top;\n",
       "    }\n",
       "\n",
       "    .dataframe thead th {\n",
       "        text-align: right;\n",
       "    }\n",
       "</style>\n",
       "<table border=\"1\" class=\"dataframe\">\n",
       "  <thead>\n",
       "    <tr style=\"text-align: right;\">\n",
       "      <th></th>\n",
       "      <th>SiO2</th>\n",
       "      <th>Al2O3</th>\n",
       "      <th>MgO</th>\n",
       "      <th>CaO</th>\n",
       "      <th>FeO</th>\n",
       "      <th>Na2O</th>\n",
       "      <th>K2O</th>\n",
       "      <th>MnO</th>\n",
       "      <th>TiO2</th>\n",
       "      <th>P2O5</th>\n",
       "      <th>CO2</th>\n",
       "      <th>H2O</th>\n",
       "      <th>F</th>\n",
       "      <th>S</th>\n",
       "      <th>Cl</th>\n",
       "      <th>total</th>\n",
       "    </tr>\n",
       "    <tr>\n",
       "      <th>name</th>\n",
       "      <th></th>\n",
       "      <th></th>\n",
       "      <th></th>\n",
       "      <th></th>\n",
       "      <th></th>\n",
       "      <th></th>\n",
       "      <th></th>\n",
       "      <th></th>\n",
       "      <th></th>\n",
       "      <th></th>\n",
       "      <th></th>\n",
       "      <th></th>\n",
       "      <th></th>\n",
       "      <th></th>\n",
       "      <th></th>\n",
       "      <th></th>\n",
       "    </tr>\n",
       "  </thead>\n",
       "  <tbody>\n",
       "    <tr>\n",
       "      <th>PI032-04-01</th>\n",
       "      <td>49.402603</td>\n",
       "      <td>14.539062</td>\n",
       "      <td>6.509044</td>\n",
       "      <td>10.058735</td>\n",
       "      <td>9.757536</td>\n",
       "      <td>3.737374</td>\n",
       "      <td>0.697769</td>\n",
       "      <td>0.132497</td>\n",
       "      <td>2.548581</td>\n",
       "      <td>0.289823</td>\n",
       "      <td>0.628502</td>\n",
       "      <td>1.440208</td>\n",
       "      <td>0.078857</td>\n",
       "      <td>0.145452</td>\n",
       "      <td>0.033958</td>\n",
       "      <td>100</td>\n",
       "    </tr>\n",
       "    <tr>\n",
       "      <th>PI032-04-02</th>\n",
       "      <td>48.832207</td>\n",
       "      <td>15.116896</td>\n",
       "      <td>6.508618</td>\n",
       "      <td>9.688642</td>\n",
       "      <td>9.927146</td>\n",
       "      <td>3.564377</td>\n",
       "      <td>0.940308</td>\n",
       "      <td>0.135905</td>\n",
       "      <td>2.652552</td>\n",
       "      <td>0.336327</td>\n",
       "      <td>0.672345</td>\n",
       "      <td>1.330865</td>\n",
       "      <td>0.083879</td>\n",
       "      <td>0.165394</td>\n",
       "      <td>0.044540</td>\n",
       "      <td>100</td>\n",
       "    </tr>\n",
       "    <tr>\n",
       "      <th>PI041-02-02</th>\n",
       "      <td>49.124916</td>\n",
       "      <td>16.950138</td>\n",
       "      <td>4.861451</td>\n",
       "      <td>9.183852</td>\n",
       "      <td>10.238358</td>\n",
       "      <td>3.788617</td>\n",
       "      <td>1.077791</td>\n",
       "      <td>0.153258</td>\n",
       "      <td>2.804343</td>\n",
       "      <td>0.561031</td>\n",
       "      <td>0.463920</td>\n",
       "      <td>0.655494</td>\n",
       "      <td>0.047654</td>\n",
       "      <td>0.068020</td>\n",
       "      <td>0.021157</td>\n",
       "      <td>100</td>\n",
       "    </tr>\n",
       "    <tr>\n",
       "      <th>PI041-03-01</th>\n",
       "      <td>45.941086</td>\n",
       "      <td>15.753453</td>\n",
       "      <td>6.909844</td>\n",
       "      <td>10.996510</td>\n",
       "      <td>10.778833</td>\n",
       "      <td>3.346468</td>\n",
       "      <td>1.144852</td>\n",
       "      <td>0.112117</td>\n",
       "      <td>3.153303</td>\n",
       "      <td>0.551992</td>\n",
       "      <td>0.797715</td>\n",
       "      <td>0.293341</td>\n",
       "      <td>0.079499</td>\n",
       "      <td>0.086863</td>\n",
       "      <td>0.054123</td>\n",
       "      <td>100</td>\n",
       "    </tr>\n",
       "    <tr>\n",
       "      <th>PI041-03-03</th>\n",
       "      <td>45.313339</td>\n",
       "      <td>15.909531</td>\n",
       "      <td>6.831676</td>\n",
       "      <td>11.175276</td>\n",
       "      <td>10.966834</td>\n",
       "      <td>3.417548</td>\n",
       "      <td>1.167550</td>\n",
       "      <td>0.088899</td>\n",
       "      <td>3.262463</td>\n",
       "      <td>0.517891</td>\n",
       "      <td>0.821116</td>\n",
       "      <td>0.311131</td>\n",
       "      <td>0.081713</td>\n",
       "      <td>0.079495</td>\n",
       "      <td>0.055540</td>\n",
       "      <td>100</td>\n",
       "    </tr>\n",
       "  </tbody>\n",
       "</table>\n",
       "</div>"
      ],
      "text/plain": [
       "                  SiO2      Al2O3       MgO        CaO        FeO      Na2O  \\\n",
       "name                                                                          \n",
       "PI032-04-01  49.402603  14.539062  6.509044  10.058735   9.757536  3.737374   \n",
       "PI032-04-02  48.832207  15.116896  6.508618   9.688642   9.927146  3.564377   \n",
       "PI041-02-02  49.124916  16.950138  4.861451   9.183852  10.238358  3.788617   \n",
       "PI041-03-01  45.941086  15.753453  6.909844  10.996510  10.778833  3.346468   \n",
       "PI041-03-03  45.313339  15.909531  6.831676  11.175276  10.966834  3.417548   \n",
       "\n",
       "                  K2O       MnO      TiO2      P2O5       CO2       H2O  \\\n",
       "name                                                                      \n",
       "PI032-04-01  0.697769  0.132497  2.548581  0.289823  0.628502  1.440208   \n",
       "PI032-04-02  0.940308  0.135905  2.652552  0.336327  0.672345  1.330865   \n",
       "PI041-02-02  1.077791  0.153258  2.804343  0.561031  0.463920  0.655494   \n",
       "PI041-03-01  1.144852  0.112117  3.153303  0.551992  0.797715  0.293341   \n",
       "PI041-03-03  1.167550  0.088899  3.262463  0.517891  0.821116  0.311131   \n",
       "\n",
       "                    F         S        Cl  total  \n",
       "name                                              \n",
       "PI032-04-01  0.078857  0.145452  0.033958    100  \n",
       "PI032-04-02  0.083879  0.165394  0.044540    100  \n",
       "PI041-02-02  0.047654  0.068020  0.021157    100  \n",
       "PI041-03-01  0.079499  0.086863  0.054123    100  \n",
       "PI041-03-03  0.081713  0.079495  0.055540    100  "
      ]
     },
     "execution_count": 2,
     "metadata": {},
     "output_type": "execute_result"
    }
   ],
   "source": [
    "melt_file = \"./data/melts.csv\"\n",
    "\n",
    "melt = mp.read_melt(melt_file, index_col=[\"name\"])\n",
    "melt.head()"
   ]
  },
  {
   "cell_type": "markdown",
   "metadata": {},
   "source": [
    "On top of the regular MagmaFrame methods, Melt has additional methods for calculating\n",
    "\n",
    "- NBO/T,\n",
    "- melt densities,\n",
    "- liquidus temperatures,\n",
    "- Fe3+/Fe2+ ratios,\n",
    "- melt FeO and Fe2O3,\n",
    "- olivine-melt Fe-Mg partitioning coefficients and\n",
    "- H2O-CO2 saturation pressures."
   ]
  },
  {
   "cell_type": "markdown",
   "metadata": {},
   "source": [
    "Let's check the current configuration of MagmaPandas ..."
   ]
  },
  {
   "cell_type": "code",
   "execution_count": 3,
   "metadata": {},
   "outputs": [
    {
     "name": "stdout",
     "output_type": "stream",
     "text": [
      "\n",
      "################ MagmaPandas ################\n",
      "#############################################\n",
      "General settings_____________________________\n",
      "fO2 buffer................................QFM\n",
      "Δ buffer....................................1\n",
      "Melt Fe3+/Fe2+........................borisov\n",
      "Kd Fe-Mg ol-melt.......................toplis\n",
      "Melt thermometer...............putirka2008_15\n",
      "Volatile solubility model......IaconoMarziano\n",
      "Volatile species........................mixed\n"
     ]
    }
   ],
   "source": [
    "print(mp.configuration)"
   ]
  },
  {
   "cell_type": "markdown",
   "metadata": {},
   "source": [
    "... and calculate liquidus temperatures with a melt-only thermometer at 4 kbar. The configuration is currently set to use equation 15 from Putirka (2008)."
   ]
  },
  {
   "cell_type": "code",
   "execution_count": 4,
   "metadata": {},
   "outputs": [
    {
     "data": {
      "text/plain": [
       "name\n",
       "PI032-04-01    1443.385914\n",
       "PI032-04-02    1445.564297\n",
       "PI041-02-02    1412.625935\n",
       "PI041-03-01    1470.801711\n",
       "PI041-03-03    1469.717871\n",
       "PI041-05-04    1392.562896\n",
       "PI041-05-06    1417.312468\n",
       "PI041-07-01    1458.806150\n",
       "PI041-07-02    1463.178696\n",
       "PI052-01-02    1381.292654\n",
       "Name: T_K, dtype: float64"
      ]
     },
     "execution_count": 4,
     "metadata": {},
     "output_type": "execute_result"
    }
   ],
   "source": [
    "P_bar = 4e3\n",
    "\n",
    "temperatures = melt.temperature(P_bar=P_bar)\n",
    "temperatures"
   ]
  },
  {
   "cell_type": "markdown",
   "metadata": {},
   "source": [
    "We can switch to a different thermometer by changing the configuration:"
   ]
  },
  {
   "cell_type": "code",
   "execution_count": 5,
   "metadata": {},
   "outputs": [
    {
     "data": {
      "text/plain": [
       "name\n",
       "PI032-04-01    1441.689112\n",
       "PI032-04-02    1438.624308\n",
       "PI041-02-02    1395.139632\n",
       "PI041-03-01    1442.484997\n",
       "PI041-03-03    1441.510214\n",
       "PI041-05-04    1370.343045\n",
       "PI041-05-06    1399.939176\n",
       "PI041-07-01    1440.598613\n",
       "PI041-07-02    1439.236321\n",
       "PI052-01-02    1368.655861\n",
       "Name: T_K, dtype: float64"
      ]
     },
     "execution_count": 5,
     "metadata": {},
     "output_type": "execute_result"
    }
   ],
   "source": [
    "mp.configuration.melt_thermometer = \"putirka2008_16\"\n",
    "\n",
    "temperatures_new = melt.temperature(P_bar=P_bar)\n",
    "temperatures_new"
   ]
  },
  {
   "cell_type": "markdown",
   "metadata": {},
   "source": [
    "With these temperatures we can calculate melt Fe3+/Fe2+ ratios. The configuration is currently set to fO2 buffered at QFM+1 and the Borisov et al. (2018) Fe3+/Fe2+ model."
   ]
  },
  {
   "cell_type": "code",
   "execution_count": 6,
   "metadata": {},
   "outputs": [
    {
     "data": {
      "text/plain": [
       "name\n",
       "PI032-04-01    0.311069\n",
       "PI032-04-02    0.308575\n",
       "PI041-02-02    0.282497\n",
       "PI041-03-01    0.314827\n",
       "PI041-03-03    0.321354\n",
       "PI041-05-04    0.296615\n",
       "PI041-05-06    0.305791\n",
       "PI041-07-01    0.317636\n",
       "PI041-07-02    0.313250\n",
       "PI052-01-02    0.317078\n",
       "dtype: float64"
      ]
     },
     "execution_count": 6,
     "metadata": {},
     "output_type": "execute_result"
    }
   ],
   "source": [
    "Fe3Fe2_QFM1 = melt.Fe3Fe2_QFM(T_K=temperatures, P_bar=P_bar)\n",
    "Fe3Fe2_QFM1"
   ]
  },
  {
   "cell_type": "markdown",
   "metadata": {},
   "source": [
    "Changing the fO2 buffer to lower log offset values reduces the amount of Fe3+"
   ]
  },
  {
   "cell_type": "code",
   "execution_count": 7,
   "metadata": {},
   "outputs": [
    {
     "data": {
      "text/plain": [
       "name\n",
       "PI032-04-01    0.193133\n",
       "PI032-04-02    0.191585\n",
       "PI041-02-02    0.175393\n",
       "PI041-03-01    0.195466\n",
       "PI041-03-03    0.199518\n",
       "PI041-05-04    0.184159\n",
       "PI041-05-06    0.189856\n",
       "PI041-07-01    0.197210\n",
       "PI041-07-02    0.194487\n",
       "PI052-01-02    0.196864\n",
       "dtype: float64"
      ]
     },
     "execution_count": 7,
     "metadata": {},
     "output_type": "execute_result"
    }
   ],
   "source": [
    "mp.configuration.dQFM = 0\n",
    "\n",
    "melt.Fe3Fe2_QFM(T_K=temperatures, P_bar=P_bar)"
   ]
  },
  {
   "cell_type": "markdown",
   "metadata": {},
   "source": [
    "With our Fe3+/Fe2+ ratios we can calculate melt FeO and Fe2O3 contents"
   ]
  },
  {
   "cell_type": "code",
   "execution_count": 8,
   "metadata": {},
   "outputs": [
    {
     "data": {
      "text/html": [
       "<div>\n",
       "<style scoped>\n",
       "    .dataframe tbody tr th:only-of-type {\n",
       "        vertical-align: middle;\n",
       "    }\n",
       "\n",
       "    .dataframe tbody tr th {\n",
       "        vertical-align: top;\n",
       "    }\n",
       "\n",
       "    .dataframe thead th {\n",
       "        text-align: right;\n",
       "    }\n",
       "</style>\n",
       "<table border=\"1\" class=\"dataframe\">\n",
       "  <thead>\n",
       "    <tr style=\"text-align: right;\">\n",
       "      <th></th>\n",
       "      <th>SiO2</th>\n",
       "      <th>Al2O3</th>\n",
       "      <th>MgO</th>\n",
       "      <th>CaO</th>\n",
       "      <th>FeO</th>\n",
       "      <th>Na2O</th>\n",
       "      <th>K2O</th>\n",
       "      <th>MnO</th>\n",
       "      <th>TiO2</th>\n",
       "      <th>P2O5</th>\n",
       "      <th>CO2</th>\n",
       "      <th>H2O</th>\n",
       "      <th>F</th>\n",
       "      <th>S</th>\n",
       "      <th>Cl</th>\n",
       "      <th>Fe2O3</th>\n",
       "      <th>total</th>\n",
       "    </tr>\n",
       "    <tr>\n",
       "      <th>name</th>\n",
       "      <th></th>\n",
       "      <th></th>\n",
       "      <th></th>\n",
       "      <th></th>\n",
       "      <th></th>\n",
       "      <th></th>\n",
       "      <th></th>\n",
       "      <th></th>\n",
       "      <th></th>\n",
       "      <th></th>\n",
       "      <th></th>\n",
       "      <th></th>\n",
       "      <th></th>\n",
       "      <th></th>\n",
       "      <th></th>\n",
       "      <th></th>\n",
       "      <th></th>\n",
       "    </tr>\n",
       "  </thead>\n",
       "  <tbody>\n",
       "    <tr>\n",
       "      <th>PI032-04-01</th>\n",
       "      <td>49.275581</td>\n",
       "      <td>14.501679</td>\n",
       "      <td>6.492308</td>\n",
       "      <td>10.032872</td>\n",
       "      <td>7.423291</td>\n",
       "      <td>3.727764</td>\n",
       "      <td>0.695975</td>\n",
       "      <td>0.132157</td>\n",
       "      <td>2.542028</td>\n",
       "      <td>0.289078</td>\n",
       "      <td>0.626886</td>\n",
       "      <td>1.436505</td>\n",
       "      <td>0.078655</td>\n",
       "      <td>0.145078</td>\n",
       "      <td>0.033870</td>\n",
       "      <td>2.566271</td>\n",
       "      <td>100.0</td>\n",
       "    </tr>\n",
       "    <tr>\n",
       "      <th>PI032-04-02</th>\n",
       "      <td>48.705255</td>\n",
       "      <td>15.077596</td>\n",
       "      <td>6.491697</td>\n",
       "      <td>9.663454</td>\n",
       "      <td>7.566503</td>\n",
       "      <td>3.555110</td>\n",
       "      <td>0.937864</td>\n",
       "      <td>0.135552</td>\n",
       "      <td>2.645656</td>\n",
       "      <td>0.335453</td>\n",
       "      <td>0.670597</td>\n",
       "      <td>1.327405</td>\n",
       "      <td>0.083661</td>\n",
       "      <td>0.164964</td>\n",
       "      <td>0.044424</td>\n",
       "      <td>2.594808</td>\n",
       "      <td>100.0</td>\n",
       "    </tr>\n",
       "    <tr>\n",
       "      <th>PI041-02-02</th>\n",
       "      <td>49.001869</td>\n",
       "      <td>16.907682</td>\n",
       "      <td>4.849274</td>\n",
       "      <td>9.160849</td>\n",
       "      <td>7.963149</td>\n",
       "      <td>3.779127</td>\n",
       "      <td>1.075092</td>\n",
       "      <td>0.152874</td>\n",
       "      <td>2.797319</td>\n",
       "      <td>0.559626</td>\n",
       "      <td>0.462758</td>\n",
       "      <td>0.653852</td>\n",
       "      <td>0.047534</td>\n",
       "      <td>0.067850</td>\n",
       "      <td>0.021104</td>\n",
       "      <td>2.500042</td>\n",
       "      <td>100.0</td>\n",
       "    </tr>\n",
       "    <tr>\n",
       "      <th>PI041-03-01</th>\n",
       "      <td>45.809442</td>\n",
       "      <td>15.708312</td>\n",
       "      <td>6.890044</td>\n",
       "      <td>10.964999</td>\n",
       "      <td>8.174420</td>\n",
       "      <td>3.336879</td>\n",
       "      <td>1.141571</td>\n",
       "      <td>0.111796</td>\n",
       "      <td>3.144267</td>\n",
       "      <td>0.550411</td>\n",
       "      <td>0.795430</td>\n",
       "      <td>0.292501</td>\n",
       "      <td>0.079271</td>\n",
       "      <td>0.086614</td>\n",
       "      <td>0.053968</td>\n",
       "      <td>2.860077</td>\n",
       "      <td>100.0</td>\n",
       "    </tr>\n",
       "    <tr>\n",
       "      <th>PI041-03-03</th>\n",
       "      <td>45.179169</td>\n",
       "      <td>15.862423</td>\n",
       "      <td>6.811448</td>\n",
       "      <td>11.142186</td>\n",
       "      <td>8.275122</td>\n",
       "      <td>3.407429</td>\n",
       "      <td>1.164093</td>\n",
       "      <td>0.088636</td>\n",
       "      <td>3.252803</td>\n",
       "      <td>0.516358</td>\n",
       "      <td>0.818685</td>\n",
       "      <td>0.310210</td>\n",
       "      <td>0.081471</td>\n",
       "      <td>0.079259</td>\n",
       "      <td>0.055375</td>\n",
       "      <td>2.955334</td>\n",
       "      <td>100.0</td>\n",
       "    </tr>\n",
       "    <tr>\n",
       "      <th>PI041-05-04</th>\n",
       "      <td>47.599008</td>\n",
       "      <td>18.501385</td>\n",
       "      <td>3.861119</td>\n",
       "      <td>9.353541</td>\n",
       "      <td>7.400349</td>\n",
       "      <td>4.577910</td>\n",
       "      <td>1.599178</td>\n",
       "      <td>0.137414</td>\n",
       "      <td>2.475096</td>\n",
       "      <td>0.821372</td>\n",
       "      <td>0.507690</td>\n",
       "      <td>0.459500</td>\n",
       "      <td>0.087350</td>\n",
       "      <td>0.120875</td>\n",
       "      <td>0.058746</td>\n",
       "      <td>2.439466</td>\n",
       "      <td>100.0</td>\n",
       "    </tr>\n",
       "    <tr>\n",
       "      <th>PI041-05-06</th>\n",
       "      <td>46.226667</td>\n",
       "      <td>16.926160</td>\n",
       "      <td>4.726061</td>\n",
       "      <td>8.899527</td>\n",
       "      <td>8.871775</td>\n",
       "      <td>3.991369</td>\n",
       "      <td>1.413130</td>\n",
       "      <td>0.167167</td>\n",
       "      <td>3.624544</td>\n",
       "      <td>0.617872</td>\n",
       "      <td>0.638401</td>\n",
       "      <td>0.584214</td>\n",
       "      <td>0.107136</td>\n",
       "      <td>0.127785</td>\n",
       "      <td>0.063211</td>\n",
       "      <td>3.014983</td>\n",
       "      <td>100.0</td>\n",
       "    </tr>\n",
       "    <tr>\n",
       "      <th>PI041-07-01</th>\n",
       "      <td>45.718650</td>\n",
       "      <td>15.414290</td>\n",
       "      <td>6.714976</td>\n",
       "      <td>9.793583</td>\n",
       "      <td>8.734319</td>\n",
       "      <td>3.168019</td>\n",
       "      <td>1.287567</td>\n",
       "      <td>0.144541</td>\n",
       "      <td>3.574668</td>\n",
       "      <td>0.561485</td>\n",
       "      <td>0.473303</td>\n",
       "      <td>1.032991</td>\n",
       "      <td>0.075996</td>\n",
       "      <td>0.165371</td>\n",
       "      <td>0.056997</td>\n",
       "      <td>3.083245</td>\n",
       "      <td>100.0</td>\n",
       "    </tr>\n",
       "    <tr>\n",
       "      <th>PI041-07-02</th>\n",
       "      <td>45.731116</td>\n",
       "      <td>15.612536</td>\n",
       "      <td>6.652319</td>\n",
       "      <td>10.098012</td>\n",
       "      <td>8.742548</td>\n",
       "      <td>3.197687</td>\n",
       "      <td>1.363625</td>\n",
       "      <td>0.134632</td>\n",
       "      <td>3.543425</td>\n",
       "      <td>0.617623</td>\n",
       "      <td>0.373127</td>\n",
       "      <td>0.617792</td>\n",
       "      <td>0.073761</td>\n",
       "      <td>0.140751</td>\n",
       "      <td>0.057510</td>\n",
       "      <td>3.043535</td>\n",
       "      <td>100.0</td>\n",
       "    </tr>\n",
       "    <tr>\n",
       "      <th>PI052-01-02</th>\n",
       "      <td>49.208103</td>\n",
       "      <td>17.108284</td>\n",
       "      <td>3.768977</td>\n",
       "      <td>10.435218</td>\n",
       "      <td>6.365068</td>\n",
       "      <td>4.952141</td>\n",
       "      <td>1.540690</td>\n",
       "      <td>0.235418</td>\n",
       "      <td>1.773042</td>\n",
       "      <td>0.688370</td>\n",
       "      <td>0.289641</td>\n",
       "      <td>1.128481</td>\n",
       "      <td>0.082626</td>\n",
       "      <td>0.127034</td>\n",
       "      <td>0.053962</td>\n",
       "      <td>2.242943</td>\n",
       "      <td>100.0</td>\n",
       "    </tr>\n",
       "  </tbody>\n",
       "</table>\n",
       "</div>"
      ],
      "text/plain": [
       "                  SiO2      Al2O3       MgO        CaO       FeO      Na2O  \\\n",
       "name                                                                         \n",
       "PI032-04-01  49.275581  14.501679  6.492308  10.032872  7.423291  3.727764   \n",
       "PI032-04-02  48.705255  15.077596  6.491697   9.663454  7.566503  3.555110   \n",
       "PI041-02-02  49.001869  16.907682  4.849274   9.160849  7.963149  3.779127   \n",
       "PI041-03-01  45.809442  15.708312  6.890044  10.964999  8.174420  3.336879   \n",
       "PI041-03-03  45.179169  15.862423  6.811448  11.142186  8.275122  3.407429   \n",
       "PI041-05-04  47.599008  18.501385  3.861119   9.353541  7.400349  4.577910   \n",
       "PI041-05-06  46.226667  16.926160  4.726061   8.899527  8.871775  3.991369   \n",
       "PI041-07-01  45.718650  15.414290  6.714976   9.793583  8.734319  3.168019   \n",
       "PI041-07-02  45.731116  15.612536  6.652319  10.098012  8.742548  3.197687   \n",
       "PI052-01-02  49.208103  17.108284  3.768977  10.435218  6.365068  4.952141   \n",
       "\n",
       "                  K2O       MnO      TiO2      P2O5       CO2       H2O  \\\n",
       "name                                                                      \n",
       "PI032-04-01  0.695975  0.132157  2.542028  0.289078  0.626886  1.436505   \n",
       "PI032-04-02  0.937864  0.135552  2.645656  0.335453  0.670597  1.327405   \n",
       "PI041-02-02  1.075092  0.152874  2.797319  0.559626  0.462758  0.653852   \n",
       "PI041-03-01  1.141571  0.111796  3.144267  0.550411  0.795430  0.292501   \n",
       "PI041-03-03  1.164093  0.088636  3.252803  0.516358  0.818685  0.310210   \n",
       "PI041-05-04  1.599178  0.137414  2.475096  0.821372  0.507690  0.459500   \n",
       "PI041-05-06  1.413130  0.167167  3.624544  0.617872  0.638401  0.584214   \n",
       "PI041-07-01  1.287567  0.144541  3.574668  0.561485  0.473303  1.032991   \n",
       "PI041-07-02  1.363625  0.134632  3.543425  0.617623  0.373127  0.617792   \n",
       "PI052-01-02  1.540690  0.235418  1.773042  0.688370  0.289641  1.128481   \n",
       "\n",
       "                    F         S        Cl     Fe2O3  total  \n",
       "name                                                        \n",
       "PI032-04-01  0.078655  0.145078  0.033870  2.566271  100.0  \n",
       "PI032-04-02  0.083661  0.164964  0.044424  2.594808  100.0  \n",
       "PI041-02-02  0.047534  0.067850  0.021104  2.500042  100.0  \n",
       "PI041-03-01  0.079271  0.086614  0.053968  2.860077  100.0  \n",
       "PI041-03-03  0.081471  0.079259  0.055375  2.955334  100.0  \n",
       "PI041-05-04  0.087350  0.120875  0.058746  2.439466  100.0  \n",
       "PI041-05-06  0.107136  0.127785  0.063211  3.014983  100.0  \n",
       "PI041-07-01  0.075996  0.165371  0.056997  3.083245  100.0  \n",
       "PI041-07-02  0.073761  0.140751  0.057510  3.043535  100.0  \n",
       "PI052-01-02  0.082626  0.127034  0.053962  2.242943  100.0  "
      ]
     },
     "execution_count": 8,
     "metadata": {},
     "output_type": "execute_result"
    }
   ],
   "source": [
    "melt.FeO_Fe2O3_calc(Fe3Fe2=Fe3Fe2_QFM1)"
   ]
  },
  {
   "cell_type": "markdown",
   "metadata": {},
   "source": [
    "Our melts also contain H2O and CO2, so let's calculate volatile saturation pressures. In the configuration we see that we're currently using the Iacono-Marziano et al. (2012) model with mixed CO2-H2O fluids:"
   ]
  },
  {
   "cell_type": "code",
   "execution_count": 13,
   "metadata": {},
   "outputs": [
    {
     "name": "stdout",
     "output_type": "stream",
     "text": [
      "\n",
      "################ MagmaPandas ################\n",
      "#############################################\n",
      "General settings_____________________________\n",
      "fO2 buffer................................QFM\n",
      "Δ buffer....................................0\n",
      "Melt Fe3+/Fe2+........................borisov\n",
      "Kd Fe-Mg ol-melt.......................toplis\n",
      "Melt thermometer...............putirka2008_16\n",
      "Volatile solubility model.........Allison2022\n",
      "Volatile species........................mixed\n"
     ]
    }
   ],
   "source": [
    "print(mp.configuration)"
   ]
  },
  {
   "cell_type": "code",
   "execution_count": 14,
   "metadata": {},
   "outputs": [
    {
     "name": "stdout",
     "output_type": "stream",
     "text": [
      "|██████████████████████████████| 100% [10/10] in 0.6s (10.19/s) \n"
     ]
    },
    {
     "data": {
      "text/plain": [
       "name\n",
       "PI032-04-01    4760.421774\n",
       "PI032-04-02    5378.750567\n",
       "PI041-02-02    4897.019731\n",
       "PI041-03-01    5838.765488\n",
       "PI041-03-03    6015.052185\n",
       "PI041-05-04    5257.312523\n",
       "PI041-05-06    5825.102370\n",
       "PI041-07-01    4518.033418\n",
       "PI041-07-02    3923.967613\n",
       "PI052-01-02    2597.137258\n",
       "dtype: float64"
      ]
     },
     "execution_count": 14,
     "metadata": {},
     "output_type": "execute_result"
    }
   ],
   "source": [
    "pressures_IM2012 = melt.volatile_saturation_pressure(T_K=temperatures)\n",
    "pressures_IM2012"
   ]
  },
  {
   "cell_type": "markdown",
   "metadata": {},
   "source": [
    "Lets change the volatile solubility model to Allison et al. (2022):"
   ]
  },
  {
   "cell_type": "code",
   "execution_count": 11,
   "metadata": {},
   "outputs": [
    {
     "name": "stdout",
     "output_type": "stream",
     "text": [
      "\n",
      "################ MagmaPandas ################\n",
      "#############################################\n",
      "General settings_____________________________\n",
      "fO2 buffer................................QFM\n",
      "Δ buffer....................................0\n",
      "Melt Fe3+/Fe2+........................borisov\n",
      "Kd Fe-Mg ol-melt.......................toplis\n",
      "Melt thermometer...............putirka2008_16\n",
      "Volatile solubility model.........Allison2022\n",
      "Volatile species........................mixed\n"
     ]
    }
   ],
   "source": [
    "mp.configuration.volatile_solubility = 'Allison2022'\n",
    "print(mp.configuration)"
   ]
  },
  {
   "cell_type": "code",
   "execution_count": 15,
   "metadata": {},
   "outputs": [
    {
     "name": "stdout",
     "output_type": "stream",
     "text": [
      "|██████████████████████████████| 100% [10/10] in 0.6s (15.31/s) \n"
     ]
    },
    {
     "data": {
      "text/plain": [
       "name\n",
       "PI032-04-01    4760.421774\n",
       "PI032-04-02    5378.750567\n",
       "PI041-02-02    4897.019731\n",
       "PI041-03-01    5838.765488\n",
       "PI041-03-03    6015.052185\n",
       "PI041-05-04    5257.312523\n",
       "PI041-05-06    5825.102370\n",
       "PI041-07-01    4518.033418\n",
       "PI041-07-02    3923.967613\n",
       "PI052-01-02    2597.137258\n",
       "dtype: float64"
      ]
     },
     "execution_count": 15,
     "metadata": {},
     "output_type": "execute_result"
    }
   ],
   "source": [
    "pressures_A22 = melt.volatile_saturation_pressure(T_K=temperatures)\n",
    "pressures_A22"
   ]
  },
  {
   "cell_type": "code",
   "execution_count": null,
   "metadata": {},
   "outputs": [],
   "source": []
  }
 ],
 "metadata": {
  "kernelspec": {
   "display_name": "py310",
   "language": "python",
   "name": "python3"
  },
  "language_info": {
   "codemirror_mode": {
    "name": "ipython",
    "version": 3
   },
   "file_extension": ".py",
   "mimetype": "text/x-python",
   "name": "python",
   "nbconvert_exporter": "python",
   "pygments_lexer": "ipython3",
   "version": "3.10.13"
  }
 },
 "nbformat": 4,
 "nbformat_minor": 2
}
