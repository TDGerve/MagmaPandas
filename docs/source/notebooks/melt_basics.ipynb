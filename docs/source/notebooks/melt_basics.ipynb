{
 "cells": [
  {
   "cell_type": "markdown",
   "metadata": {},
   "source": [
    "# Melt basics"
   ]
  },
  {
   "cell_type": "code",
   "execution_count": 5,
   "metadata": {},
   "outputs": [],
   "source": [
    "import MagmaPandas as mp"
   ]
  },
  {
   "cell_type": "markdown",
   "metadata": {},
   "source": [
    "Import some melt data from a csv file"
   ]
  },
  {
   "cell_type": "code",
   "execution_count": 6,
   "metadata": {},
   "outputs": [
    {
     "data": {
      "text/html": [
       "<div>\n",
       "<style scoped>\n",
       "    .dataframe tbody tr th:only-of-type {\n",
       "        vertical-align: middle;\n",
       "    }\n",
       "\n",
       "    .dataframe tbody tr th {\n",
       "        vertical-align: top;\n",
       "    }\n",
       "\n",
       "    .dataframe thead th {\n",
       "        text-align: right;\n",
       "    }\n",
       "</style>\n",
       "<table border=\"1\" class=\"dataframe\">\n",
       "  <thead>\n",
       "    <tr style=\"text-align: right;\">\n",
       "      <th></th>\n",
       "      <th>SiO2</th>\n",
       "      <th>Al2O3</th>\n",
       "      <th>MgO</th>\n",
       "      <th>CaO</th>\n",
       "      <th>FeO</th>\n",
       "      <th>Na2O</th>\n",
       "      <th>K2O</th>\n",
       "      <th>MnO</th>\n",
       "      <th>TiO2</th>\n",
       "      <th>P2O5</th>\n",
       "      <th>CO2</th>\n",
       "      <th>H2O</th>\n",
       "      <th>F</th>\n",
       "      <th>S</th>\n",
       "      <th>Cl</th>\n",
       "      <th>total</th>\n",
       "    </tr>\n",
       "    <tr>\n",
       "      <th>name</th>\n",
       "      <th></th>\n",
       "      <th></th>\n",
       "      <th></th>\n",
       "      <th></th>\n",
       "      <th></th>\n",
       "      <th></th>\n",
       "      <th></th>\n",
       "      <th></th>\n",
       "      <th></th>\n",
       "      <th></th>\n",
       "      <th></th>\n",
       "      <th></th>\n",
       "      <th></th>\n",
       "      <th></th>\n",
       "      <th></th>\n",
       "      <th></th>\n",
       "    </tr>\n",
       "  </thead>\n",
       "  <tbody>\n",
       "    <tr>\n",
       "      <th>PI032-04-01</th>\n",
       "      <td>49.402603</td>\n",
       "      <td>14.539062</td>\n",
       "      <td>6.509044</td>\n",
       "      <td>10.058735</td>\n",
       "      <td>9.757536</td>\n",
       "      <td>3.737374</td>\n",
       "      <td>0.697769</td>\n",
       "      <td>0.132497</td>\n",
       "      <td>2.548581</td>\n",
       "      <td>0.289823</td>\n",
       "      <td>0.628502</td>\n",
       "      <td>1.440208</td>\n",
       "      <td>0.078857</td>\n",
       "      <td>0.145452</td>\n",
       "      <td>0.033958</td>\n",
       "      <td>100</td>\n",
       "    </tr>\n",
       "    <tr>\n",
       "      <th>PI032-04-02</th>\n",
       "      <td>48.832207</td>\n",
       "      <td>15.116896</td>\n",
       "      <td>6.508618</td>\n",
       "      <td>9.688642</td>\n",
       "      <td>9.927146</td>\n",
       "      <td>3.564377</td>\n",
       "      <td>0.940308</td>\n",
       "      <td>0.135905</td>\n",
       "      <td>2.652552</td>\n",
       "      <td>0.336327</td>\n",
       "      <td>0.672345</td>\n",
       "      <td>1.330865</td>\n",
       "      <td>0.083879</td>\n",
       "      <td>0.165394</td>\n",
       "      <td>0.044540</td>\n",
       "      <td>100</td>\n",
       "    </tr>\n",
       "    <tr>\n",
       "      <th>PI041-02-02</th>\n",
       "      <td>49.124916</td>\n",
       "      <td>16.950138</td>\n",
       "      <td>4.861451</td>\n",
       "      <td>9.183852</td>\n",
       "      <td>10.238358</td>\n",
       "      <td>3.788617</td>\n",
       "      <td>1.077791</td>\n",
       "      <td>0.153258</td>\n",
       "      <td>2.804343</td>\n",
       "      <td>0.561031</td>\n",
       "      <td>0.463920</td>\n",
       "      <td>0.655494</td>\n",
       "      <td>0.047654</td>\n",
       "      <td>0.068020</td>\n",
       "      <td>0.021157</td>\n",
       "      <td>100</td>\n",
       "    </tr>\n",
       "    <tr>\n",
       "      <th>PI041-03-01</th>\n",
       "      <td>45.941086</td>\n",
       "      <td>15.753453</td>\n",
       "      <td>6.909844</td>\n",
       "      <td>10.996510</td>\n",
       "      <td>10.778833</td>\n",
       "      <td>3.346468</td>\n",
       "      <td>1.144852</td>\n",
       "      <td>0.112117</td>\n",
       "      <td>3.153303</td>\n",
       "      <td>0.551992</td>\n",
       "      <td>0.797715</td>\n",
       "      <td>0.293341</td>\n",
       "      <td>0.079499</td>\n",
       "      <td>0.086863</td>\n",
       "      <td>0.054123</td>\n",
       "      <td>100</td>\n",
       "    </tr>\n",
       "    <tr>\n",
       "      <th>PI041-03-03</th>\n",
       "      <td>45.313339</td>\n",
       "      <td>15.909531</td>\n",
       "      <td>6.831676</td>\n",
       "      <td>11.175276</td>\n",
       "      <td>10.966834</td>\n",
       "      <td>3.417548</td>\n",
       "      <td>1.167550</td>\n",
       "      <td>0.088899</td>\n",
       "      <td>3.262463</td>\n",
       "      <td>0.517891</td>\n",
       "      <td>0.821116</td>\n",
       "      <td>0.311131</td>\n",
       "      <td>0.081713</td>\n",
       "      <td>0.079495</td>\n",
       "      <td>0.055540</td>\n",
       "      <td>100</td>\n",
       "    </tr>\n",
       "  </tbody>\n",
       "</table>\n",
       "</div>"
      ],
      "text/plain": [
       "                  SiO2      Al2O3       MgO        CaO        FeO      Na2O  \\\n",
       "name                                                                          \n",
       "PI032-04-01  49.402603  14.539062  6.509044  10.058735   9.757536  3.737374   \n",
       "PI032-04-02  48.832207  15.116896  6.508618   9.688642   9.927146  3.564377   \n",
       "PI041-02-02  49.124916  16.950138  4.861451   9.183852  10.238358  3.788617   \n",
       "PI041-03-01  45.941086  15.753453  6.909844  10.996510  10.778833  3.346468   \n",
       "PI041-03-03  45.313339  15.909531  6.831676  11.175276  10.966834  3.417548   \n",
       "\n",
       "                  K2O       MnO      TiO2      P2O5       CO2       H2O  \\\n",
       "name                                                                      \n",
       "PI032-04-01  0.697769  0.132497  2.548581  0.289823  0.628502  1.440208   \n",
       "PI032-04-02  0.940308  0.135905  2.652552  0.336327  0.672345  1.330865   \n",
       "PI041-02-02  1.077791  0.153258  2.804343  0.561031  0.463920  0.655494   \n",
       "PI041-03-01  1.144852  0.112117  3.153303  0.551992  0.797715  0.293341   \n",
       "PI041-03-03  1.167550  0.088899  3.262463  0.517891  0.821116  0.311131   \n",
       "\n",
       "                    F         S        Cl  total  \n",
       "name                                              \n",
       "PI032-04-01  0.078857  0.145452  0.033958    100  \n",
       "PI032-04-02  0.083879  0.165394  0.044540    100  \n",
       "PI041-02-02  0.047654  0.068020  0.021157    100  \n",
       "PI041-03-01  0.079499  0.086863  0.054123    100  \n",
       "PI041-03-03  0.081713  0.079495  0.055540    100  "
      ]
     },
     "execution_count": 6,
     "metadata": {},
     "output_type": "execute_result"
    }
   ],
   "source": [
    "melt_file = \"./data/melts.csv\"\n",
    "\n",
    "melt = mp.read_melt(melt_file, index_col=[\"name\"])\n",
    "melt.head()"
   ]
  },
  {
   "cell_type": "markdown",
   "metadata": {},
   "source": [
    "On top of the regular MagmaFrame methods, Melt has additional methods for calculating\n",
    "\n",
    "- NBO/T,\n",
    "- melt densities,\n",
    "- liquidus temperatures,\n",
    "- Fe3+/Fe2+ ratios,\n",
    "- melt FeO and Fe2O3,\n",
    "- olivine-melt Fe-Mg partitioning coefficients and\n",
    "- H2O-CO2 saturation pressures."
   ]
  },
  {
   "cell_type": "markdown",
   "metadata": {},
   "source": [
    "Let's check the current configuration of MagmaPandas ..."
   ]
  },
  {
   "cell_type": "code",
   "execution_count": 7,
   "metadata": {},
   "outputs": [
    {
     "name": "stdout",
     "output_type": "stream",
     "text": [
      "\n",
      "################ MagmaPandas ################\n",
      "#############################################\n",
      "General settings_____________________________\n",
      "fO2 buffer................................QFM\n",
      "Δ fO2.......................................1\n",
      "Melt Fe3+/Fe2+........................Sun2024\n",
      "Kd Fe-Mg ol-melt.......................toplis\n",
      "Melt thermometer...............putirka2008_15\n",
      "Volatile solubility model......IaconoMarziano\n",
      "Volatile species........................mixed\n"
     ]
    }
   ],
   "source": [
    "print(mp.configuration)"
   ]
  },
  {
   "cell_type": "markdown",
   "metadata": {},
   "source": [
    "... and calculate liquidus temperatures with a melt-only thermometer at 4 kbar. The configuration is currently set to use equation 15 from Putirka (2008)."
   ]
  },
  {
   "cell_type": "code",
   "execution_count": 12,
   "metadata": {},
   "outputs": [
    {
     "data": {
      "text/plain": [
       "name\n",
       "PI032-04-01    1443.385914\n",
       "PI032-04-02    1445.564297\n",
       "PI041-02-02    1412.625935\n",
       "PI041-03-01    1470.801711\n",
       "PI041-03-03    1469.717871\n",
       "PI041-05-04    1392.562896\n",
       "PI041-05-06    1417.312468\n",
       "PI041-07-01    1458.806150\n",
       "PI041-07-02    1463.178696\n",
       "PI052-01-02    1381.292654\n",
       "Name: T_K, dtype: float64"
      ]
     },
     "execution_count": 12,
     "metadata": {},
     "output_type": "execute_result"
    }
   ],
   "source": [
    "P_bar = 4e3\n",
    "\n",
    "temperatures = melt.temperature(P_bar=P_bar)\n",
    "temperatures"
   ]
  },
  {
   "cell_type": "markdown",
   "metadata": {},
   "source": [
    "We can switch to a different thermometer by changing the configuration:"
   ]
  },
  {
   "cell_type": "code",
   "execution_count": null,
   "metadata": {},
   "outputs": [],
   "source": [
    "mp.configuration.melt_thermometer = \"putirka2008_16\"\n",
    "\n",
    "temperatures_new = melt.temperature(P_bar=P_bar)\n",
    "temperatures_new"
   ]
  },
  {
   "cell_type": "markdown",
   "metadata": {},
   "source": [
    "With these temperatures we can calculate melt Fe3+/Fe2+ ratios. The configuration is currently set to fO2 buffered at QFM+1 and the Borisov et al. (2018) Fe3+/Fe2+ model."
   ]
  },
  {
   "cell_type": "code",
   "execution_count": null,
   "metadata": {},
   "outputs": [],
   "source": [
    "melt.head()"
   ]
  },
  {
   "cell_type": "code",
   "execution_count": null,
   "metadata": {},
   "outputs": [],
   "source": [
    "print(mp.configuration)\n",
    "mp.configuration.dfO2 = 2"
   ]
  },
  {
   "cell_type": "code",
   "execution_count": null,
   "metadata": {},
   "outputs": [],
   "source": [
    "moles = melt.moles"
   ]
  },
  {
   "cell_type": "code",
   "execution_count": null,
   "metadata": {},
   "outputs": [],
   "source": [
    "moles.FeO_Fe2O3_calc(0.33, wtpc=False)"
   ]
  },
  {
   "cell_type": "code",
   "execution_count": null,
   "metadata": {},
   "outputs": [],
   "source": [
    "mp.configuration.Fe3Fe2_model = \"borisov\"\n",
    "Fe3Fe2_QFM1 = melt.Fe3Fe2(T_K=temperatures, P_bar=P_bar)\n",
    "Fe3Fe2_QFM1"
   ]
  },
  {
   "cell_type": "markdown",
   "metadata": {},
   "source": [
    "Changing the fO2 buffer to lower log offset values reduces the amount of Fe3+"
   ]
  },
  {
   "cell_type": "code",
   "execution_count": null,
   "metadata": {},
   "outputs": [],
   "source": [
    "mp.configuration.dfO2 = 0\n",
    "\n",
    "melt.Fe3Fe2(T_K=temperatures, P_bar=P_bar)"
   ]
  },
  {
   "cell_type": "markdown",
   "metadata": {},
   "source": [
    "With our Fe3+/Fe2+ ratios we can calculate melt FeO and Fe2O3 contents"
   ]
  },
  {
   "cell_type": "code",
   "execution_count": null,
   "metadata": {},
   "outputs": [],
   "source": [
    "melt.FeO_Fe2O3_calc(Fe3Fe2=Fe3Fe2_QFM1)"
   ]
  },
  {
   "cell_type": "markdown",
   "metadata": {},
   "source": [
    "Our melts also contain H2O and CO2, so let's calculate volatile saturation pressures. In the configuration we see that we're currently using the Iacono-Marziano et al. (2012) model with mixed CO2-H2O fluids:"
   ]
  },
  {
   "cell_type": "code",
   "execution_count": null,
   "metadata": {},
   "outputs": [],
   "source": [
    "print(mp.configuration)"
   ]
  },
  {
   "cell_type": "code",
   "execution_count": null,
   "metadata": {},
   "outputs": [],
   "source": [
    "pressures_IM2012 = melt.volatile_saturation_pressure(T_K=temperatures)\n",
    "pressures_IM2012"
   ]
  },
  {
   "cell_type": "markdown",
   "metadata": {},
   "source": [
    "Lets change the volatile solubility model to Allison et al. (2022):"
   ]
  },
  {
   "cell_type": "code",
   "execution_count": null,
   "metadata": {},
   "outputs": [],
   "source": [
    "mp.configuration.volatile_solubility = 'Allison2022'\n",
    "print(mp.configuration)"
   ]
  },
  {
   "cell_type": "code",
   "execution_count": null,
   "metadata": {},
   "outputs": [],
   "source": [
    "pressures_A22 = melt.volatile_saturation_pressure(T_K=temperatures)\n",
    "pressures_A22"
   ]
  }
 ],
 "metadata": {
  "kernelspec": {
   "display_name": "py310",
   "language": "python",
   "name": "python3"
  },
  "language_info": {
   "codemirror_mode": {
    "name": "ipython",
    "version": 3
   },
   "file_extension": ".py",
   "mimetype": "text/x-python",
   "name": "python",
   "nbconvert_exporter": "python",
   "pygments_lexer": "ipython3",
   "version": "3.10.13"
  }
 },
 "nbformat": 4,
 "nbformat_minor": 2
}
