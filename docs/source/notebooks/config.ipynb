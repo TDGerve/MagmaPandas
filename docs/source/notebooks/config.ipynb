{
 "cells": [
  {
   "cell_type": "markdown",
   "metadata": {},
   "source": [
    "# Configuration"
   ]
  },
  {
   "cell_type": "markdown",
   "metadata": {},
   "source": [
    "See the current settings by printing the configuration class:"
   ]
  },
  {
   "cell_type": "code",
   "execution_count": 1,
   "metadata": {},
   "outputs": [
    {
     "name": "stdout",
     "output_type": "stream",
     "text": [
      "\n",
      "################ MagmaPandas ################\n",
      "#############################################\n",
      "General settings_____________________________\n",
      "fO2 buffer................................QFM\n",
      "Δ buffer....................................1\n",
      "Melt Fe3+/Fe2+........................borisov\n",
      "Kd Fe-Mg ol-melt.......................toplis\n",
      "Melt thermometer...............putirka2008_15\n",
      "Volatile solubility model......IaconoMarziano\n",
      "Volatile species........................mixed\n"
     ]
    }
   ],
   "source": [
    "import MagmaPandas as mp\n",
    "\n",
    "print(mp.configuration)"
   ]
  },
  {
   "cell_type": "markdown",
   "metadata": {},
   "source": [
    "Print the configuration options to see all optional settings and models currently implemented in MagmaPandas"
   ]
  },
  {
   "cell_type": "code",
   "execution_count": 2,
   "metadata": {},
   "outputs": [
    {
     "name": "stdout",
     "output_type": "stream",
     "text": [
      "\n",
      "################################ MagmaPandas #################################\n",
      "##############################################################################\n",
      "Configuration options_________________________________________________________\n",
      "fO2 buffers................................................................QFM\n",
      "Melt Fe3+/Fe2+ models.................................borisov, kressCarmichael\n",
      "Ol-melt Fe-Mg Kd models.........................................toplis, blundy\n",
      "Melt thermometers...............putirka2008_14, putirka2008_15, putirka2008_16\n",
      "Volatile solubility models...............IaconoMarziano, Allison2022, Shiskina\n",
      "Volatile species...............................................co2, h2o, mixed\n"
     ]
    }
   ],
   "source": [
    "print(mp.configuration_options)"
   ]
  },
  {
   "cell_type": "markdown",
   "metadata": {},
   "source": [
    "Change settings by setting attribute values:"
   ]
  },
  {
   "cell_type": "code",
   "execution_count": 3,
   "metadata": {},
   "outputs": [
    {
     "name": "stdout",
     "output_type": "stream",
     "text": [
      "\n",
      "################ MagmaPandas ################\n",
      "#############################################\n",
      "General settings_____________________________\n",
      "fO2 buffer................................QFM\n",
      "Δ buffer....................................0\n",
      "Melt Fe3+/Fe2+................kressCarmichael\n",
      "Kd Fe-Mg ol-melt.......................blundy\n",
      "Melt thermometer...............putirka2008_15\n",
      "Volatile solubility model......IaconoMarziano\n",
      "Volatile species........................mixed\n"
     ]
    }
   ],
   "source": [
    "mp.configuration.dQFM = 0\n",
    "mp.configuration.Fe3Fe2_model = 'kressCarmichael'\n",
    "mp.configuration.Kd_model = 'blundy'\n",
    "\n",
    "print(mp.configuration)"
   ]
  },
  {
   "cell_type": "markdown",
   "metadata": {},
   "source": [
    "MagmaPandas raises an error when invalid values are used and shows the valid options:"
   ]
  },
  {
   "cell_type": "code",
   "execution_count": 4,
   "metadata": {},
   "outputs": [
    {
     "ename": "ValueError",
     "evalue": "'some thermometer' is not recognised, please choose from: ('putirka2008_14', 'putirka2008_15', 'putirka2008_16')",
     "output_type": "error",
     "traceback": [
      "\u001b[0;31m---------------------------------------------------------------------------\u001b[0m",
      "\u001b[0;31mValueError\u001b[0m                                Traceback (most recent call last)",
      "Cell \u001b[0;32mIn[4], line 1\u001b[0m\n\u001b[0;32m----> 1\u001b[0m mp\u001b[39m.\u001b[39;49mconfiguration\u001b[39m.\u001b[39;49mmelt_thermometer \u001b[39m=\u001b[39m \u001b[39m\"\u001b[39m\u001b[39msome thermometer\u001b[39m\u001b[39m\"\u001b[39m\n",
      "File \u001b[0;32m~/Dropbox/research/python/packages/MagmaPandas/src/MagmaPandas/parse_io/validate.py:56\u001b[0m, in \u001b[0;36m_check_setter.<locals>.decorator.<locals>.wrapper\u001b[0;34m(*args)\u001b[0m\n\u001b[1;32m     54\u001b[0m \u001b[39melif\u001b[39;00m \u001b[39misinstance\u001b[39m(var, \u001b[39mstr\u001b[39m):\n\u001b[1;32m     55\u001b[0m     \u001b[39mif\u001b[39;00m var \u001b[39mnot\u001b[39;00m \u001b[39min\u001b[39;00m allowed_values:\n\u001b[0;32m---> 56\u001b[0m         \u001b[39mraise\u001b[39;00m \u001b[39mValueError\u001b[39;00m(\n\u001b[1;32m     57\u001b[0m             \u001b[39mf\u001b[39m\u001b[39m\"\u001b[39m\u001b[39m'\u001b[39m\u001b[39m{\u001b[39;00mvar\u001b[39m}\u001b[39;00m\u001b[39m'\u001b[39m\u001b[39m is not recognised, please choose from: \u001b[39m\u001b[39m{\u001b[39;00m\u001b[39m*\u001b[39mallowed_values,\u001b[39m}\u001b[39;00m\u001b[39m\"\u001b[39m\n\u001b[1;32m     58\u001b[0m         )\n\u001b[1;32m     59\u001b[0m \u001b[39mreturn\u001b[39;00m func(\u001b[39m*\u001b[39margs)\n",
      "\u001b[0;31mValueError\u001b[0m: 'some thermometer' is not recognised, please choose from: ('putirka2008_14', 'putirka2008_15', 'putirka2008_16')"
     ]
    }
   ],
   "source": [
    "mp.configuration.melt_thermometer = \"some thermometer\""
   ]
  },
  {
   "cell_type": "markdown",
   "metadata": {},
   "source": [
    "Reset to default values:"
   ]
  },
  {
   "cell_type": "code",
   "execution_count": 5,
   "metadata": {},
   "outputs": [
    {
     "name": "stdout",
     "output_type": "stream",
     "text": [
      "\n",
      "################ MagmaPandas ################\n",
      "#############################################\n",
      "General settings_____________________________\n",
      "fO2 buffer................................QFM\n",
      "Δ buffer....................................1\n",
      "Melt Fe3+/Fe2+........................borisov\n",
      "Kd Fe-Mg ol-melt.......................toplis\n",
      "Melt thermometer...............putirka2008_15\n",
      "Volatile solubility model......IaconoMarziano\n",
      "Volatile species........................mixed\n"
     ]
    }
   ],
   "source": [
    "mp.configuration.reset()\n",
    "print(mp.configuration)"
   ]
  }
 ],
 "metadata": {
  "kernelspec": {
   "display_name": "py310",
   "language": "python",
   "name": "python3"
  },
  "language_info": {
   "codemirror_mode": {
    "name": "ipython",
    "version": 3
   },
   "file_extension": ".py",
   "mimetype": "text/x-python",
   "name": "python",
   "nbconvert_exporter": "python",
   "pygments_lexer": "ipython3",
   "version": "3.10.13"
  }
 },
 "nbformat": 4,
 "nbformat_minor": 2
}
