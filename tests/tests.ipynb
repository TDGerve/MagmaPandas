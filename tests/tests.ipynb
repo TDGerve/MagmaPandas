{
 "cells": [
  {
   "cell_type": "code",
   "execution_count": 1,
   "metadata": {},
   "outputs": [],
   "source": [
    "# import pandas as pd\n",
    "import MagmaPandas as mp\n",
    "import MagmaPandas.parse.readers as r\n",
    "import pandas as pd\n",
    "import elements as e\n"
   ]
  },
  {
   "cell_type": "code",
   "execution_count": 2,
   "metadata": {},
   "outputs": [
    {
     "name": "stdout",
     "output_type": "stream",
     "text": [
      "Kd Fe-Mg ol-melt.............toplis\n",
      "melt Fe3+/Fe2+..............borisov\n"
     ]
    }
   ],
   "source": [
    "config = mp.configuration()\n",
    "config.print()"
   ]
  },
  {
   "cell_type": "code",
   "execution_count": 3,
   "metadata": {},
   "outputs": [
    {
     "name": "stdout",
     "output_type": "stream",
     "text": [
      "None None\n",
      "None None\n"
     ]
    }
   ],
   "source": [
    "melt = mp.read_file('./melt.csv', index_col=['name'], total_col='total', units=\"wt. %\", Type=\"oxide\")\n",
    "t = melt.iloc[0,:]"
   ]
  },
  {
   "cell_type": "code",
   "execution_count": 4,
   "metadata": {},
   "outputs": [
    {
     "data": {
      "text/plain": [
       "'None None'"
      ]
     },
     "execution_count": 4,
     "metadata": {},
     "output_type": "execute_result"
    }
   ],
   "source": [
    "t.units\n"
   ]
  },
  {
   "cell_type": "code",
   "execution_count": null,
   "metadata": {},
   "outputs": [],
   "source": [
    "sample = \"PI052-02-01\"\n",
    "FeO_initial = 11.2\n",
    "Kd = 0.29\n",
    "P_bar = 1e3"
   ]
  },
  {
   "cell_type": "code",
   "execution_count": null,
   "metadata": {},
   "outputs": [],
   "source": [
    "melt.Fe_loss_sample(sample, FeO_initial, Kd, P_bar)"
   ]
  },
  {
   "cell_type": "code",
   "execution_count": null,
   "metadata": {},
   "outputs": [],
   "source": []
  },
  {
   "cell_type": "code",
   "execution_count": 7,
   "metadata": {},
   "outputs": [
    {
     "data": {
      "text/plain": [
       "SiO2    60.084\n",
       "FeO     71.844\n",
       "MgO     40.304\n",
       "Name: weight, dtype: float64"
      ]
     },
     "execution_count": 7,
     "metadata": {},
     "output_type": "execute_result"
    }
   ],
   "source": [
    "comp = {\"SiO2\": 40, \"FeO\": 15, \"MgO\": 45}\n",
    "\n",
    "ol = mp.MagmaSeries(comp, units=\"wt. %\", datatype=\"oxide\")\n",
    "ol.weights"
   ]
  },
  {
   "cell_type": "code",
   "execution_count": null,
   "metadata": {},
   "outputs": [],
   "source": [
    "            def _c(*args, **kwargs):\n",
    "                return MagmaSeries(*args, **kwargs).__finalize__(self)\n",
    "\n",
    "            return _c\n",
    "\n"
   ]
  }
 ],
 "metadata": {
  "interpreter": {
   "hash": "fb06a6baa6d44fd72e554eb3999baf3be698845450cddd4e9be77580a1d54969"
  },
  "kernelspec": {
   "display_name": "Python 3.8.12 ('py38')",
   "language": "python",
   "name": "python3"
  },
  "language_info": {
   "codemirror_mode": {
    "name": "ipython",
    "version": 3
   },
   "file_extension": ".py",
   "mimetype": "text/x-python",
   "name": "python",
   "nbconvert_exporter": "python",
   "pygments_lexer": "ipython3",
   "version": "3.8.12"
  },
  "orig_nbformat": 4
 },
 "nbformat": 4,
 "nbformat_minor": 2
}
