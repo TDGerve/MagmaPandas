{
 "cells": [
  {
   "cell_type": "code",
   "execution_count": 45,
   "metadata": {},
   "outputs": [
    {
     "ename": "ModuleNotFoundError",
     "evalue": "No module named 'MagmaPandas'",
     "output_type": "error",
     "traceback": [
      "\u001b[0;31m---------------------------------------------------------------------------\u001b[0m",
      "\u001b[0;31mModuleNotFoundError\u001b[0m                       Traceback (most recent call last)",
      "\u001b[1;32m/Users/thomas/Desktop/MagmaPandas/tests/tests.ipynb Cell 1'\u001b[0m in \u001b[0;36m<module>\u001b[0;34m\u001b[0m\n\u001b[1;32m      <a href='vscode-notebook-cell:/Users/thomas/Desktop/MagmaPandas/tests/tests.ipynb#ch0000000?line=0'>1</a>\u001b[0m \u001b[39m# import pandas as pd\u001b[39;00m\n\u001b[0;32m----> <a href='vscode-notebook-cell:/Users/thomas/Desktop/MagmaPandas/tests/tests.ipynb#ch0000000?line=1'>2</a>\u001b[0m \u001b[39mimport\u001b[39;00m \u001b[39mMagmaPandas\u001b[39;00m \u001b[39mas\u001b[39;00m \u001b[39mmp\u001b[39;00m\n\u001b[1;32m      <a href='vscode-notebook-cell:/Users/thomas/Desktop/MagmaPandas/tests/tests.ipynb#ch0000000?line=2'>3</a>\u001b[0m \u001b[39mimport\u001b[39;00m \u001b[39mMagmaPandas\u001b[39;00m\u001b[39m.\u001b[39;00m\u001b[39mparse\u001b[39;00m\u001b[39m.\u001b[39;00m\u001b[39mreaders\u001b[39;00m \u001b[39mas\u001b[39;00m \u001b[39mr\u001b[39;00m\n\u001b[1;32m      <a href='vscode-notebook-cell:/Users/thomas/Desktop/MagmaPandas/tests/tests.ipynb#ch0000000?line=3'>4</a>\u001b[0m \u001b[39mimport\u001b[39;00m \u001b[39mpandas\u001b[39;00m \u001b[39mas\u001b[39;00m \u001b[39mpd\u001b[39;00m\n",
      "\u001b[0;31mModuleNotFoundError\u001b[0m: No module named 'MagmaPandas'"
     ]
    }
   ],
   "source": [
    "# import pandas as pd\n",
    "import MagmaPandas as mp\n",
    "import MagmaPandas.parse.readers as r\n",
    "import pandas as pd\n",
    "import elements as e\n"
   ]
  },
  {
   "cell_type": "code",
   "execution_count": null,
   "metadata": {},
   "outputs": [],
   "source": [
    "melt = mp.read_melt('./melt.csv', index_col=['name'], total_col='total')\n",
    "P_bar = 1e3\n",
    "T_K = melt.temperature(P_bar)\n",
    "Fe3Fe2 = melt.Fe3Fe2_QFM(T_K, P_bar, 1)"
   ]
  },
  {
   "cell_type": "code",
   "execution_count": null,
   "metadata": {},
   "outputs": [],
   "source": [
    "(melt.Kd_olivine_FeMg(0.8, T_K, Fe3Fe2, P_bar, model='blundy'),\n",
    "melt.Kd_olivine_FeMg(0.8, T_K, Fe3Fe2, P_bar, model='toplis'))"
   ]
  },
  {
   "cell_type": "code",
   "execution_count": 40,
   "metadata": {},
   "outputs": [],
   "source": [
    "class t:\n",
    "    _m = 4\n",
    "\n",
    "\n",
    "    @property\n",
    "    def m(cls):\n",
    "        return t._m\n",
    "\n",
    "    @m.setter\n",
    "    def m(cls, value):\n",
    "        t._m = value\n",
    "\n"
   ]
  },
  {
   "cell_type": "code",
   "execution_count": 44,
   "metadata": {},
   "outputs": [
    {
     "name": "stdout",
     "output_type": "stream",
     "text": [
      "6\n",
      "kl\n"
     ]
    }
   ],
   "source": [
    "t().m = 6\n",
    "print(t().m)\n",
    "t().m = 'kl'\n",
    "print(t().m)"
   ]
  }
 ],
 "metadata": {
  "interpreter": {
   "hash": "c6c7c6c75c639684a87f042d4cc57eb339ccb9f45c2c3b3a53b6aee0079e5f91"
  },
  "kernelspec": {
   "display_name": "Python 3.8.12 ('py38')",
   "language": "python",
   "name": "python3"
  },
  "language_info": {
   "codemirror_mode": {
    "name": "ipython",
    "version": 3
   },
   "file_extension": ".py",
   "mimetype": "text/x-python",
   "name": "python",
   "nbconvert_exporter": "python",
   "pygments_lexer": "ipython3",
   "version": "3.8.12"
  },
  "orig_nbformat": 4
 },
 "nbformat": 4,
 "nbformat_minor": 2
}
