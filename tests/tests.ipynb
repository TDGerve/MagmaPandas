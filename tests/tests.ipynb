{
 "cells": [
  {
   "cell_type": "code",
   "execution_count": 1,
   "metadata": {},
   "outputs": [],
   "source": [
    "# import pandas as pd\n",
    "import MagmaPandas as mp\n",
    "import MagmaPandas.parse.readers as r\n",
    "import pandas as pd\n",
    "import elements as e\n"
   ]
  },
  {
   "cell_type": "code",
   "execution_count": 2,
   "metadata": {},
   "outputs": [
    {
     "name": "stderr",
     "output_type": "stream",
     "text": [
      "c:\\data\\dropbox\\python\\packages\\magmapandas\\src\\MagmaPandas\\geochemistry\\fO2.py:161: UserWarning: Temperatures above 1420K present\n",
      "  w.warn(\"Temperatures above 1420K present\")\n"
     ]
    }
   ],
   "source": [
    "melt = mp.read_melt('./melt.csv', index_col=['name'], total_col='total')\n",
    "P_bar = 1e3\n",
    "T_K = melt.temperature(P_bar)\n",
    "Fe3Fe2 = melt.Fe3Fe2_QFM(T_K, P_bar, 1)"
   ]
  },
  {
   "cell_type": "code",
   "execution_count": 3,
   "metadata": {},
   "outputs": [
    {
     "data": {
      "text/plain": [
       "name\n",
       "PI054-07-06    0.292857\n",
       "PI054-07-05    0.284704\n",
       "PI056-04-02    0.292042\n",
       "PI116-04-01    0.299680\n",
       "PI056-05-01    0.294827\n",
       "PI089-03-01    0.293514\n",
       "PI074-05-01    0.272301\n",
       "PI052-02-01    0.285433\n",
       "PI056-04-03    0.296430\n",
       "PI085-04-02    0.291266\n",
       "PI052-03-04    0.288270\n",
       "PI085-04-05    0.301234\n",
       "PI085-01-01    0.300167\n",
       "PI085-01-06    0.301790\n",
       "PI085-03-02    0.292774\n",
       "PI052-03-02    0.288410\n",
       "PI085-03-01    0.288974\n",
       "PI085-01-05    0.297549\n",
       "PI085-02-01    0.294553\n",
       "PI052-05-01    0.285048\n",
       "dtype: float64"
      ]
     },
     "execution_count": 3,
     "metadata": {},
     "output_type": "execute_result"
    }
   ],
   "source": [
    "melt.Kd_olivine_FeMg(0.8, T_K, Fe3Fe2, P_bar, model='toplis')"
   ]
  },
  {
   "cell_type": "code",
   "execution_count": null,
   "metadata": {},
   "outputs": [],
   "source": []
  }
 ],
 "metadata": {
  "interpreter": {
   "hash": "fb06a6baa6d44fd72e554eb3999baf3be698845450cddd4e9be77580a1d54969"
  },
  "kernelspec": {
   "display_name": "Python 3.8.12 ('py38')",
   "language": "python",
   "name": "python3"
  },
  "language_info": {
   "codemirror_mode": {
    "name": "ipython",
    "version": 3
   },
   "file_extension": ".py",
   "mimetype": "text/x-python",
   "name": "python",
   "nbconvert_exporter": "python",
   "pygments_lexer": "ipython3",
   "version": "3.8.12"
  },
  "orig_nbformat": 4
 },
 "nbformat": 4,
 "nbformat_minor": 2
}
