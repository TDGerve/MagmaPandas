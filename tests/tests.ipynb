{
 "cells": [
  {
   "cell_type": "code",
   "execution_count": 1,
   "metadata": {},
   "outputs": [],
   "source": [
    "# import pandas as pd\n",
    "import MagmaPandas as mp\n",
    "import MagmaPandas.parse.readers as r\n",
    "import pandas as pd\n",
    "import elements as e\n"
   ]
  },
  {
   "cell_type": "code",
   "execution_count": 2,
   "metadata": {},
   "outputs": [],
   "source": [
    "melt = mp.read_melt('./melt.csv', index_col=['name'], total_col='total')"
   ]
  },
  {
   "cell_type": "code",
   "execution_count": 3,
   "metadata": {},
   "outputs": [
    {
     "data": {
      "text/plain": [
       "name\n",
       "PI116-02-06    1374.443241\n",
       "PI116-02-09    1368.365695\n",
       "PI074-01-01    1300.916112\n",
       "PI074-03-02    1377.095994\n",
       "PI074-01-03    1317.153563\n",
       "PI114-03-04    1405.836891\n",
       "PI074-01-04    1341.605010\n",
       "PI114-03-02    1402.666356\n",
       "PI074-03-01    1350.568523\n",
       "PI074-04-03    1383.273993\n",
       "PI071-01-03    1398.554932\n",
       "PI097-03-03    1400.182253\n",
       "PI114-03-01    1406.824521\n",
       "PI114-04-04    1339.472479\n",
       "PI082-03-02    1409.082657\n",
       "PI052-05-01    1414.404673\n",
       "PI116-02-07    1370.536820\n",
       "PI097-02-02    1398.107481\n",
       "PI052-03-02    1417.079516\n",
       "PI071-02-01    1378.883776\n",
       "Name: T_K, dtype: float64"
      ]
     },
     "execution_count": 3,
     "metadata": {},
     "output_type": "execute_result"
    }
   ],
   "source": [
    "melt.temperature(P_bar=1e3)"
   ]
  },
  {
   "cell_type": "code",
   "execution_count": null,
   "metadata": {},
   "outputs": [],
   "source": []
  }
 ],
 "metadata": {
  "interpreter": {
   "hash": "fb06a6baa6d44fd72e554eb3999baf3be698845450cddd4e9be77580a1d54969"
  },
  "kernelspec": {
   "display_name": "Python 3.8.12 ('py38')",
   "language": "python",
   "name": "python3"
  },
  "language_info": {
   "codemirror_mode": {
    "name": "ipython",
    "version": 3
   },
   "file_extension": ".py",
   "mimetype": "text/x-python",
   "name": "python",
   "nbconvert_exporter": "python",
   "pygments_lexer": "ipython3",
   "version": "3.8.12"
  },
  "orig_nbformat": 4
 },
 "nbformat": 4,
 "nbformat_minor": 2
}
