{
 "cells": [
  {
   "cell_type": "code",
   "execution_count": 1,
   "metadata": {},
   "outputs": [],
   "source": [
    "# import pandas as pd\n",
    "import MagmaPandas as mp\n",
    "import MagmaPandas.parse.readers as r\n",
    "import pandas as pd\n",
    "import elements as e\n",
    "\n",
    "config = mp.configuration()"
   ]
  },
  {
   "cell_type": "code",
   "execution_count": 2,
   "metadata": {},
   "outputs": [
    {
     "name": "stdout",
     "output_type": "stream",
     "text": [
      "Kd Fe-Mg ol-melt.............toplis\n",
      "melt Fe3+/Fe2+..............borisov\n",
      "melt thermometer.....putirka2008_14\n"
     ]
    }
   ],
   "source": [
    "config.print()"
   ]
  },
  {
   "cell_type": "code",
   "execution_count": 3,
   "metadata": {},
   "outputs": [],
   "source": [
    "melt = mp.read_melt_inclusion('./melt.csv', index_col=['name'], total_col='total')"
   ]
  },
  {
   "cell_type": "code",
   "execution_count": 41,
   "metadata": {},
   "outputs": [],
   "source": [
    "sample = \"PI052-02-01\"\n",
    "FeO_initial = 15\n",
    "Fo_host = 0.6\n",
    "Kd = 0.29\n",
    "P_bar = 1e3\n",
    "inclusion = melt.loc[sample,melt.elements]"
   ]
  },
  {
   "cell_type": "code",
   "execution_count": 46,
   "metadata": {},
   "outputs": [
    {
     "name": "stderr",
     "output_type": "stream",
     "text": [
      "/Users/thomas/Desktop/MagmaPandas/src/MagmaPandas/geochemistry/fO2.py:161: UserWarning: O'Neill fO2: temperatures above 1420K present\n",
      "  w.warn(\"O'Neill fO2: temperatures above 1420K present\")\n"
     ]
    }
   ],
   "source": [
    "w, o1, o2, oc = mp.melt_inclusion.Fe_restore(inclusion, FeO_initial, P_bar, temperature_converge=0.2)"
   ]
  },
  {
   "cell_type": "code",
   "execution_count": 47,
   "metadata": {},
   "outputs": [
    {
     "data": {
      "text/plain": [
       "[<matplotlib.lines.Line2D at 0x147b8fd00>]"
      ]
     },
     "execution_count": 47,
     "metadata": {},
     "output_type": "execute_result"
    },
    {
     "data": {
      "image/png": "[encoded data removed]",
      "text/plain": [
       "<Figure size 432x288 with 1 Axes>"
      ]
     },
     "metadata": {
      "needs_background": "light"
     },
     "output_type": "display_data"
    }
   ],
   "source": [
    "import matplotlib.pyplot as plt\n",
    "\n",
    "plt.plot(w[\"MgO\"], w[\"FeO\"], \"o\")"
   ]
  },
  {
   "cell_type": "code",
   "execution_count": 34,
   "metadata": {},
   "outputs": [
    {
     "data": {
      "text/plain": [
       "(0.6, 0.6005797641285129)"
      ]
     },
     "execution_count": 34,
     "metadata": {},
     "output_type": "execute_result"
    }
   ],
   "source": [
    "o1, o2"
   ]
  },
  {
   "cell_type": "code",
   "execution_count": 33,
   "metadata": {},
   "outputs": [
    {
     "data": {
      "text/html": [
       "<div>\n",
       "<style scoped>\n",
       "    .dataframe tbody tr th:only-of-type {\n",
       "        vertical-align: middle;\n",
       "    }\n",
       "\n",
       "    .dataframe tbody tr th {\n",
       "        vertical-align: top;\n",
       "    }\n",
       "\n",
       "    .dataframe thead th {\n",
       "        text-align: right;\n",
       "    }\n",
       "</style>\n",
       "<table border=\"1\" class=\"dataframe\">\n",
       "  <thead>\n",
       "    <tr style=\"text-align: right;\">\n",
       "      <th></th>\n",
       "      <th>SiO2</th>\n",
       "      <th>Al2O3</th>\n",
       "      <th>MgO</th>\n",
       "      <th>CaO</th>\n",
       "      <th>FeO</th>\n",
       "      <th>Na2O</th>\n",
       "      <th>K2O</th>\n",
       "      <th>MnO</th>\n",
       "      <th>TiO2</th>\n",
       "      <th>P2O5</th>\n",
       "      <th>Cr2O3</th>\n",
       "      <th>CO2</th>\n",
       "      <th>H2O</th>\n",
       "      <th>F</th>\n",
       "      <th>S</th>\n",
       "      <th>Cl</th>\n",
       "      <th>total</th>\n",
       "    </tr>\n",
       "  </thead>\n",
       "  <tbody>\n",
       "    <tr>\n",
       "      <th>0.000</th>\n",
       "      <td>47.272428</td>\n",
       "      <td>13.883047</td>\n",
       "      <td>7.025581</td>\n",
       "      <td>13.448164</td>\n",
       "      <td>8.780215</td>\n",
       "      <td>3.924017</td>\n",
       "      <td>1.112375</td>\n",
       "      <td>0.104694</td>\n",
       "      <td>2.110996</td>\n",
       "      <td>0.676485</td>\n",
       "      <td>0.034227</td>\n",
       "      <td>0.260729</td>\n",
       "      <td>1.063126</td>\n",
       "      <td>0.077413</td>\n",
       "      <td>0.175463</td>\n",
       "      <td>0.051038</td>\n",
       "      <td>100.0</td>\n",
       "    </tr>\n",
       "    <tr>\n",
       "      <th>-0.001</th>\n",
       "      <td>47.238016</td>\n",
       "      <td>13.856301</td>\n",
       "      <td>7.011415</td>\n",
       "      <td>13.422255</td>\n",
       "      <td>8.899926</td>\n",
       "      <td>3.916457</td>\n",
       "      <td>1.110232</td>\n",
       "      <td>0.104492</td>\n",
       "      <td>2.106929</td>\n",
       "      <td>0.675182</td>\n",
       "      <td>0.034161</td>\n",
       "      <td>0.260226</td>\n",
       "      <td>1.061077</td>\n",
       "      <td>0.077264</td>\n",
       "      <td>0.175125</td>\n",
       "      <td>0.050940</td>\n",
       "      <td>100.0</td>\n",
       "    </tr>\n",
       "    <tr>\n",
       "      <th>-0.002</th>\n",
       "      <td>47.203246</td>\n",
       "      <td>13.828793</td>\n",
       "      <td>6.999542</td>\n",
       "      <td>13.395610</td>\n",
       "      <td>9.019724</td>\n",
       "      <td>3.908682</td>\n",
       "      <td>1.108028</td>\n",
       "      <td>0.104285</td>\n",
       "      <td>2.102746</td>\n",
       "      <td>0.673842</td>\n",
       "      <td>0.034093</td>\n",
       "      <td>0.259710</td>\n",
       "      <td>1.058971</td>\n",
       "      <td>0.077111</td>\n",
       "      <td>0.174778</td>\n",
       "      <td>0.050839</td>\n",
       "      <td>100.0</td>\n",
       "    </tr>\n",
       "    <tr>\n",
       "      <th>-0.003</th>\n",
       "      <td>47.168985</td>\n",
       "      <td>13.802221</td>\n",
       "      <td>6.985150</td>\n",
       "      <td>13.369870</td>\n",
       "      <td>9.139047</td>\n",
       "      <td>3.901171</td>\n",
       "      <td>1.105899</td>\n",
       "      <td>0.104085</td>\n",
       "      <td>2.098706</td>\n",
       "      <td>0.672547</td>\n",
       "      <td>0.034028</td>\n",
       "      <td>0.259211</td>\n",
       "      <td>1.056936</td>\n",
       "      <td>0.076963</td>\n",
       "      <td>0.174442</td>\n",
       "      <td>0.050741</td>\n",
       "      <td>100.0</td>\n",
       "    </tr>\n",
       "    <tr>\n",
       "      <th>-0.004</th>\n",
       "      <td>47.134366</td>\n",
       "      <td>13.774892</td>\n",
       "      <td>6.973029</td>\n",
       "      <td>13.343397</td>\n",
       "      <td>9.258466</td>\n",
       "      <td>3.893447</td>\n",
       "      <td>1.103709</td>\n",
       "      <td>0.103879</td>\n",
       "      <td>2.094551</td>\n",
       "      <td>0.671215</td>\n",
       "      <td>0.033960</td>\n",
       "      <td>0.258697</td>\n",
       "      <td>1.054843</td>\n",
       "      <td>0.076810</td>\n",
       "      <td>0.174096</td>\n",
       "      <td>0.050641</td>\n",
       "      <td>100.0</td>\n",
       "    </tr>\n",
       "    <tr>\n",
       "      <th>...</th>\n",
       "      <td>...</td>\n",
       "      <td>...</td>\n",
       "      <td>...</td>\n",
       "      <td>...</td>\n",
       "      <td>...</td>\n",
       "      <td>...</td>\n",
       "      <td>...</td>\n",
       "      <td>...</td>\n",
       "      <td>...</td>\n",
       "      <td>...</td>\n",
       "      <td>...</td>\n",
       "      <td>...</td>\n",
       "      <td>...</td>\n",
       "      <td>...</td>\n",
       "      <td>...</td>\n",
       "      <td>...</td>\n",
       "      <td>...</td>\n",
       "    </tr>\n",
       "    <tr>\n",
       "      <th>-0.107</th>\n",
       "      <td>43.900328</td>\n",
       "      <td>11.368906</td>\n",
       "      <td>5.098622</td>\n",
       "      <td>11.012777</td>\n",
       "      <td>20.765600</td>\n",
       "      <td>3.213399</td>\n",
       "      <td>0.910930</td>\n",
       "      <td>0.085735</td>\n",
       "      <td>1.728707</td>\n",
       "      <td>0.553978</td>\n",
       "      <td>0.028029</td>\n",
       "      <td>0.213512</td>\n",
       "      <td>0.870600</td>\n",
       "      <td>0.063394</td>\n",
       "      <td>0.143688</td>\n",
       "      <td>0.041796</td>\n",
       "      <td>100.0</td>\n",
       "    </tr>\n",
       "    <tr>\n",
       "      <th>-0.108</th>\n",
       "      <td>43.869089</td>\n",
       "      <td>11.345145</td>\n",
       "      <td>5.083142</td>\n",
       "      <td>10.989761</td>\n",
       "      <td>20.875511</td>\n",
       "      <td>3.206683</td>\n",
       "      <td>0.909026</td>\n",
       "      <td>0.085555</td>\n",
       "      <td>1.725094</td>\n",
       "      <td>0.552820</td>\n",
       "      <td>0.027970</td>\n",
       "      <td>0.213066</td>\n",
       "      <td>0.868780</td>\n",
       "      <td>0.063262</td>\n",
       "      <td>0.143388</td>\n",
       "      <td>0.041708</td>\n",
       "      <td>100.0</td>\n",
       "    </tr>\n",
       "    <tr>\n",
       "      <th>-0.109</th>\n",
       "      <td>43.841268</td>\n",
       "      <td>11.326492</td>\n",
       "      <td>5.056694</td>\n",
       "      <td>10.971693</td>\n",
       "      <td>20.979386</td>\n",
       "      <td>3.201411</td>\n",
       "      <td>0.907532</td>\n",
       "      <td>0.085415</td>\n",
       "      <td>1.722257</td>\n",
       "      <td>0.551911</td>\n",
       "      <td>0.027924</td>\n",
       "      <td>0.212716</td>\n",
       "      <td>0.867352</td>\n",
       "      <td>0.063158</td>\n",
       "      <td>0.143152</td>\n",
       "      <td>0.041640</td>\n",
       "      <td>100.0</td>\n",
       "    </tr>\n",
       "    <tr>\n",
       "      <th>-0.110</th>\n",
       "      <td>43.812218</td>\n",
       "      <td>11.306005</td>\n",
       "      <td>5.034188</td>\n",
       "      <td>10.951847</td>\n",
       "      <td>21.085429</td>\n",
       "      <td>3.195621</td>\n",
       "      <td>0.905890</td>\n",
       "      <td>0.085260</td>\n",
       "      <td>1.719142</td>\n",
       "      <td>0.550913</td>\n",
       "      <td>0.027874</td>\n",
       "      <td>0.212331</td>\n",
       "      <td>0.865783</td>\n",
       "      <td>0.063043</td>\n",
       "      <td>0.142893</td>\n",
       "      <td>0.041564</td>\n",
       "      <td>100.0</td>\n",
       "    </tr>\n",
       "    <tr>\n",
       "      <th>-0.111</th>\n",
       "      <td>43.781110</td>\n",
       "      <td>11.282448</td>\n",
       "      <td>5.018246</td>\n",
       "      <td>10.929028</td>\n",
       "      <td>21.195128</td>\n",
       "      <td>3.188962</td>\n",
       "      <td>0.904003</td>\n",
       "      <td>0.085083</td>\n",
       "      <td>1.715560</td>\n",
       "      <td>0.549765</td>\n",
       "      <td>0.027815</td>\n",
       "      <td>0.211888</td>\n",
       "      <td>0.863979</td>\n",
       "      <td>0.062912</td>\n",
       "      <td>0.142595</td>\n",
       "      <td>0.041478</td>\n",
       "      <td>100.0</td>\n",
       "    </tr>\n",
       "  </tbody>\n",
       "</table>\n",
       "<p>112 rows × 17 columns</p>\n",
       "</div>"
      ],
      "text/plain": [
       "             SiO2      Al2O3       MgO        CaO        FeO      Na2O  \\\n",
       " 0.000  47.272428  13.883047  7.025581  13.448164   8.780215  3.924017   \n",
       "-0.001  47.238016  13.856301  7.011415  13.422255   8.899926  3.916457   \n",
       "-0.002  47.203246  13.828793  6.999542  13.395610   9.019724  3.908682   \n",
       "-0.003  47.168985  13.802221  6.985150  13.369870   9.139047  3.901171   \n",
       "-0.004  47.134366  13.774892  6.973029  13.343397   9.258466  3.893447   \n",
       "...           ...        ...       ...        ...        ...       ...   \n",
       "-0.107  43.900328  11.368906  5.098622  11.012777  20.765600  3.213399   \n",
       "-0.108  43.869089  11.345145  5.083142  10.989761  20.875511  3.206683   \n",
       "-0.109  43.841268  11.326492  5.056694  10.971693  20.979386  3.201411   \n",
       "-0.110  43.812218  11.306005  5.034188  10.951847  21.085429  3.195621   \n",
       "-0.111  43.781110  11.282448  5.018246  10.929028  21.195128  3.188962   \n",
       "\n",
       "             K2O       MnO      TiO2      P2O5     Cr2O3       CO2       H2O  \\\n",
       " 0.000  1.112375  0.104694  2.110996  0.676485  0.034227  0.260729  1.063126   \n",
       "-0.001  1.110232  0.104492  2.106929  0.675182  0.034161  0.260226  1.061077   \n",
       "-0.002  1.108028  0.104285  2.102746  0.673842  0.034093  0.259710  1.058971   \n",
       "-0.003  1.105899  0.104085  2.098706  0.672547  0.034028  0.259211  1.056936   \n",
       "-0.004  1.103709  0.103879  2.094551  0.671215  0.033960  0.258697  1.054843   \n",
       "...          ...       ...       ...       ...       ...       ...       ...   \n",
       "-0.107  0.910930  0.085735  1.728707  0.553978  0.028029  0.213512  0.870600   \n",
       "-0.108  0.909026  0.085555  1.725094  0.552820  0.027970  0.213066  0.868780   \n",
       "-0.109  0.907532  0.085415  1.722257  0.551911  0.027924  0.212716  0.867352   \n",
       "-0.110  0.905890  0.085260  1.719142  0.550913  0.027874  0.212331  0.865783   \n",
       "-0.111  0.904003  0.085083  1.715560  0.549765  0.027815  0.211888  0.863979   \n",
       "\n",
       "               F         S        Cl  total  \n",
       " 0.000  0.077413  0.175463  0.051038  100.0  \n",
       "-0.001  0.077264  0.175125  0.050940  100.0  \n",
       "-0.002  0.077111  0.174778  0.050839  100.0  \n",
       "-0.003  0.076963  0.174442  0.050741  100.0  \n",
       "-0.004  0.076810  0.174096  0.050641  100.0  \n",
       "...          ...       ...       ...    ...  \n",
       "-0.107  0.063394  0.143688  0.041796  100.0  \n",
       "-0.108  0.063262  0.143388  0.041708  100.0  \n",
       "-0.109  0.063158  0.143152  0.041640  100.0  \n",
       "-0.110  0.063043  0.142893  0.041564  100.0  \n",
       "-0.111  0.062912  0.142595  0.041478  100.0  \n",
       "\n",
       "[112 rows x 17 columns]"
      ]
     },
     "execution_count": 33,
     "metadata": {},
     "output_type": "execute_result"
    }
   ],
   "source": [
    "w"
   ]
  },
  {
   "cell_type": "code",
   "execution_count": null,
   "metadata": {},
   "outputs": [],
   "source": [
    "if fo_eq > fo_host:\n",
    "            stepsize = -stepsize\n",
    "\n",
    "np.isclose(fo_eq, fo_host, converge)"
   ]
  },
  {
   "cell_type": "code",
   "execution_count": null,
   "metadata": {},
   "outputs": [],
   "source": [
    "overstepped = np.sign(fo_host - fo_eq) != np.sign(stepsize)\n",
    "# Decrease stepsize (once) is Fo# is aproaching host olivine Fo#\n",
    "if overstepped and not np.isclose(fo_eq, fo_host, converge):\n",
    "    print(\"test\")\n",
    "else:\n",
    "    print(\"gd\")\n"
   ]
  },
  {
   "cell_type": "code",
   "execution_count": null,
   "metadata": {},
   "outputs": [],
   "source": [
    "np.sign(fo_host - fo_eq) != np.sign(stepsize)"
   ]
  },
  {
   "cell_type": "code",
   "execution_count": null,
   "metadata": {},
   "outputs": [],
   "source": []
  }
 ],
 "metadata": {
  "interpreter": {
   "hash": "3a9bb5c46ea8dfb7b7b773d3f421233097d1a58d8de08b35bdb5d7d6a8b4b418"
  },
  "kernelspec": {
   "display_name": "Python 3.9.7 ('base')",
   "language": "python",
   "name": "python3"
  },
  "language_info": {
   "codemirror_mode": {
    "name": "ipython",
    "version": 3
   },
   "file_extension": ".py",
   "mimetype": "text/x-python",
   "name": "python",
   "nbconvert_exporter": "python",
   "pygments_lexer": "ipython3",
   "version": "3.9.7"
  },
  "orig_nbformat": 4
 },
 "nbformat": 4,
 "nbformat_minor": 2
}
