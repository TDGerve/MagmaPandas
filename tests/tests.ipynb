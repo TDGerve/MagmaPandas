{
 "cells": [
  {
   "cell_type": "code",
   "execution_count": 14,
   "metadata": {},
   "outputs": [],
   "source": [
    "# import pandas as pd\n",
    "import MagmaPandas as mp\n",
    "import MagmaPandas.parse.readers as r\n",
    "import pandas as pd\n",
    "import elements as e\n",
    "\n",
    "config = mp.configuration()"
   ]
  },
  {
   "cell_type": "code",
   "execution_count": 15,
   "metadata": {},
   "outputs": [
    {
     "name": "stdout",
     "output_type": "stream",
     "text": [
      "Parameterisation.....hydrous_webapp\n",
      "Fugacity model................ideal\n",
      "Activity model................ideal\n"
     ]
    }
   ],
   "source": [
    "import MagmaPandas.geochemistry.volatile_solubility.IaconoMarziano as im\n",
    "im_config = im.IaconoMarziano_configuration()\n",
    "im_config.parameters = \"hydrous_webapp\"\n",
    "im_config.print()"
   ]
  },
  {
   "cell_type": "code",
   "execution_count": 16,
   "metadata": {},
   "outputs": [
    {
     "name": "stdout",
     "output_type": "stream",
     "text": [
      "Kd Fe-Mg ol-melt.......................toplis\n",
      "Melt Fe3+/Fe2+........................borisov\n",
      "Melt thermometer...............putirka2008_14\n",
      "Volatile solubility model......IaconoMarziano\n"
     ]
    }
   ],
   "source": [
    "config.print()"
   ]
  },
  {
   "cell_type": "code",
   "execution_count": 17,
   "metadata": {},
   "outputs": [],
   "source": [
    "melt = mp.read_melt_inclusion('./melt.csv', index_col=['name'], total_col='total')"
   ]
  },
  {
   "cell_type": "code",
   "execution_count": 28,
   "metadata": {},
   "outputs": [],
   "source": [
    "sample = \"PI052-02-01\"\n",
    "FeO_initial = 15\n",
    "Fo_host = 0.6\n",
    "Kd = 0.29\n",
    "P_bar = 1e4\n",
    "T_K = 1400\n",
    "inclusion = melt.iloc[6,:]"
   ]
  },
  {
   "cell_type": "code",
   "execution_count": 29,
   "metadata": {},
   "outputs": [
    {
     "data": {
      "text/plain": [
       "9.691822157863774"
      ]
     },
     "execution_count": 29,
     "metadata": {},
     "output_type": "execute_result"
    }
   ],
   "source": [
    "im.calculate_H2O_solubility(inclusion, P_bar, T_K)"
   ]
  },
  {
   "cell_type": "code",
   "execution_count": 20,
   "metadata": {},
   "outputs": [
    {
     "data": {
      "text/plain": [
       "6.009228361434826"
      ]
     },
     "execution_count": 20,
     "metadata": {},
     "output_type": "execute_result"
    }
   ],
   "source": [
    "im._H2O_solubility(inclusion, 1, P_bar, T_K)"
   ]
  },
  {
   "cell_type": "code",
   "execution_count": null,
   "metadata": {},
   "outputs": [],
   "source": [
    "w, o1, o2, oc = mp.melt_inclusion.Fe_restore(inclusion, FeO_initial, P_bar, temperature_converge=0.2)"
   ]
  },
  {
   "cell_type": "code",
   "execution_count": null,
   "metadata": {},
   "outputs": [],
   "source": [
    "import matplotlib.pyplot as plt\n",
    "\n",
    "plt.plot(w[\"MgO\"], w[\"FeO\"], \"o\")"
   ]
  },
  {
   "cell_type": "code",
   "execution_count": 10,
   "metadata": {},
   "outputs": [
    {
     "data": {
      "text/plain": [
       "True"
      ]
     },
     "execution_count": 10,
     "metadata": {},
     "output_type": "execute_result"
    }
   ],
   "source": []
  },
  {
   "cell_type": "code",
   "execution_count": null,
   "metadata": {},
   "outputs": [],
   "source": [
    "w"
   ]
  },
  {
   "cell_type": "code",
   "execution_count": null,
   "metadata": {},
   "outputs": [],
   "source": []
  }
 ],
 "metadata": {
  "interpreter": {
   "hash": "3a9bb5c46ea8dfb7b7b773d3f421233097d1a58d8de08b35bdb5d7d6a8b4b418"
  },
  "kernelspec": {
   "display_name": "Python 3.9.7 ('base')",
   "language": "python",
   "name": "python3"
  },
  "language_info": {
   "codemirror_mode": {
    "name": "ipython",
    "version": 3
   },
   "file_extension": ".py",
   "mimetype": "text/x-python",
   "name": "python",
   "nbconvert_exporter": "python",
   "pygments_lexer": "ipython3",
   "version": "3.9.7"
  },
  "orig_nbformat": 4
 },
 "nbformat": 4,
 "nbformat_minor": 2
}
