{
 "cells": [
  {
   "cell_type": "code",
   "execution_count": 1,
   "metadata": {},
   "outputs": [
    {
     "name": "stdout",
     "output_type": "stream",
     "text": [
      "Kd Fe-Mg ol-melt.......................toplis\n",
      "Melt Fe3+/Fe2+........................borisov\n",
      "Melt thermometer...............putirka2008_14\n",
      "Volatile solubility model......IaconoMarziano\n"
     ]
    }
   ],
   "source": [
    "# import pandas as pd\n",
    "import MagmaPandas as mp\n",
    "import MagmaPandas.geochemistry.PEC as pec\n",
    "import pandas as pd\n",
    "import elements as e\n",
    "import matplotlib.pyplot as plt\n",
    "import meltInc.plotting as p\n",
    "\n",
    "p.layout()\n",
    "config = mp.configuration()\n",
    "config.print()"
   ]
  },
  {
   "cell_type": "code",
   "execution_count": 2,
   "metadata": {},
   "outputs": [],
   "source": [
    "melt = mp.read_melt_inclusion('./melt.csv', index_col=['name'], total_col='total')"
   ]
  },
  {
   "cell_type": "code",
   "execution_count": 3,
   "metadata": {},
   "outputs": [],
   "source": [
    "sample = \"PI052-02-01\"\n",
    "FeO_initial = 4\n",
    "Fo_host = 0.9\n",
    "Kd = 0.29\n",
    "P_bar = 1e4\n",
    "T_K = 1400\n",
    "inclusion = melt.iloc[0]"
   ]
  },
  {
   "cell_type": "code",
   "execution_count": 4,
   "metadata": {},
   "outputs": [],
   "source": [
    "w, oc, kd = pec.Fe_equilibrate(inclusion, Fo_host, P_bar)"
   ]
  },
  {
   "cell_type": "code",
   "execution_count": null,
   "metadata": {},
   "outputs": [],
   "source": [
    "oc = pd.Series(index=melt.index, dtype=float)\n",
    "kd = pd.DataFrame(index=melt.index, columns=[\"Equilibrium\", \"Real\"])\n",
    "for idx, inclusion in melt.iterrows():\n",
    "    w, oc_, kd_ = pec.Fe_equilibrate(inclusion, Fo_host, P_bar)\n",
    "    oc[idx] = oc_\n",
    "    kd.loc[idx,:] = kd_"
   ]
  },
  {
   "cell_type": "code",
   "execution_count": 5,
   "metadata": {},
   "outputs": [
    {
     "name": "stdout",
     "output_type": "stream",
     "text": [
      "T correction 07"
     ]
    }
   ],
   "source": [
    "melt_2 = melt.iloc[[0, 1],:]\n",
    "W, OC, KD = melt.Fe_equilibrate(Fo_host, P_bar)"
   ]
  },
  {
   "cell_type": "code",
   "execution_count": 6,
   "metadata": {},
   "outputs": [
    {
     "data": {
      "text/plain": [
       "name\n",
       "PI054-07-06   -0.03725\n",
       "PI054-07-05   -0.04100\n",
       "PI056-04-02   -0.05000\n",
       "PI116-04-01   -0.00900\n",
       "PI056-05-01   -0.02660\n",
       "PI089-03-01   -0.03750\n",
       "PI074-05-01   -0.01975\n",
       "PI052-02-01   -0.03035\n",
       "PI056-04-03   -0.07650\n",
       "PI085-04-02   -0.03210\n",
       "PI052-03-04   -0.01630\n",
       "PI085-04-05   -0.04075\n",
       "PI085-01-01   -0.02355\n",
       "PI085-01-06   -0.01820\n",
       "PI085-03-02   -0.02885\n",
       "PI052-03-02   -0.02200\n",
       "PI085-03-01   -0.03260\n",
       "PI085-01-05   -0.02925\n",
       "PI085-02-01   -0.04645\n",
       "PI052-05-01   -0.03275\n",
       "dtype: float64"
      ]
     },
     "execution_count": 6,
     "metadata": {},
     "output_type": "execute_result"
    }
   ],
   "source": [
    "OC"
   ]
  },
  {
   "cell_type": "code",
   "execution_count": null,
   "metadata": {},
   "outputs": [],
   "source": [
    "oc"
   ]
  },
  {
   "cell_type": "code",
   "execution_count": null,
   "metadata": {},
   "outputs": [],
   "source": [
    "oc"
   ]
  },
  {
   "cell_type": "code",
   "execution_count": null,
   "metadata": {},
   "outputs": [],
   "source": [
    "x = \"MgO\"\n",
    "y = \"FeO\"\n",
    "\n",
    "fig, ax = plt.subplots(figsize=(8, 8))\n",
    "\n",
    "ax.plot(w[x], w[y], \"o-\")\n",
    "\n",
    "ax.set_xlabel(x)\n",
    "ax.set_ylabel(y)\n",
    "plt.show()"
   ]
  },
  {
   "cell_type": "code",
   "execution_count": null,
   "metadata": {},
   "outputs": [],
   "source": [
    "o1, o2, c"
   ]
  },
  {
   "cell_type": "code",
   "execution_count": null,
   "metadata": {},
   "outputs": [],
   "source": [
    "isinstance(inclusion, pd.Series)"
   ]
  },
  {
   "cell_type": "code",
   "execution_count": null,
   "metadata": {},
   "outputs": [],
   "source": []
  }
 ],
 "metadata": {
  "kernelspec": {
   "display_name": "Python 3.9.7 ('base')",
   "language": "python",
   "name": "python3"
  },
  "language_info": {
   "codemirror_mode": {
    "name": "ipython",
    "version": 3
   },
   "file_extension": ".py",
   "mimetype": "text/x-python",
   "name": "python",
   "nbconvert_exporter": "python",
   "pygments_lexer": "ipython3",
   "version": "3.9.7"
  },
  "orig_nbformat": 4,
  "vscode": {
   "interpreter": {
    "hash": "3a9bb5c46ea8dfb7b7b773d3f421233097d1a58d8de08b35bdb5d7d6a8b4b418"
   }
  }
 },
 "nbformat": 4,
 "nbformat_minor": 2
}
