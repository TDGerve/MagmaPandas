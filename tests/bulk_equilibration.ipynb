{
 "cells": [
  {
   "cell_type": "code",
   "execution_count": 1,
   "metadata": {},
   "outputs": [
    {
     "name": "stdout",
     "output_type": "stream",
     "text": [
      "Kd Fe-Mg ol-melt.......................toplis\n",
      "Melt Fe3+/Fe2+........................borisov\n",
      "Melt thermometer...............putirka2008_14\n",
      "Volatile solubility model......IaconoMarziano\n"
     ]
    }
   ],
   "source": [
    "# import pandas as pd\n",
    "import MagmaPandas as mp\n",
    "import pandas as pd\n",
    "import numpy as np\n",
    "import matplotlib.pyplot as plt\n",
    "import meltInc.plotting as p\n",
    "from functools import partial\n",
    "from MagmaPandas.geochemistry.fO2 import fO2_QFM\n",
    "from MagmaPandas.geochemistry.Kd_ol_melt import Kd_FeMg_vectorised\n",
    "from MagmaPandas.geochemistry.Fe_redox import Fe_redox\n",
    "from MagmaPandas.geochemistry.PEC import Fe_equilibrate\n",
    "\n",
    "p.layout()\n",
    "config = mp.configuration()\n",
    "config.print()"
   ]
  },
  {
   "cell_type": "code",
   "execution_count": 2,
   "metadata": {},
   "outputs": [],
   "source": [
    "melt = mp.read_melt_inclusion('./melt.csv', index_col=['name'], total_col='total')\n",
    "inclusions = melt.iloc[0:10,:]"
   ]
  },
  {
   "cell_type": "code",
   "execution_count": 3,
   "metadata": {},
   "outputs": [],
   "source": [
    "forsterite_host = 0.9\n",
    "P_bar = 1e3"
   ]
  },
  {
   "cell_type": "code",
   "execution_count": 4,
   "metadata": {},
   "outputs": [
    {
     "name": "stderr",
     "output_type": "stream",
     "text": [
      "/Users/thomas/Desktop/MagmaPandas/src/MagmaPandas/geochemistry/fO2.py:162: UserWarning: O'Neill fO2: temperatures above 1420K present\n",
      "  w.warn(\"O'Neill fO2: temperatures above 1420K present\")\n"
     ]
    },
    {
     "name": "stdout",
     "output_type": "stream",
     "text": [
      "T correction 05"
     ]
    }
   ],
   "source": [
    "w, F1, oc = melt.Fe_equilibrate(forsterite_host, P_bar)\n"
   ]
  },
  {
   "cell_type": "code",
   "execution_count": null,
   "metadata": {},
   "outputs": [],
   "source": [
    "o_crystallised = []\n",
    "for _, inclusion in melt.iterrows():\n",
    "    *_, OC = Fe_equilibrate(inclusion, forsterite_host, P_bar)\n",
    "    o_crystallised.append(OC)\n",
    "o_crystallised"
   ]
  },
  {
   "cell_type": "code",
   "execution_count": 5,
   "metadata": {},
   "outputs": [
    {
     "data": {
      "text/plain": [
       "name\n",
       "PI054-07-06   -0.01180\n",
       "PI054-07-05   -0.01600\n",
       "PI056-04-02   -0.01915\n",
       "PI116-04-01   -0.00655\n",
       "PI056-05-01   -0.00890\n",
       "PI089-03-01   -0.01545\n",
       "PI074-05-01   -0.01020\n",
       "PI052-02-01   -0.01375\n",
       "PI056-04-03   -0.02355\n",
       "PI085-04-02   -0.01190\n",
       "PI052-03-04   -0.00605\n",
       "PI085-04-05   -0.01655\n",
       "PI085-01-01   -0.01075\n",
       "PI085-01-06   -0.00965\n",
       "PI085-03-02   -0.01330\n",
       "PI052-03-02   -0.01095\n",
       "PI085-03-01   -0.01380\n",
       "PI085-01-05   -0.01260\n",
       "PI085-02-01   -0.01845\n",
       "PI052-05-01   -0.01455\n",
       "dtype: float64"
      ]
     },
     "execution_count": 5,
     "metadata": {},
     "output_type": "execute_result"
    }
   ],
   "source": [
    "oc"
   ]
  },
  {
   "cell_type": "code",
   "execution_count": null,
   "metadata": {},
   "outputs": [],
   "source": [
    "o"
   ]
  }
 ],
 "metadata": {
  "interpreter": {
   "hash": "3a9bb5c46ea8dfb7b7b773d3f421233097d1a58d8de08b35bdb5d7d6a8b4b418"
  },
  "kernelspec": {
   "display_name": "Python 3.9.7 ('base')",
   "language": "python",
   "name": "python3"
  },
  "language_info": {
   "codemirror_mode": {
    "name": "ipython",
    "version": 3
   },
   "file_extension": ".py",
   "mimetype": "text/x-python",
   "name": "python",
   "nbconvert_exporter": "python",
   "pygments_lexer": "ipython3",
   "version": "3.9.7"
  },
  "orig_nbformat": 4
 },
 "nbformat": 4,
 "nbformat_minor": 2
}
