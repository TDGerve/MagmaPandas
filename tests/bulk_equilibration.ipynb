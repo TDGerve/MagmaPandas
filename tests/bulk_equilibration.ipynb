{
 "cells": [
  {
   "cell_type": "code",
   "execution_count": 1,
   "metadata": {},
   "outputs": [
    {
     "name": "stdout",
     "output_type": "stream",
     "text": [
      "Kd Fe-Mg ol-melt.......................toplis\n",
      "Melt Fe3+/Fe2+........................borisov\n",
      "Melt thermometer...............putirka2008_14\n",
      "Volatile solubility model......IaconoMarziano\n"
     ]
    }
   ],
   "source": [
    "# import pandas as pd\n",
    "import MagmaPandas as mp\n",
    "import pandas as pd\n",
    "import numpy as np\n",
    "import matplotlib.pyplot as plt\n",
    "import meltInc.plotting as p\n",
    "from functools import partial\n",
    "from MagmaPandas.geochemistry.fO2 import fO2_QFM\n",
    "from MagmaPandas.geochemistry.Kd_ol_melt import Kd_FeMg_vectorised\n",
    "from MagmaPandas.geochemistry.Fe_redox import Fe_redox\n",
    "\n",
    "p.layout()\n",
    "config = mp.configuration()\n",
    "config.print()"
   ]
  },
  {
   "cell_type": "code",
   "execution_count": 2,
   "metadata": {},
   "outputs": [],
   "source": [
    "melt = mp.read_melt_inclusion('./melt.csv', index_col=['name'], total_col='total')"
   ]
  },
  {
   "cell_type": "code",
   "execution_count": 3,
   "metadata": {},
   "outputs": [],
   "source": [
    "forsterite_host = 0.9\n",
    "P_bar = 1e3"
   ]
  },
  {
   "cell_type": "code",
   "execution_count": 4,
   "metadata": {},
   "outputs": [],
   "source": [
    "try:\n",
    "    if len(forsterite_host) != melt.shape[0]:\n",
    "        raise ValueError(\n",
    "            \"Host forsterite array length does not match the amount of melt inclusions\"\n",
    "        )\n",
    "except TypeError:\n",
    "    forsterite_host = pd.Series(forsterite_host, index=melt.index)\n",
    "try:\n",
    "    if len(P_bar) != melt.shape[0]:\n",
    "        raise ValueError(\n",
    "            \"Pressure array length does not match the amount of melt inclusions\"\n",
    "        )\n",
    "except TypeError:\n",
    "    P_bar = pd.Series(P_bar, index=melt.index)\n",
    "\n"
   ]
  },
  {
   "cell_type": "code",
   "execution_count": 5,
   "metadata": {},
   "outputs": [],
   "source": [
    "stepsize =  -0.001\n",
    "converge = 0.002\n",
    "temperature_converge = 0.2\n",
    "QFM_logshift = 1\n",
    "olivine_crystallised = pd.Series(0, index=melt.index)\n",
    "decrease_factor = 10"
   ]
  },
  {
   "cell_type": "code",
   "execution_count": 6,
   "metadata": {},
   "outputs": [
    {
     "name": "stderr",
     "output_type": "stream",
     "text": [
      "c:\\data\\dropbox\\python\\packages\\magmapandas\\src\\MagmaPandas\\geochemistry\\fO2.py:161: UserWarning: O'Neill fO2: temperatures above 1420K present\n",
      "  w.warn(\"O'Neill fO2: temperatures above 1420K present\")\n"
     ]
    }
   ],
   "source": [
    "inclusions = melt[melt.elements].copy()\n",
    "inclusions = inclusions.normalise()\n",
    "temperatures = inclusions.temperature(P_bar=P_bar)\n",
    "fO2 = fO2_QFM(QFM_logshift, temperatures, P_bar)\n",
    "Fe3Fe2_model = getattr(Fe_redox, config.Fe3Fe2_model)\n",
    "Kd_model = getattr(Kd_FeMg_vectorised, config.Kd_model)"
   ]
  },
  {
   "cell_type": "code",
   "execution_count": 7,
   "metadata": {},
   "outputs": [],
   "source": [
    "def calc_forsterite_EQ(\n",
    "    mol_fractions,\n",
    "    T_K=temperatures.copy(),\n",
    "    P_bar=P_bar.copy(),\n",
    "    oxygen_fugacity=fO2.copy(),\n",
    "    Fo_initial=forsterite_host.copy(),\n",
    "):\n",
    "    # melt Fe3+/Fe2+\n",
    "    Fe3Fe2 = Fe3Fe2_model(mol_fractions, T_K, oxygen_fugacity)\n",
    "    # FeMg Kd\n",
    "    Kd = Kd_model(mol_fractions, Fo_initial, T_K, P_bar, Fe3Fe2)\n",
    "    Fe2_FeTotal = 1 / (1 + Fe3Fe2)\n",
    "    Fe2Mg = mol_fractions[\"FeO\"] * Fe2_FeTotal / mol_fractions[\"MgO\"]\n",
    "    # Equilibrium forsterite content\n",
    "    return 1 / (1 + Kd * Fe2Mg)"
   ]
  },
  {
   "cell_type": "code",
   "execution_count": 8,
   "metadata": {},
   "outputs": [],
   "source": [
    "moles = inclusions.moles\n",
    "forsterite_EQ = calc_forsterite_EQ(moles)\n",
    "disequilibrium =  ~ np.isclose(forsterite_EQ, forsterite_host, atol=converge)\n",
    "stepsize = pd.Series(stepsize, index=inclusions.index)\n",
    "stepsize.loc[forsterite_EQ > forsterite_host] = -stepsize\n",
    "# Fe-Mg exchange vector\n",
    "FeMg_exchange = pd.DataFrame(0, index=moles.index, columns=moles.columns)\n",
    "FeMg_exchange.loc[:, [\"FeO\", \"MgO\"]] = np.stack((1, -1), axis=1)"
   ]
  },
  {
   "cell_type": "code",
   "execution_count": 9,
   "metadata": {},
   "outputs": [],
   "source": [
    "moles_new = moles.loc[disequilibrium].copy()\n",
    "\n",
    "moles_new = moles_new + FeMg_exchange.mul(stepsize, axis=0)\n",
    "temperatures_new = moles_new.convert_moles_wtPercent.temperature(\n",
    "    P_bar=P_bar\n",
    ")\n",
    "forsterite_EQ_new = calc_forsterite_EQ(moles_new)\n",
    "olivine = pd.DataFrame(\n",
    "    {\n",
    "        \"MgO\": forsterite_EQ * 2,\n",
    "        \"FeO\": (1 - forsterite_EQ_new) * 2,\n",
    "        \"SiO2\": 1,\n",
    "    },\n",
    "    columns=moles_new.columns,\n",
    "    index=moles_new.index,\n",
    ").fillna(0.0)\n",
    "\n",
    "olivine_stepsize = stepsize / 4\n",
    "temperature_mismatch = ~ np.isclose(\n",
    "    temperatures_new, temperatures, atol=temperature_converge\n",
    ")\n",
    "remove_olivine = moles_new.loc[temperature_mismatch].copy()"
   ]
  },
  {
   "cell_type": "code",
   "execution_count": 10,
   "metadata": {},
   "outputs": [],
   "source": [
    "while sum(temperature_mismatch) > 1:\n",
    "    remove_olivine = remove_olivine + olivine.mul(olivine_stepsize, axis=0)\n",
    "    temperatures_new = remove_olivine.convert_moles_wtPercent.temperature(\n",
    "        P_bar=P_bar\n",
    "    )\n",
    "    olivine_crystallised.loc[temperature_mismatch] += olivine_stepsize.loc[temperature_mismatch]\n",
    "    temperature_mismatch = ~ np.isclose(\n",
    "        temperatures_new, temperatures, atol=temperature_converge\n",
    "    )\n",
    "\n",
    "    T_overstepped = np.sign(temperatures - temperatures_new) != np.sign(\n",
    "        stepsize\n",
    "    )\n",
    "    decrease_stepsize_T = np.logical_and(\n",
    "        T_overstepped, temperature_mismatch\n",
    "    )\n",
    "\n",
    "    if sum(decrease_stepsize_T) > 0:\n",
    "        remove_olivine.loc[decrease_stepsize_T] = (\n",
    "            remove_olivine.loc[decrease_stepsize_T]\n",
    "            - olivine.loc[decrease_stepsize_T].mul(olivine_stepsize.loc[decrease_stepsize_T], axis=0)\n",
    "        )\n",
    "        olivine_crystallised.loc[decrease_stepsize_T] = (\n",
    "            olivine_crystallised.loc[decrease_stepsize_T]\n",
    "            - olivine_stepsize.loc[decrease_stepsize_T]\n",
    "        )\n",
    "        olivine_stepsize.loc[decrease_stepsize_T] = (\n",
    "            olivine_stepsize.loc[decrease_stepsize_T] / decrease_factor\n",
    "        )\n"
   ]
  },
  {
   "cell_type": "code",
   "execution_count": 12,
   "metadata": {},
   "outputs": [],
   "source": [
    "moles_new.loc[remove_olivine.index] = remove_olivine.copy()\n",
    "\n",
    "forsterite_EQ_new = calc_forsterite_EQ(moles_new)\n",
    "\n",
    "disequilibrium_new = ~ np.isclose(\n",
    "    forsterite_EQ_new, forsterite_host.loc[disequilibrium], atol=converge\n",
    ")\n",
    "overstepped = np.sign(\n",
    "    forsterite_EQ_new - forsterite_host.loc[disequilibrium]\n",
    ") != np.sign(stepsize)\n",
    "decrease_stepsize = np.logical_and(overstepped, disequilibrium_new)"
   ]
  },
  {
   "cell_type": "code",
   "execution_count": 18,
   "metadata": {},
   "outputs": [
    {
     "data": {
      "text/plain": [
       "name\n",
       "PI054-07-06   -0.001\n",
       "PI054-07-05   -0.001\n",
       "PI056-04-02   -0.001\n",
       "PI116-04-01   -0.001\n",
       "PI056-05-01   -0.001\n",
       "PI089-03-01   -0.001\n",
       "PI074-05-01   -0.001\n",
       "PI052-02-01   -0.001\n",
       "PI056-04-03   -0.001\n",
       "PI085-04-02   -0.001\n",
       "PI052-03-04   -0.001\n",
       "PI085-04-05   -0.001\n",
       "PI085-01-01   -0.001\n",
       "PI085-01-06   -0.001\n",
       "PI085-03-02   -0.001\n",
       "PI052-03-02   -0.001\n",
       "PI085-03-01   -0.001\n",
       "PI085-01-05   -0.001\n",
       "PI085-02-01   -0.001\n",
       "PI052-05-01   -0.001\n",
       "dtype: float64"
      ]
     },
     "execution_count": 18,
     "metadata": {},
     "output_type": "execute_result"
    }
   ],
   "source": [
    "stepsize"
   ]
  },
  {
   "cell_type": "code",
   "execution_count": null,
   "metadata": {},
   "outputs": [],
   "source": []
  }
 ],
 "metadata": {
  "interpreter": {
   "hash": "fb06a6baa6d44fd72e554eb3999baf3be698845450cddd4e9be77580a1d54969"
  },
  "kernelspec": {
   "display_name": "Python 3.8.12 ('py38')",
   "language": "python",
   "name": "python3"
  },
  "language_info": {
   "codemirror_mode": {
    "name": "ipython",
    "version": 3
   },
   "file_extension": ".py",
   "mimetype": "text/x-python",
   "name": "python",
   "nbconvert_exporter": "python",
   "pygments_lexer": "ipython3",
   "version": "3.8.12"
  },
  "orig_nbformat": 4
 },
 "nbformat": 4,
 "nbformat_minor": 2
}
