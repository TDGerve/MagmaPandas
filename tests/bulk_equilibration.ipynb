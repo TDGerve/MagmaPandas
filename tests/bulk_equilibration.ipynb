{
 "cells": [
  {
   "cell_type": "code",
   "execution_count": 1,
   "metadata": {},
   "outputs": [
    {
     "name": "stdout",
     "output_type": "stream",
     "text": [
      "####### Post-entrapment crystalllisation #######\n",
      "############### correction model ###############\n",
      "\n",
      "Settings_______________________________________\n",
      "Stepsize...................................0.002\n",
      "Decrease factor............................5    \n",
      "FeO convergence............................0.05 \n",
      "Kd convergence.............................0.001\n",
      "Temperature convergence....................0.1  \n"
     ]
    }
   ],
   "source": [
    "# import pandas as pd\n",
    "import MagmaPandas as mp\n",
    "import pandas as pd\n",
    "import numpy as np\n",
    "import matplotlib.pyplot as plt\n",
    "# import meltInc.plotting as p\n",
    "from functools import partial\n",
    "from MagmaPandas.geochemistry.fO2 import fO2_QFM\n",
    "from MagmaPandas.geochemistry.Kd_ol_melt import Kd_FeMg_vectorised\n",
    "from MagmaPandas.geochemistry.Fe_redox import Fe_redox\n",
    "from MagmaPandas.geochemistry.PEC import Fe_equilibrate, PEC_configuration, PEC_olivine\n",
    "from MagmaPandas.geochemistry.volatile_solubility import IaconoMarziano as im\n",
    "\n",
    "# p.layout()\n",
    "\n",
    "PEC_configuration.print()\n",
    "# print(\"\\n\")\n",
    "# im.IaconoMarziano_configuration.print()\n"
   ]
  },
  {
   "cell_type": "code",
   "execution_count": 2,
   "metadata": {},
   "outputs": [],
   "source": [
    "melt = mp.read_melt_inclusion('./melt.csv', index_col=['name'], total_col='total')\n",
    "inclusions = melt.iloc[0:10,:].copy()"
   ]
  },
  {
   "cell_type": "code",
   "execution_count": 3,
   "metadata": {},
   "outputs": [],
   "source": [
    "forsterite_host = 0.90\n",
    "P_bar = 1e3"
   ]
  },
  {
   "cell_type": "code",
   "execution_count": null,
   "metadata": {},
   "outputs": [],
   "source": [
    "x, oc, kd = inclusions._Fe_equilibrate(forsterite_host, P_bar, stepsize=0.001)\n"
   ]
  },
  {
   "cell_type": "code",
   "execution_count": null,
   "metadata": {},
   "outputs": [],
   "source": [
    "o_crystallised = []\n",
    "for _, inclusion in inclusions.iterrows():\n",
    "    _, OC, _ = Fe_equilibrate(inclusion, forsterite_host, P_bar, stepsize=0.001)\n",
    "    o_crystallised.append(OC)\n",
    "o_crystallised"
   ]
  },
  {
   "cell_type": "code",
   "execution_count": null,
   "metadata": {},
   "outputs": [],
   "source": [
    "oc"
   ]
  },
  {
   "cell_type": "code",
   "execution_count": 4,
   "metadata": {},
   "outputs": [],
   "source": [
    "t = PEC_olivine(inclusions, forsterite_host, P_bar, FeO_target=10)"
   ]
  },
  {
   "cell_type": "code",
   "execution_count": 6,
   "metadata": {},
   "outputs": [
    {
     "data": {
      "text/plain": [
       "name\n",
       "PI054-07-06    True\n",
       "PI054-07-05    True\n",
       "PI056-04-02    True\n",
       "PI116-04-01    True\n",
       "PI056-05-01    True\n",
       "PI089-03-01    True\n",
       "PI074-05-01    True\n",
       "PI052-02-01    True\n",
       "PI056-04-03    True\n",
       "PI085-04-02    True\n",
       "dtype: bool"
      ]
     },
     "execution_count": 6,
     "metadata": {},
     "output_type": "execute_result"
    }
   ],
   "source": [
    "t.Fe_loss"
   ]
  },
  {
   "cell_type": "code",
   "execution_count": null,
   "metadata": {},
   "outputs": [],
   "source": [
    "PEC_configuration.stepsize = 0.001\n",
    "PEC_configuration.print()\n",
    "x2, ocx, kd2 = t.Fe_equilibrate()"
   ]
  },
  {
   "cell_type": "code",
   "execution_count": null,
   "metadata": {},
   "outputs": [],
   "source": [
    "ocx"
   ]
  },
  {
   "cell_type": "code",
   "execution_count": null,
   "metadata": {},
   "outputs": [],
   "source": []
  }
 ],
 "metadata": {
  "kernelspec": {
   "display_name": "Python 3.9.7 ('base')",
   "language": "python",
   "name": "python3"
  },
  "language_info": {
   "codemirror_mode": {
    "name": "ipython",
    "version": 3
   },
   "file_extension": ".py",
   "mimetype": "text/x-python",
   "name": "python",
   "nbconvert_exporter": "python",
   "pygments_lexer": "ipython3",
   "version": "3.9.7"
  },
  "orig_nbformat": 4,
  "vscode": {
   "interpreter": {
    "hash": "451bc31fce8cfa14a617559cd7a4e90dfa822ca7fa120ad3e540a029f512f236"
   }
  }
 },
 "nbformat": 4,
 "nbformat_minor": 2
}
