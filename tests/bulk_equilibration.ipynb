{
 "cells": [
  {
   "cell_type": "code",
   "execution_count": 1,
   "metadata": {},
   "outputs": [
    {
     "name": "stdout",
     "output_type": "stream",
     "text": [
      "Kd Fe-Mg ol-melt.......................toplis\n",
      "Melt Fe3+/Fe2+........................borisov\n",
      "Melt thermometer...............putirka2008_14\n",
      "Volatile solubility model......IaconoMarziano\n"
     ]
    }
   ],
   "source": [
    "# import pandas as pd\n",
    "import MagmaPandas as mp\n",
    "import pandas as pd\n",
    "import numpy as np\n",
    "import matplotlib.pyplot as plt\n",
    "import meltInc.plotting as p\n",
    "from functools import partial\n",
    "from MagmaPandas.geochemistry.fO2 import fO2_QFM\n",
    "from MagmaPandas.geochemistry.Kd_ol_melt import Kd_FeMg_vectorised\n",
    "from MagmaPandas.geochemistry.Fe_redox import Fe_redox\n",
    "from MagmaPandas.geochemistry.PEC import Fe_equilibrate\n",
    "\n",
    "p.layout()\n",
    "config = mp.configuration()\n",
    "config.print()"
   ]
  },
  {
   "cell_type": "code",
   "execution_count": 2,
   "metadata": {},
   "outputs": [],
   "source": [
    "melt = mp.read_melt_inclusion('./melt.csv', index_col=['name'], total_col='total')\n",
    "inclusions = melt.iloc[0:10,:]"
   ]
  },
  {
   "cell_type": "code",
   "execution_count": 7,
   "metadata": {},
   "outputs": [],
   "source": [
    "inclusion = melt.iloc[0,:].copy()\n"
   ]
  },
  {
   "cell_type": "code",
   "execution_count": 10,
   "metadata": {},
   "outputs": [
    {
     "data": {
      "text/plain": [
       "SiO2      60.084\n",
       "Al2O3    101.961\n",
       "MgO       40.304\n",
       "FeO       71.844\n",
       "Na2O      61.979\n",
       "K2O       94.195\n",
       "MnO       70.937\n",
       "TiO2      79.865\n",
       "P2O5     141.943\n",
       "Cr2O3    151.989\n",
       "CO2       44.008\n",
       "H2O       18.015\n",
       "F         18.998\n",
       "S         32.065\n",
       "Cl        35.453\n",
       "Name: weight, dtype: float64"
      ]
     },
     "execution_count": 10,
     "metadata": {},
     "output_type": "execute_result"
    }
   ],
   "source": [
    "# inclusion.drop(\"CaO\", inplace=True)\n",
    "inclusion.recalculate()\n",
    "inclusion.weights"
   ]
  },
  {
   "cell_type": "code",
   "execution_count": 6,
   "metadata": {},
   "outputs": [
    {
     "data": {
      "text/plain": [
       "88.82662"
      ]
     },
     "execution_count": 6,
     "metadata": {},
     "output_type": "execute_result"
    }
   ],
   "source": [
    "inclusion[\"total\"]"
   ]
  },
  {
   "cell_type": "code",
   "execution_count": null,
   "metadata": {},
   "outputs": [],
   "source": [
    "forsterite_host = 0.9\n",
    "P_bar = 1e3"
   ]
  },
  {
   "cell_type": "code",
   "execution_count": null,
   "metadata": {},
   "outputs": [],
   "source": [
    "w, F1, oc = melt.Fe_equilibrate(forsterite_host, P_bar)\n"
   ]
  },
  {
   "cell_type": "code",
   "execution_count": null,
   "metadata": {},
   "outputs": [],
   "source": [
    "o_crystallised = []\n",
    "for _, inclusion in melt.iterrows():\n",
    "    *_, OC = Fe_equilibrate(inclusion, forsterite_host, P_bar)\n",
    "    o_crystallised.append(OC)\n",
    "o_crystallised"
   ]
  },
  {
   "cell_type": "code",
   "execution_count": null,
   "metadata": {},
   "outputs": [],
   "source": [
    "oc"
   ]
  },
  {
   "cell_type": "code",
   "execution_count": null,
   "metadata": {},
   "outputs": [],
   "source": [
    "o"
   ]
  }
 ],
 "metadata": {
  "interpreter": {
   "hash": "3a9bb5c46ea8dfb7b7b773d3f421233097d1a58d8de08b35bdb5d7d6a8b4b418"
  },
  "kernelspec": {
   "display_name": "Python 3.9.7 ('base')",
   "language": "python",
   "name": "python3"
  },
  "language_info": {
   "codemirror_mode": {
    "name": "ipython",
    "version": 3
   },
   "file_extension": ".py",
   "mimetype": "text/x-python",
   "name": "python",
   "nbconvert_exporter": "python",
   "pygments_lexer": "ipython3",
   "version": "3.9.7"
  },
  "orig_nbformat": 4
 },
 "nbformat": 4,
 "nbformat_minor": 2
}
