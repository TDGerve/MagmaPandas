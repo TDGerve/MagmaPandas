{
 "cells": [
  {
   "cell_type": "code",
   "execution_count": 1,
   "metadata": {},
   "outputs": [
    {
     "name": "stdout",
     "output_type": "stream",
     "text": [
      "Kd Fe-Mg ol-melt.......................toplis\n",
      "Melt Fe3+/Fe2+........................borisov\n",
      "Melt thermometer...............putirka2008_14\n",
      "Volatile solubility model......IaconoMarziano\n"
     ]
    }
   ],
   "source": [
    "# import pandas as pd\n",
    "import MagmaPandas as mp\n",
    "import pandas as pd\n",
    "import numpy as np\n",
    "import matplotlib.pyplot as plt\n",
    "import meltInc.plotting as p\n",
    "from functools import partial\n",
    "from MagmaPandas.geochemistry.fO2 import fO2_QFM\n",
    "from MagmaPandas.geochemistry.Kd_ol_melt import Kd_FeMg_vectorised\n",
    "from MagmaPandas.geochemistry.Fe_redox import Fe_redox\n",
    "from MagmaPandas.geochemistry.PEC import Fe_equilibrate\n",
    "\n",
    "p.layout()\n",
    "config = mp.configuration()\n",
    "config.print()"
   ]
  },
  {
   "cell_type": "code",
   "execution_count": 2,
   "metadata": {},
   "outputs": [],
   "source": [
    "melt = mp.read_melt_inclusion('./melt.csv', index_col=['name'], total_col='total')\n",
    "inclusions = melt.iloc[0:10,:]"
   ]
  },
  {
   "cell_type": "code",
   "execution_count": 4,
   "metadata": {},
   "outputs": [],
   "source": [
    "forsterite_host = 0.8\n",
    "P_bar = 1e3"
   ]
  },
  {
   "cell_type": "code",
   "execution_count": 5,
   "metadata": {},
   "outputs": [
    {
     "name": "stderr",
     "output_type": "stream",
     "text": [
      "/Users/thomas/Desktop/MagmaPandas/src/MagmaPandas/geochemistry/fO2.py:163: UserWarning: O'Neill fO2: temperatures above 1420K present\n",
      "  w.warn(\"O'Neill fO2: temperatures above 1420K present\")\n"
     ]
    },
    {
     "name": "stdout",
     "output_type": "stream",
     "text": [
      "T correction 08"
     ]
    }
   ],
   "source": [
    "w, F1, oc = melt.Fe_equilibrate(forsterite_host, P_bar)\n"
   ]
  },
  {
   "cell_type": "code",
   "execution_count": 6,
   "metadata": {},
   "outputs": [
    {
     "name": "stderr",
     "output_type": "stream",
     "text": [
      "/Users/thomas/Desktop/MagmaPandas/src/MagmaPandas/geochemistry/fO2.py:163: UserWarning: O'Neill fO2: temperatures above 1420K present\n",
      "  w.warn(\"O'Neill fO2: temperatures above 1420K present\")\n",
      "/Users/thomas/Desktop/MagmaPandas/src/MagmaPandas/geochemistry/fO2.py:163: UserWarning: O'Neill fO2: temperatures above 1420K present\n",
      "  w.warn(\"O'Neill fO2: temperatures above 1420K present\")\n",
      "/Users/thomas/Desktop/MagmaPandas/src/MagmaPandas/geochemistry/fO2.py:163: UserWarning: O'Neill fO2: temperatures above 1420K present\n",
      "  w.warn(\"O'Neill fO2: temperatures above 1420K present\")\n",
      "/Users/thomas/Desktop/MagmaPandas/src/MagmaPandas/geochemistry/fO2.py:163: UserWarning: O'Neill fO2: temperatures above 1420K present\n",
      "  w.warn(\"O'Neill fO2: temperatures above 1420K present\")\n",
      "/Users/thomas/Desktop/MagmaPandas/src/MagmaPandas/geochemistry/fO2.py:163: UserWarning: O'Neill fO2: temperatures above 1420K present\n",
      "  w.warn(\"O'Neill fO2: temperatures above 1420K present\")\n",
      "/Users/thomas/Desktop/MagmaPandas/src/MagmaPandas/geochemistry/fO2.py:163: UserWarning: O'Neill fO2: temperatures above 1420K present\n",
      "  w.warn(\"O'Neill fO2: temperatures above 1420K present\")\n",
      "/Users/thomas/Desktop/MagmaPandas/src/MagmaPandas/geochemistry/fO2.py:163: UserWarning: O'Neill fO2: temperatures above 1420K present\n",
      "  w.warn(\"O'Neill fO2: temperatures above 1420K present\")\n",
      "/Users/thomas/Desktop/MagmaPandas/src/MagmaPandas/geochemistry/fO2.py:163: UserWarning: O'Neill fO2: temperatures above 1420K present\n",
      "  w.warn(\"O'Neill fO2: temperatures above 1420K present\")\n",
      "/Users/thomas/Desktop/MagmaPandas/src/MagmaPandas/geochemistry/fO2.py:163: UserWarning: O'Neill fO2: temperatures above 1420K present\n",
      "  w.warn(\"O'Neill fO2: temperatures above 1420K present\")\n",
      "/Users/thomas/Desktop/MagmaPandas/src/MagmaPandas/geochemistry/fO2.py:163: UserWarning: O'Neill fO2: temperatures above 1420K present\n",
      "  w.warn(\"O'Neill fO2: temperatures above 1420K present\")\n",
      "/Users/thomas/Desktop/MagmaPandas/src/MagmaPandas/geochemistry/fO2.py:163: UserWarning: O'Neill fO2: temperatures above 1420K present\n",
      "  w.warn(\"O'Neill fO2: temperatures above 1420K present\")\n",
      "/Users/thomas/Desktop/MagmaPandas/src/MagmaPandas/geochemistry/fO2.py:163: UserWarning: O'Neill fO2: temperatures above 1420K present\n",
      "  w.warn(\"O'Neill fO2: temperatures above 1420K present\")\n",
      "/Users/thomas/Desktop/MagmaPandas/src/MagmaPandas/geochemistry/fO2.py:163: UserWarning: O'Neill fO2: temperatures above 1420K present\n",
      "  w.warn(\"O'Neill fO2: temperatures above 1420K present\")\n",
      "/Users/thomas/Desktop/MagmaPandas/src/MagmaPandas/geochemistry/fO2.py:163: UserWarning: O'Neill fO2: temperatures above 1420K present\n",
      "  w.warn(\"O'Neill fO2: temperatures above 1420K present\")\n",
      "/Users/thomas/Desktop/MagmaPandas/src/MagmaPandas/geochemistry/fO2.py:163: UserWarning: O'Neill fO2: temperatures above 1420K present\n",
      "  w.warn(\"O'Neill fO2: temperatures above 1420K present\")\n",
      "/Users/thomas/Desktop/MagmaPandas/src/MagmaPandas/geochemistry/fO2.py:163: UserWarning: O'Neill fO2: temperatures above 1420K present\n",
      "  w.warn(\"O'Neill fO2: temperatures above 1420K present\")\n",
      "/Users/thomas/Desktop/MagmaPandas/src/MagmaPandas/geochemistry/fO2.py:163: UserWarning: O'Neill fO2: temperatures above 1420K present\n",
      "  w.warn(\"O'Neill fO2: temperatures above 1420K present\")\n",
      "/Users/thomas/Desktop/MagmaPandas/src/MagmaPandas/geochemistry/fO2.py:163: UserWarning: O'Neill fO2: temperatures above 1420K present\n",
      "  w.warn(\"O'Neill fO2: temperatures above 1420K present\")\n",
      "/Users/thomas/Desktop/MagmaPandas/src/MagmaPandas/geochemistry/fO2.py:163: UserWarning: O'Neill fO2: temperatures above 1420K present\n",
      "  w.warn(\"O'Neill fO2: temperatures above 1420K present\")\n",
      "/Users/thomas/Desktop/MagmaPandas/src/MagmaPandas/geochemistry/fO2.py:163: UserWarning: O'Neill fO2: temperatures above 1420K present\n",
      "  w.warn(\"O'Neill fO2: temperatures above 1420K present\")\n"
     ]
    },
    {
     "data": {
      "text/plain": [
       "[-0.03537500000000001,\n",
       " -0.04800000000000002,\n",
       " -0.05712500000000003,\n",
       " -0.01975,\n",
       " -0.026625000000000006,\n",
       " -0.04550000000000002,\n",
       " -0.02975000000000001,\n",
       " -0.039500000000000014,\n",
       " -0.07062500000000003,\n",
       " -0.03575000000000001,\n",
       " -0.018125,\n",
       " -0.04887500000000002,\n",
       " -0.03237500000000001,\n",
       " -0.028125000000000008,\n",
       " -0.038875000000000014,\n",
       " -0.03187500000000001,\n",
       " -0.040500000000000015,\n",
       " -0.03787500000000001,\n",
       " -0.05450000000000003,\n",
       " -0.041750000000000016]"
      ]
     },
     "execution_count": 6,
     "metadata": {},
     "output_type": "execute_result"
    }
   ],
   "source": [
    "o_crystallised = []\n",
    "for _, inclusion in melt.iterrows():\n",
    "    *_, OC = Fe_equilibrate(inclusion, forsterite_host, P_bar)\n",
    "    o_crystallised.append(OC)\n",
    "o_crystallised"
   ]
  },
  {
   "cell_type": "code",
   "execution_count": 7,
   "metadata": {},
   "outputs": [
    {
     "data": {
      "text/plain": [
       "name\n",
       "PI054-07-06   -0.035375\n",
       "PI054-07-05   -0.048000\n",
       "PI056-04-02   -0.057125\n",
       "PI116-04-01   -0.019750\n",
       "PI056-05-01   -0.026625\n",
       "PI089-03-01   -0.045500\n",
       "PI074-05-01   -0.029750\n",
       "PI052-02-01   -0.039500\n",
       "PI056-04-03   -0.070125\n",
       "PI085-04-02   -0.035750\n",
       "PI052-03-04   -0.018125\n",
       "PI085-04-05   -0.048875\n",
       "PI085-01-01   -0.032375\n",
       "PI085-01-06   -0.028125\n",
       "PI085-03-02   -0.038875\n",
       "PI052-03-02   -0.031875\n",
       "PI085-03-01   -0.040500\n",
       "PI085-01-05   -0.037875\n",
       "PI085-02-01   -0.054250\n",
       "PI052-05-01   -0.041750\n",
       "dtype: float64"
      ]
     },
     "execution_count": 7,
     "metadata": {},
     "output_type": "execute_result"
    }
   ],
   "source": [
    "F1"
   ]
  },
  {
   "cell_type": "code",
   "execution_count": null,
   "metadata": {},
   "outputs": [],
   "source": [
    "from MagmaPandas import Olivine"
   ]
  },
  {
   "cell_type": "code",
   "execution_count": null,
   "metadata": {},
   "outputs": [],
   "source": [
    "Olivine({\"MgO\": 1.4, \"FeO\":0.6, \"SiO2\":1}, columns=melt.columns, index=melt.index)"
   ]
  },
  {
   "cell_type": "code",
   "execution_count": null,
   "metadata": {},
   "outputs": [],
   "source": []
  }
 ],
 "metadata": {
  "interpreter": {
   "hash": "3a9bb5c46ea8dfb7b7b773d3f421233097d1a58d8de08b35bdb5d7d6a8b4b418"
  },
  "kernelspec": {
   "display_name": "Python 3.9.7 ('base')",
   "language": "python",
   "name": "python3"
  },
  "language_info": {
   "codemirror_mode": {
    "name": "ipython",
    "version": 3
   },
   "file_extension": ".py",
   "mimetype": "text/x-python",
   "name": "python",
   "nbconvert_exporter": "python",
   "pygments_lexer": "ipython3",
   "version": "3.9.7"
  },
  "orig_nbformat": 4
 },
 "nbformat": 4,
 "nbformat_minor": 2
}
