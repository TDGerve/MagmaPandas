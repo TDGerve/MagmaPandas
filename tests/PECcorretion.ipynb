{
 "cells": [
  {
   "cell_type": "code",
   "execution_count": 1,
   "metadata": {},
   "outputs": [
    {
     "name": "stdout",
     "output_type": "stream",
     "text": [
      "Kd Fe-Mg ol-melt.......................toplis\n",
      "Melt Fe3+/Fe2+........................borisov\n",
      "Melt thermometer...............putirka2008_16\n",
      "Volatile solubility model......IaconoMarziano\n"
     ]
    }
   ],
   "source": [
    "# import pandas as pd\n",
    "import MagmaPandas as mp\n",
    "import MagmaPandas.geochemistry.PEC as pec\n",
    "import pandas as pd\n",
    "import elements as e\n",
    "import matplotlib.pyplot as plt\n",
    "import meltInc.plotting as p\n",
    "\n",
    "p.layout()\n",
    "config = mp.configuration()\n",
    "config.melt_thermometer = \"putirka2008_16\"\n",
    "config.print()"
   ]
  },
  {
   "cell_type": "code",
   "execution_count": 2,
   "metadata": {},
   "outputs": [],
   "source": [
    "melt = mp.read_melt_inclusion('./melt.csv', index_col=['name'], total_col='total')\n",
    "olivine = mp.read_olivine('./olivine.csv', index_col=['name'], total_col=\"total\")"
   ]
  },
  {
   "cell_type": "code",
   "execution_count": 3,
   "metadata": {},
   "outputs": [
    {
     "data": {
      "text/plain": [
       "0.9"
      ]
     },
     "execution_count": 3,
     "metadata": {},
     "output_type": "execute_result"
    }
   ],
   "source": [
    "idx = 6\n",
    "forsterites = olivine.forsterite\n",
    "inclusion = melt.iloc[idx, :].copy()\n",
    "ol_host = olivine.iloc[idx, :].copy()\n",
    "Fo = 0.9\n",
    "FeO_initial = 11.2\n",
    "P_bar = 2e3\n",
    "Fo"
   ]
  },
  {
   "cell_type": "code",
   "execution_count": 4,
   "metadata": {},
   "outputs": [],
   "source": [
    "w, t, kd, oc = pec.Fe_equilibrate(inclusion, Fo, P_bar)"
   ]
  },
  {
   "cell_type": "code",
   "execution_count": 5,
   "metadata": {},
   "outputs": [
    {
     "data": {
      "text/plain": [
       "((0.2719287107742716, 0.2720205441666485), -0.041750000000000016)"
      ]
     },
     "execution_count": 5,
     "metadata": {},
     "output_type": "execute_result"
    }
   ],
   "source": [
    "kd, oc"
   ]
  },
  {
   "cell_type": "code",
   "execution_count": 6,
   "metadata": {},
   "outputs": [],
   "source": [
    "inclusion_2 = w.iloc[-1]"
   ]
  },
  {
   "cell_type": "code",
   "execution_count": 7,
   "metadata": {},
   "outputs": [
    {
     "data": {
      "text/plain": [
       "SiO2      45.373889\n",
       "Al2O3     18.470178\n",
       "MgO        7.758383\n",
       "CaO       10.216885\n",
       "FeO        7.232251\n",
       "Na2O       4.125613\n",
       "K2O        1.450992\n",
       "MnO        0.186025\n",
       "TiO2       3.297803\n",
       "P2O5       1.031403\n",
       "Cr2O3      0.000000\n",
       "CO2        0.214755\n",
       "H2O        0.376116\n",
       "F          0.092806\n",
       "S          0.103967\n",
       "Cl         0.068932\n",
       "total    100.000000\n",
       "Name: -0.014000000000000004, dtype: float64"
      ]
     },
     "execution_count": 7,
     "metadata": {},
     "output_type": "execute_result"
    }
   ],
   "source": [
    "inclusion_2"
   ]
  },
  {
   "cell_type": "code",
   "execution_count": 8,
   "metadata": {},
   "outputs": [
    {
     "name": "stdout",
     "output_type": "stream",
     "text": [
      "Float64Index([0.0, 0.05, 0.1, 0.15, 0.2, 0.25], dtype='float64')\n",
      "Float64Index([0.0, 0.05, 0.1, 0.15, 0.2, 0.21, 0.22], dtype='float64')\n"
     ]
    }
   ],
   "source": [
    "w2, om, kd2, t = pec.crystallisation_correction(inclusion_2, Fo, FeO_initial, P_bar)"
   ]
  },
  {
   "cell_type": "code",
   "execution_count": 14,
   "metadata": {},
   "outputs": [
    {
     "data": {
      "text/plain": [
       "(1515.5473620554594, 1456.242112211864)"
      ]
     },
     "execution_count": 14,
     "metadata": {},
     "output_type": "execute_result"
    }
   ],
   "source": [
    "t"
   ]
  },
  {
   "cell_type": "code",
   "execution_count": 11,
   "metadata": {},
   "outputs": [
    {
     "data": {
      "text/plain": [
       "[<matplotlib.lines.Line2D at 0x11ea16ca0>]"
      ]
     },
     "execution_count": 11,
     "metadata": {},
     "output_type": "execute_result"
    },
    {
     "data": {
      "image/png": "[encoded data removed]",
      "text/plain": [
       "<Figure size 576x576 with 1 Axes>"
      ]
     },
     "metadata": {
      "needs_background": "light"
     },
     "output_type": "display_data"
    }
   ],
   "source": [
    "fig, ax = plt.subplots(figsize=(8,8))\n",
    "\n",
    "ax.plot(w[\"MgO\"], w[\"FeO\"], \"-o\")\n",
    "ax.plot(w2[\"MgO\"], w2[\"FeO\"], \"-D\")"
   ]
  },
  {
   "cell_type": "code",
   "execution_count": null,
   "metadata": {},
   "outputs": [],
   "source": []
  }
 ],
 "metadata": {
  "kernelspec": {
   "display_name": "Python 3.9.7 ('base')",
   "language": "python",
   "name": "python3"
  },
  "language_info": {
   "codemirror_mode": {
    "name": "ipython",
    "version": 3
   },
   "file_extension": ".py",
   "mimetype": "text/x-python",
   "name": "python",
   "nbconvert_exporter": "python",
   "pygments_lexer": "ipython3",
   "version": "3.9.7"
  },
  "orig_nbformat": 4,
  "vscode": {
   "interpreter": {
    "hash": "3a9bb5c46ea8dfb7b7b773d3f421233097d1a58d8de08b35bdb5d7d6a8b4b418"
   }
  }
 },
 "nbformat": 4,
 "nbformat_minor": 2
}
