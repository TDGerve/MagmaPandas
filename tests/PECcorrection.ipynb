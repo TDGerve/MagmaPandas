{
 "cells": [
  {
   "cell_type": "code",
   "execution_count": 1,
   "metadata": {},
   "outputs": [
    {
     "name": "stdout",
     "output_type": "stream",
     "text": [
      "################ MagmaPandas ################\n",
      "#############################################\n",
      "\n",
      "General settings____________________________\n",
      "fO2 buffer................................QFM\n",
      "ΔQFM........................................1\n",
      "Melt Fe3+/Fe2+........................borisov\n",
      "Kd Fe-Mg ol-melt.......................toplis\n",
      "Melt thermometer...............putirka2008_15\n",
      "Volatile solubility model......IaconoMarziano\n"
     ]
    }
   ],
   "source": [
    "# import pandas as pd\n",
    "import MagmaPandas as mp\n",
    "import MagmaPandas.geochemistry.PEC as pec\n",
    "import pandas as pd\n",
    "import elements as e\n",
    "import matplotlib.pyplot as plt\n",
    "import meltInc.plotting as p\n",
    "\n",
    "p.layout()\n",
    "config_pec = pec.PEC_configuration\n",
    "config = mp.configuration\n",
    "config.print()\n"
   ]
  },
  {
   "cell_type": "code",
   "execution_count": 2,
   "metadata": {},
   "outputs": [],
   "source": [
    "melt = mp.read_melt('./melt.csv', index_col=['name'], total_col='total')\n",
    "olivine = mp.read_olivine('./olivine.csv', index_col=['name'], total_col=\"total\")"
   ]
  },
  {
   "cell_type": "code",
   "execution_count": 3,
   "metadata": {},
   "outputs": [],
   "source": [
    "samples = [\"PI041-04-06\", \"PI041-02-01\", \"PI041-02-02\"]\n",
    "inclusions = melt.copy()\n",
    "ol_host = olivine.copy()\n",
    "forsterites = ol_host.forsterite\n",
    "Fo = 0.9\n",
    "# FeO_initial = lambda x: 11.3981 - 0.07896 * x[\"MgO\"]\n",
    "FeO_initial = 11.2\n",
    "P_bar = 1"
   ]
  },
  {
   "cell_type": "code",
   "execution_count": null,
   "metadata": {},
   "outputs": [],
   "source": [
    "equilibrated_inclusions = mp.Melt(index=inclusions.index, columns=inclusions.columns, dtype=float, units=\"wt. %\", datatype=\"oxide\")\n",
    "ol_equilibrated = pd.Series(index=inclusions.index, dtype=float)\n",
    "temperatures = pd.Series(index=inclusions.index, dtype=float)\n",
    "Kds = pd.Series(index=inclusions.index, dtype=float)\n",
    "\n",
    "totalItems= equilibrated_inclusions.shape[0]\n",
    "for i, ((idx, mi), (_, ol)) in enumerate(zip(inclusions.iterrows(), ol_host.iterrows())):\n",
    "\n",
    "    print(f\"{i + 1:0>3}/{totalItems:0>3} inclusions equilibrated\", end= \"\\r\")\n",
    "    x, oc, t, kd = pec.Fe_equilibrate(mi, ol, P_bar)\n",
    "    # print(f\"{abs(t['old'] - t['new']):.2f}\", end=\"\\n\")\n",
    "    equilibrated_inclusions.loc[idx] = x.iloc[-1]\n",
    "    ol_equilibrated.loc[idx] = oc[-1] \n",
    "    Kds.loc[idx] = kd[\"Real\"]"
   ]
  },
  {
   "cell_type": "code",
   "execution_count": null,
   "metadata": {},
   "outputs": [],
   "source": [
    "corrected_inclusions = mp.Melt(index=inclusions.index, columns=inclusions.columns, dtype=float, units=\"wt. %\", datatype=\"oxide\")\n",
    "ol_crystallised = pd.Series(index=inclusions.index, dtype=float)\n",
    "\n",
    "totalItems = equilibrated_inclusions.shape[0]\n",
    "\n",
    "for i, ((idx, mi), (_, ol)) in enumerate(zip(equilibrated_inclusions.iterrows(), ol_host.iterrows())):\n",
    "\n",
    "    print(f\"{i + 1:0>3}/{totalItems:0>3} inclusions corrected\", end= \"\\r\")\n",
    "\n",
    "    x2, oc2, kd2, t = pec.crystallisation_correction(mi, ol, FeO_initial, P_bar)\n",
    "    corrected_inclusions.loc[idx] = x2.iloc[-1]\n",
    "    ol_crystallised.loc[idx] = oc2[-1]"
   ]
  },
  {
   "cell_type": "code",
   "execution_count": null,
   "metadata": {},
   "outputs": [],
   "source": [
    "(ol_crystallised + ol_equilibrated) * 100"
   ]
  },
  {
   "cell_type": "code",
   "execution_count": 4,
   "metadata": {},
   "outputs": [],
   "source": [
    "mi_pec = pec.PEC_olivine(inclusions, ol_host, P_bar, FeO_initial)"
   ]
  },
  {
   "cell_type": "code",
   "execution_count": 10,
   "metadata": {},
   "outputs": [
    {
     "name": "stdout",
     "output_type": "stream",
     "text": [
      "029/029 inclusions equilibrated\n",
      "029/029 inclusions corrected\n"
     ]
    }
   ],
   "source": [
    "mi_pec.reset()\n",
    "X, OC, T = mi_pec.correct()"
   ]
  },
  {
   "cell_type": "code",
   "execution_count": 11,
   "metadata": {},
   "outputs": [
    {
     "data": {
      "text/plain": [
       "name\n",
       "PI032-01-01    13.071961\n",
       "PI032-01-04     7.951685\n",
       "PI032-02-01    13.182230\n",
       "PI032-02-02    12.343913\n",
       "PI032-02-03    13.383247\n",
       "PI032-03-01    13.665441\n",
       "PI032-04-01    11.641377\n",
       "PI032-04-02    12.305822\n",
       "PI032-04-03    10.711367\n",
       "PI032-05-01     4.995492\n",
       "PI041-02-01     1.562500\n",
       "PI041-02-02     3.618905\n",
       "PI041-03-01    14.389191\n",
       "PI041-03-03    13.519474\n",
       "PI041-04-02     4.025270\n",
       "PI041-04-03     3.933707\n",
       "PI041-04-04     3.034227\n",
       "PI041-04-05     4.154130\n",
       "PI041-04-06     4.023639\n",
       "PI041-04-07     5.276681\n",
       "PI041-05-02     1.028213\n",
       "PI041-05-03     1.554758\n",
       "PI041-05-04     1.756074\n",
       "PI041-05-06     1.284802\n",
       "PI041-07-01     9.763100\n",
       "PI041-07-02     9.719688\n",
       "PI041-07-06    10.166449\n",
       "PI052-01-02     0.029241\n",
       "PI052-02-01    11.965879\n",
       "dtype: float64"
      ]
     },
     "execution_count": 11,
     "metadata": {},
     "output_type": "execute_result"
    }
   ],
   "source": [
    "OC * 100"
   ]
  },
  {
   "cell_type": "code",
   "execution_count": 8,
   "metadata": {},
   "outputs": [
    {
     "data": {
      "text/plain": [
       "name\n",
       "PI032-01-01    12.702303\n",
       "PI032-01-04     7.767726\n",
       "PI032-02-01    12.883864\n",
       "PI032-02-02    12.380915\n",
       "PI032-02-03    13.324901\n",
       "PI032-03-01    13.300832\n",
       "PI032-04-01    11.460904\n",
       "PI032-04-02    12.126266\n",
       "PI032-04-03    10.485422\n",
       "PI032-05-01     4.852974\n",
       "PI041-02-01     1.659998\n",
       "PI041-02-02     3.428407\n",
       "PI041-03-01    14.120719\n",
       "PI041-03-03    13.426833\n",
       "PI041-04-02     3.846291\n",
       "PI041-04-03     3.742614\n",
       "PI041-04-04     3.024855\n",
       "PI041-04-05     3.954029\n",
       "PI041-04-06     4.054568\n",
       "PI041-04-07     5.415413\n",
       "PI041-05-02     0.823849\n",
       "PI041-05-03     1.493442\n",
       "PI041-05-04     1.937721\n",
       "PI041-05-06     1.198245\n",
       "PI041-07-01     9.805738\n",
       "PI041-07-02     9.798113\n",
       "PI041-07-06     9.904408\n",
       "PI052-01-02     0.073559\n",
       "PI052-02-01    11.684948\n",
       "dtype: float64"
      ]
     },
     "execution_count": 8,
     "metadata": {},
     "output_type": "execute_result"
    }
   ],
   "source": [
    "OC * 100"
   ]
  },
  {
   "cell_type": "code",
   "execution_count": null,
   "metadata": {},
   "outputs": [],
   "source": [
    "t = mi_pec.correct_inclusion(5)"
   ]
  },
  {
   "cell_type": "code",
   "execution_count": null,
   "metadata": {},
   "outputs": [],
   "source": [
    "import MagmaPandas.geochemistry.fO2 as fO2\n",
    "import MagmaPandas.geochemistry.Fe_redox as fe\n",
    "\n",
    "T_K = X.temperature(P_bar)\n",
    "moles = X.moles\n",
    "fO2 = fO2.fO2_QFM(1, T_K, P_bar)\n",
    "Fe3Fe2 = fe.Fe_redox.kressCarmichael(moles, T_K, fO2, P_bar)\n",
    "\n",
    "Fe2_FeTotal = 1 / (1 + Fe3Fe2)\n",
    "melt_MgFe = moles[\"MgO\"] / (moles[\"FeO\"] * Fe2_FeTotal)\n",
    "\n",
    "Kd_eq, Kd_obs = mi_pec.calculate_Kds()\n",
    "\n",
    "olivine_MgFe = melt_MgFe / Kd_obs\n",
    "Fo = olivine_MgFe / (olivine_MgFe + 1)"
   ]
  },
  {
   "cell_type": "code",
   "execution_count": null,
   "metadata": {},
   "outputs": [],
   "source": [
    "abs(Fo - ol_host.forsterite) * 100"
   ]
  },
  {
   "cell_type": "code",
   "execution_count": null,
   "metadata": {},
   "outputs": [],
   "source": [
    "markersize = 12\n",
    "\n",
    "fig, ax = plt.subplots(figsize=(8,7))\n",
    "\n",
    "for (idx, i), (_, j) in zip(mi_pec.inclusions.iterrows(), mi_pec.inclusions_uncorrected.iterrows()):\n",
    "    data = pd.concat([pd.Series(i), pd.Series(j)], axis=1).T\n",
    "    data.index = [\"corrected\", \"original\"]\n",
    "    plt.plot(data[\"MgO\"], data[\"FeO\"], \"--\", color=\"k\")\n",
    "\n",
    "plt.plot(mi_pec.inclusions[\"MgO\"], mi_pec.inclusions[\"FeO\"], \"o\", markersize=markersize)\n",
    "plt.plot(mi_pec.inclusions_uncorrected[\"MgO\"], mi_pec.inclusions_uncorrected[\"FeO\"], \"D\", markersize=markersize)\n",
    "\n",
    "ax.set_xlabel(\"wt. % MgO\")\n",
    "ax.set_ylabel(\"wt. % FeO\")\n",
    "\n",
    "plt.show()"
   ]
  },
  {
   "cell_type": "code",
   "execution_count": null,
   "metadata": {},
   "outputs": [],
   "source": []
  }
 ],
 "metadata": {
  "kernelspec": {
   "display_name": "Python 3.10.5 ('py310')",
   "language": "python",
   "name": "python3"
  },
  "language_info": {
   "codemirror_mode": {
    "name": "ipython",
    "version": 3
   },
   "file_extension": ".py",
   "mimetype": "text/x-python",
   "name": "python",
   "nbconvert_exporter": "python",
   "pygments_lexer": "ipython3",
   "version": "3.10.5"
  },
  "orig_nbformat": 4,
  "vscode": {
   "interpreter": {
    "hash": "4b701f657d075cf990b60e06b28aaf26cc35cacdbae41fa41850956724588167"
   }
  }
 },
 "nbformat": 4,
 "nbformat_minor": 2
}
