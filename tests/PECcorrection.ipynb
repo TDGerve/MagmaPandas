{
 "cells": [
  {
   "cell_type": "code",
   "execution_count": 1,
   "metadata": {},
   "outputs": [
    {
     "name": "stdout",
     "output_type": "stream",
     "text": [
      "############## Post-entrapment modification #############\n",
      "#################### correction model ###################\n",
      "\n",
      "Settings________________________________________________\n",
      "Fe2+ behaviour...................................buffered\n",
      "Stepsize equilibration (moles)...................0.002   \n",
      "Stepsize crystallisation (moles).................0.05    \n",
      "Decrease factor..................................5       \n",
      "FeO convergence (wt. %)..........................0.05    \n",
      "Kd convergence...................................0.001   \n",
      "Temperature convergence (°)......................0.1     \n"
     ]
    }
   ],
   "source": [
    "# import pandas as pd\n",
    "import MagmaPandas as mp\n",
    "import MagmaPandas.geochemistry.PEC as pec\n",
    "import pandas as pd\n",
    "import elements as e\n",
    "import matplotlib.pyplot as plt\n",
    "import meltInc.plotting as p\n",
    "\n",
    "p.layout()\n",
    "config = pec.PEC_configuration\n",
    "config.print()"
   ]
  },
  {
   "cell_type": "code",
   "execution_count": 2,
   "metadata": {},
   "outputs": [],
   "source": [
    "melt = mp.read_melt('./melt.csv', index_col=['name'], total_col='total')\n",
    "olivine = mp.read_olivine('./olivine.csv', index_col=['name'], total_col=\"total\")"
   ]
  },
  {
   "cell_type": "code",
   "execution_count": 3,
   "metadata": {},
   "outputs": [],
   "source": [
    "samples = [\"PI041-04-06\", \"PI041-02-01\", \"PI041-02-02\"]\n",
    "inclusions = melt.copy()\n",
    "ol_host = olivine.copy()\n",
    "forsterites = ol_host.forsterite\n",
    "Fo = 0.9\n",
    "# FeO_initial = lambda x: 11.3981 - 0.07896 * x[\"MgO\"]\n",
    "FeO_initial = 11.2\n",
    "P_bar = 1"
   ]
  },
  {
   "cell_type": "code",
   "execution_count": 4,
   "metadata": {},
   "outputs": [
    {
     "name": "stdout",
     "output_type": "stream",
     "text": [
      "029/029 inclusions equilibrated\r"
     ]
    }
   ],
   "source": [
    "equilibrated_inclusions = mp.Melt(index=inclusions.index, columns=inclusions.columns, dtype=float, units=\"wt. %\", datatype=\"oxide\")\n",
    "ol_equilibrated = pd.Series(index=inclusions.index, dtype=float)\n",
    "temperatures = pd.Series(index=inclusions.index, dtype=float)\n",
    "Kds = pd.Series(index=inclusions.index, dtype=float)\n",
    "\n",
    "totalItems= equilibrated_inclusions.shape[0]\n",
    "for i, ((idx, mi), (_, ol)) in enumerate(zip(inclusions.iterrows(), ol_host.iterrows())):\n",
    "\n",
    "    print(f\"{i + 1:0>3}/{totalItems:0>3} inclusions equilibrated\", end= \"\\r\")\n",
    "    x, oc, t, kd = pec.Fe_equilibrate(mi, ol, P_bar)\n",
    "    # print(f\"{abs(t['old'] - t['new']):.2f}\", end=\"\\n\")\n",
    "    equilibrated_inclusions.loc[idx] = x.iloc[-1]\n",
    "    ol_equilibrated.loc[idx] = oc[-1] \n",
    "    Kds.loc[idx] = kd[\"Real\"]"
   ]
  },
  {
   "cell_type": "code",
   "execution_count": 5,
   "metadata": {},
   "outputs": [
    {
     "name": "stdout",
     "output_type": "stream",
     "text": [
      "029/029 inclusions corrected\r"
     ]
    }
   ],
   "source": [
    "corrected_inclusions = mp.Melt(index=inclusions.index, columns=inclusions.columns, dtype=float, units=\"wt. %\", datatype=\"oxide\")\n",
    "ol_crystallised = pd.Series(index=inclusions.index, dtype=float)\n",
    "\n",
    "totalItems = equilibrated_inclusions.shape[0]\n",
    "\n",
    "for i, ((idx, mi), (_, ol)) in enumerate(zip(equilibrated_inclusions.iterrows(), ol_host.iterrows())):\n",
    "\n",
    "    print(f\"{i + 1:0>3}/{totalItems:0>3} inclusions corrected\", end= \"\\r\")\n",
    "\n",
    "    x2, oc2, kd2, t = pec.crystallisation_correction(mi, ol, FeO_initial, P_bar)\n",
    "    corrected_inclusions.loc[idx] = x2.iloc[-1]\n",
    "    ol_crystallised.loc[idx] = oc2[-1]"
   ]
  },
  {
   "cell_type": "code",
   "execution_count": 12,
   "metadata": {},
   "outputs": [
    {
     "data": {
      "text/plain": [
       "name\n",
       "PI032-01-01   -0.158112\n",
       "PI032-01-04    0.345496\n",
       "PI032-02-01    0.375070\n",
       "PI032-02-02    0.356040\n",
       "PI032-02-03   -0.360626\n",
       "PI032-03-01    0.375065\n",
       "PI032-04-01    0.560580\n",
       "PI032-04-02    0.360329\n",
       "PI032-04-03    0.351454\n",
       "PI032-05-01    0.351209\n",
       "PI041-02-01    0.000000\n",
       "PI041-02-02   -0.352397\n",
       "PI041-03-01    0.505680\n",
       "PI041-03-03    0.160673\n",
       "PI041-04-02    0.004215\n",
       "PI041-04-03   -0.355376\n",
       "PI041-04-04    0.347404\n",
       "PI041-04-05   -0.285635\n",
       "PI041-04-06   -0.349409\n",
       "PI041-04-07    0.006090\n",
       "PI041-05-02    0.006654\n",
       "PI041-05-03   -0.081453\n",
       "PI041-05-04    0.358751\n",
       "PI041-05-06    0.352705\n",
       "PI041-07-01    0.359898\n",
       "PI041-07-02    0.356463\n",
       "PI041-07-06   -0.009028\n",
       "PI052-01-02    0.280524\n",
       "PI052-02-01    0.342952\n",
       "dtype: float64"
      ]
     },
     "execution_count": 12,
     "metadata": {},
     "output_type": "execute_result"
    }
   ],
   "source": [
    "((ol_crystallised + ol_equilibrated) - OC) * 100"
   ]
  },
  {
   "cell_type": "code",
   "execution_count": 10,
   "metadata": {},
   "outputs": [
    {
     "data": {
      "text/plain": [
       "name\n",
       "PI032-01-01    12.0528\n",
       "PI032-01-04     6.1552\n",
       "PI032-02-01    11.9632\n",
       "PI032-02-02    11.0592\n",
       "PI032-02-03    12.5824\n",
       "PI032-03-01    12.0848\n",
       "PI032-04-01    11.1712\n",
       "PI032-04-02    12.1648\n",
       "PI032-04-03    10.5024\n",
       "PI032-05-01     3.2864\n",
       "PI041-02-01     1.6000\n",
       "PI041-02-02     3.9696\n",
       "PI041-03-01    13.9328\n",
       "PI041-03-03    13.2176\n",
       "PI041-04-02     3.5648\n",
       "PI041-04-03     4.4288\n",
       "PI041-04-04     2.7072\n",
       "PI041-04-05     4.1056\n",
       "PI041-04-06     4.4224\n",
       "PI041-04-07     5.3648\n",
       "PI041-05-02     0.5584\n",
       "PI041-05-03     1.0480\n",
       "PI041-05-04     1.4528\n",
       "PI041-05-06     1.1072\n",
       "PI041-07-01     9.4832\n",
       "PI041-07-02     9.7008\n",
       "PI041-07-06    10.1248\n",
       "PI052-01-02    -1.4800\n",
       "PI052-02-01    10.5136\n",
       "dtype: float64"
      ]
     },
     "execution_count": 10,
     "metadata": {},
     "output_type": "execute_result"
    }
   ],
   "source": [
    "OC * 100"
   ]
  },
  {
   "cell_type": "code",
   "execution_count": 7,
   "metadata": {},
   "outputs": [],
   "source": [
    "mi_pec = pec.PEC_olivine(inclusions, ol_host, P_bar, FeO_initial)"
   ]
  },
  {
   "cell_type": "code",
   "execution_count": 14,
   "metadata": {},
   "outputs": [],
   "source": [
    "import MagmaPandas.geochemistry.fO2 as fO2\n",
    "import MagmaPandas.geochemistry.Fe_redox as fe\n",
    "\n",
    "T_K = x.temperature(P_bar)\n",
    "moles = x.moles\n",
    "fO2 = fO2.fO2_QFM(1, T_K, P_bar)\n",
    "Fe3Fe2 = fe.Fe_redox.kressCarmichael(moles, T_K, fO2, P_bar)\n",
    "\n",
    "Fe2_FeTotal = 1 / (1 + Fe3Fe2)\n",
    "melt_MgFe = moles[\"MgO\"] / (moles[\"FeO\"] * Fe2_FeTotal)\n",
    "\n",
    "Kd_eq, Kd_obs = mi_pec.calculate_Kds()\n",
    "\n",
    "olivine_MgFe = melt_MgFe / Kds\n",
    "Fo = olivine_MgFe / (olivine_MgFe + 1)"
   ]
  },
  {
   "cell_type": "code",
   "execution_count": 15,
   "metadata": {},
   "outputs": [
    {
     "data": {
      "text/plain": [
       "sample\n",
       "PI032-01-01    0.657957\n",
       "PI032-01-04    0.436673\n",
       "PI032-02-01    0.782766\n",
       "PI032-02-02    0.634068\n",
       "PI032-02-03    0.704613\n",
       "PI032-03-01    0.710995\n",
       "PI032-04-01    0.219759\n",
       "PI032-04-02    0.208411\n",
       "PI032-04-03    0.344535\n",
       "PI032-05-01    0.523263\n",
       "PI041-02-01    0.252472\n",
       "PI041-02-02    0.472328\n",
       "PI041-03-01    0.530517\n",
       "PI041-03-03    0.558839\n",
       "PI041-04-02    0.479181\n",
       "PI041-04-03    0.451842\n",
       "PI041-04-04    0.445859\n",
       "PI041-04-05    0.559108\n",
       "PI041-04-06    0.528314\n",
       "PI041-04-07    0.639893\n",
       "PI041-05-02    0.474424\n",
       "PI041-05-03    0.505950\n",
       "PI041-05-04    0.484916\n",
       "PI041-05-06    0.416821\n",
       "PI041-07-01    0.365196\n",
       "PI041-07-02    0.413952\n",
       "PI041-07-06    0.400915\n",
       "PI052-01-02    0.461865\n",
       "PI052-02-01    0.358838\n",
       "dtype: float64"
      ]
     },
     "execution_count": 15,
     "metadata": {},
     "output_type": "execute_result"
    }
   ],
   "source": [
    "abs(Fo * 100 - ol_host.forsterite * 100)"
   ]
  },
  {
   "cell_type": "code",
   "execution_count": 8,
   "metadata": {},
   "outputs": [
    {
     "name": "stdout",
     "output_type": "stream",
     "text": [
      "029/029 inclusions equilibrated\n",
      "029/029 inclusions corrected\n"
     ]
    }
   ],
   "source": [
    "x, OC, T = mi_pec.correct()"
   ]
  },
  {
   "cell_type": "code",
   "execution_count": null,
   "metadata": {},
   "outputs": [],
   "source": []
  },
  {
   "cell_type": "code",
   "execution_count": null,
   "metadata": {},
   "outputs": [],
   "source": [
    "oc"
   ]
  },
  {
   "cell_type": "code",
   "execution_count": null,
   "metadata": {},
   "outputs": [],
   "source": [
    "t = mi_pec.correct_inclusion(5)"
   ]
  },
  {
   "cell_type": "code",
   "execution_count": null,
   "metadata": {},
   "outputs": [],
   "source": [
    "markersize = 12\n",
    "\n",
    "fig, ax = plt.subplots(figsize=(8,7))\n",
    "\n",
    "for (idx, i), (_, j) in zip(mi_pec.inclusions.iterrows(), mi_pec.inclusions_uncorrected.iterrows()):\n",
    "    data = pd.concat([pd.Series(i), pd.Series(j)], axis=1).T\n",
    "    data.index = [\"corrected\", \"original\"]\n",
    "    plt.plot(data[\"MgO\"], data[\"FeO\"], \"--\", color=\"k\")\n",
    "\n",
    "plt.plot(mi_pec.inclusions[\"MgO\"], mi_pec.inclusions[\"FeO\"], \"o\", markersize=markersize)\n",
    "plt.plot(mi_pec.inclusions_uncorrected[\"MgO\"], mi_pec.inclusions_uncorrected[\"FeO\"], \"D\", markersize=markersize)\n",
    "\n",
    "ax.set_xlabel(\"wt. % MgO\")\n",
    "ax.set_ylabel(\"wt. % FeO\")\n",
    "\n",
    "plt.show()"
   ]
  }
 ],
 "metadata": {
  "kernelspec": {
   "display_name": "Python 3.9.7 ('base')",
   "language": "python",
   "name": "python3"
  },
  "language_info": {
   "codemirror_mode": {
    "name": "ipython",
    "version": 3
   },
   "file_extension": ".py",
   "mimetype": "text/x-python",
   "name": "python",
   "nbconvert_exporter": "python",
   "pygments_lexer": "ipython3",
   "version": "3.9.7"
  },
  "orig_nbformat": 4,
  "vscode": {
   "interpreter": {
    "hash": "3a9bb5c46ea8dfb7b7b773d3f421233097d1a58d8de08b35bdb5d7d6a8b4b418"
   }
  }
 },
 "nbformat": 4,
 "nbformat_minor": 2
}
