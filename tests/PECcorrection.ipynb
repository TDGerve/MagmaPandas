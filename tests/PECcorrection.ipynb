{
 "cells": [
  {
   "cell_type": "code",
   "execution_count": 1,
   "metadata": {},
   "outputs": [
    {
     "name": "stdout",
     "output_type": "stream",
     "text": [
      "############## Post-entrapment modification #############\n",
      "#################### correction model ###################\n",
      "\n",
      "Settings________________________________________________\n",
      "Stepsize equilibration (moles)......................0.002\n",
      "Stepsize crystallisation (moles)....................0.005\n",
      "Decrease factor.....................................5    \n",
      "FeO convergence (wt. %).............................0.05 \n",
      "Kd convergence......................................0.001\n",
      "Temperature convergence (°).........................0.1  \n"
     ]
    }
   ],
   "source": [
    "# import pandas as pd\n",
    "import MagmaPandas as mp\n",
    "import MagmaPandas.geochemistry.PEC as pec\n",
    "import pandas as pd\n",
    "import elements as e\n",
    "import matplotlib.pyplot as plt\n",
    "import meltInc.plotting as p\n",
    "\n",
    "p.layout()\n",
    "config = pec.PEC_configuration()\n",
    "config.print()"
   ]
  },
  {
   "cell_type": "code",
   "execution_count": 2,
   "metadata": {},
   "outputs": [],
   "source": [
    "melt = mp.read_melt_inclusion('./melt.csv', index_col=['name'], total_col='total')\n",
    "olivine = mp.read_olivine('./olivine.csv', index_col=['name'], total_col=\"total\")"
   ]
  },
  {
   "cell_type": "code",
   "execution_count": 3,
   "metadata": {},
   "outputs": [],
   "source": [
    "forsterites = olivine.forsterite\n",
    "inclusions = melt.iloc[[0,1], :].copy()\n",
    "ol_host = olivine.iloc[[0,1], :].copy()\n",
    "Fo = 0.9\n",
    "FeO_initial = 11.2\n",
    "P_bar = 2e3"
   ]
  },
  {
   "cell_type": "code",
   "execution_count": 4,
   "metadata": {},
   "outputs": [],
   "source": [
    "equilibrated_inclusions = mp.MagmaFrame(index=inclusions.index, columns=inclusions.columns, dtype=float, units=\"wt. %\", datatype=\"oxide\")\n",
    "ol_equilibrated = pd.Series(index=inclusions.index, dtype=float)\n",
    "\n",
    "for (idx, mi), (_, ol) in zip(inclusions.iterrows(), ol_host.iterrows()):\n",
    "\n",
    "    x, oc, kd = pec.Fe_equilibrate(mi, ol, P_bar)\n",
    "    equilibrated_inclusions.loc[idx] = x.iloc[-1]\n",
    "    ol_equilibrated.loc[idx] = oc"
   ]
  },
  {
   "cell_type": "code",
   "execution_count": 5,
   "metadata": {},
   "outputs": [
    {
     "data": {
      "text/html": [
       "<div>\n",
       "<style scoped>\n",
       "    .dataframe tbody tr th:only-of-type {\n",
       "        vertical-align: middle;\n",
       "    }\n",
       "\n",
       "    .dataframe tbody tr th {\n",
       "        vertical-align: top;\n",
       "    }\n",
       "\n",
       "    .dataframe thead th {\n",
       "        text-align: right;\n",
       "    }\n",
       "</style>\n",
       "<table border=\"1\" class=\"dataframe\">\n",
       "  <thead>\n",
       "    <tr style=\"text-align: right;\">\n",
       "      <th></th>\n",
       "      <th>SiO2</th>\n",
       "      <th>Al2O3</th>\n",
       "      <th>MgO</th>\n",
       "      <th>CaO</th>\n",
       "      <th>FeO</th>\n",
       "      <th>Na2O</th>\n",
       "      <th>K2O</th>\n",
       "      <th>MnO</th>\n",
       "      <th>TiO2</th>\n",
       "      <th>SO3</th>\n",
       "      <th>P2O5</th>\n",
       "      <th>Cl</th>\n",
       "      <th>Cr2O3</th>\n",
       "      <th>CO2</th>\n",
       "      <th>H2O</th>\n",
       "      <th>total</th>\n",
       "    </tr>\n",
       "    <tr>\n",
       "      <th>name</th>\n",
       "      <th></th>\n",
       "      <th></th>\n",
       "      <th></th>\n",
       "      <th></th>\n",
       "      <th></th>\n",
       "      <th></th>\n",
       "      <th></th>\n",
       "      <th></th>\n",
       "      <th></th>\n",
       "      <th></th>\n",
       "      <th></th>\n",
       "      <th></th>\n",
       "      <th></th>\n",
       "      <th></th>\n",
       "      <th></th>\n",
       "      <th></th>\n",
       "    </tr>\n",
       "  </thead>\n",
       "  <tbody>\n",
       "    <tr>\n",
       "      <th>PI032-01-01</th>\n",
       "      <td>50.849184</td>\n",
       "      <td>15.711115</td>\n",
       "      <td>5.274111</td>\n",
       "      <td>11.036782</td>\n",
       "      <td>8.306921</td>\n",
       "      <td>4.184944</td>\n",
       "      <td>0.924506</td>\n",
       "      <td>0.126366</td>\n",
       "      <td>2.733596</td>\n",
       "      <td>0.345907</td>\n",
       "      <td>0.436220</td>\n",
       "      <td>0.070349</td>\n",
       "      <td>0.0</td>\n",
       "      <td>0.0</td>\n",
       "      <td>0.0</td>\n",
       "      <td>100.0</td>\n",
       "    </tr>\n",
       "    <tr>\n",
       "      <th>PI032-01-04</th>\n",
       "      <td>46.011854</td>\n",
       "      <td>16.299718</td>\n",
       "      <td>5.639983</td>\n",
       "      <td>11.767731</td>\n",
       "      <td>9.462865</td>\n",
       "      <td>3.813415</td>\n",
       "      <td>1.488855</td>\n",
       "      <td>0.156891</td>\n",
       "      <td>4.098980</td>\n",
       "      <td>0.560157</td>\n",
       "      <td>0.628531</td>\n",
       "      <td>0.071019</td>\n",
       "      <td>0.0</td>\n",
       "      <td>0.0</td>\n",
       "      <td>0.0</td>\n",
       "      <td>100.0</td>\n",
       "    </tr>\n",
       "  </tbody>\n",
       "</table>\n",
       "</div>"
      ],
      "text/plain": [
       "                  SiO2      Al2O3       MgO        CaO       FeO      Na2O  \\\n",
       "name                                                                         \n",
       "PI032-01-01  50.849184  15.711115  5.274111  11.036782  8.306921  4.184944   \n",
       "PI032-01-04  46.011854  16.299718  5.639983  11.767731  9.462865  3.813415   \n",
       "\n",
       "                  K2O       MnO      TiO2       SO3      P2O5        Cl  \\\n",
       "name                                                                      \n",
       "PI032-01-01  0.924506  0.126366  2.733596  0.345907  0.436220  0.070349   \n",
       "PI032-01-04  1.488855  0.156891  4.098980  0.560157  0.628531  0.071019   \n",
       "\n",
       "             Cr2O3  CO2  H2O  total  \n",
       "name                                 \n",
       "PI032-01-01    0.0  0.0  0.0  100.0  \n",
       "PI032-01-04    0.0  0.0  0.0  100.0  "
      ]
     },
     "execution_count": 5,
     "metadata": {},
     "output_type": "execute_result"
    }
   ],
   "source": [
    "equilibrated_inclusions"
   ]
  },
  {
   "cell_type": "code",
   "execution_count": 6,
   "metadata": {},
   "outputs": [
    {
     "data": {
      "text/plain": [
       "name\n",
       "PI032-01-01    0.0036\n",
       "PI032-01-04   -0.0035\n",
       "dtype: float64"
      ]
     },
     "execution_count": 6,
     "metadata": {},
     "output_type": "execute_result"
    }
   ],
   "source": [
    "ol_equilibrated"
   ]
  },
  {
   "cell_type": "code",
   "execution_count": 7,
   "metadata": {},
   "outputs": [],
   "source": [
    "corrected_inclusions = mp.Melt(index=inclusions.index, columns=inclusions.columns, dtype=float, units=\"wt. %\", datatype=\"oxide\")\n",
    "ol_crystallised = pd.Series(index=inclusions.index, dtype=float)\n",
    "\n",
    "for (idx, mi), (_, ol) in zip(equilibrated_inclusions.iterrows(), ol_host.iterrows()):\n",
    "\n",
    "    x2, oc2, kd2, t = pec.crystallisation_correction(mi, ol, FeO_initial, P_bar)\n",
    "    corrected_inclusions.loc[idx] = x2.iloc[-1]\n",
    "    ol_crystallised.loc[idx] = oc2"
   ]
  },
  {
   "cell_type": "code",
   "execution_count": 15,
   "metadata": {},
   "outputs": [
    {
     "data": {
      "text/plain": [
       "name\n",
       "PI032-01-01    0.1136\n",
       "PI032-01-04    0.0615\n",
       "dtype: float64"
      ]
     },
     "execution_count": 15,
     "metadata": {},
     "output_type": "execute_result"
    }
   ],
   "source": [
    "ol_crystallised + ol_equilibrated"
   ]
  },
  {
   "cell_type": "code",
   "execution_count": 9,
   "metadata": {},
   "outputs": [
    {
     "data": {
      "text/plain": [
       "[<matplotlib.lines.Line2D at 0x129224df0>]"
      ]
     },
     "execution_count": 9,
     "metadata": {},
     "output_type": "execute_result"
    },
    {
     "data": {
      "image/png": "[encoded data removed]",
      "text/plain": [
       "<Figure size 576x576 with 1 Axes>"
      ]
     },
     "metadata": {
      "needs_background": "light"
     },
     "output_type": "display_data"
    }
   ],
   "source": [
    "fig, ax = plt.subplots(figsize=(8,8))\n",
    "\n",
    "plt.plot(x[\"MgO\"], x[\"FeO\"], \"-o\")\n",
    "plt.plot(x2[\"MgO\"], x2[\"FeO\"], \"-D\")\n"
   ]
  },
  {
   "cell_type": "code",
   "execution_count": 10,
   "metadata": {},
   "outputs": [],
   "source": [
    "t = pec.PEC_olivine(inclusions, ol_host, P_bar, FeO_initial)"
   ]
  },
  {
   "cell_type": "code",
   "execution_count": 11,
   "metadata": {},
   "outputs": [
    {
     "name": "stdout",
     "output_type": "stream",
     "text": [
      "T correction 09"
     ]
    }
   ],
   "source": [
    "t.Fe_equilibrate(inplace=True)"
   ]
  },
  {
   "cell_type": "code",
   "execution_count": 12,
   "metadata": {},
   "outputs": [
    {
     "name": "stdout",
     "output_type": "stream",
     "text": [
      "[ True  True] name\n",
      "PI032-01-01    False\n",
      "PI032-01-04    False\n",
      "dtype: bool\n",
      "name\n",
      "PI032-01-01    0.005\n",
      "PI032-01-04    0.005\n",
      "dtype: float64\n",
      "[ True  True] name\n",
      "PI032-01-01    False\n",
      "PI032-01-04    False\n",
      "dtype: bool\n",
      "name\n",
      "PI032-01-01    0.005\n",
      "PI032-01-04    0.005\n",
      "dtype: float64\n",
      "[ True  True] name\n",
      "PI032-01-01    False\n",
      "PI032-01-04    False\n",
      "dtype: bool\n",
      "name\n",
      "PI032-01-01    0.005\n",
      "PI032-01-04    0.005\n",
      "dtype: float64\n",
      "[ True  True] name\n",
      "PI032-01-01    False\n",
      "PI032-01-04    False\n",
      "dtype: bool\n",
      "name\n",
      "PI032-01-01    0.005\n",
      "PI032-01-04    0.005\n",
      "dtype: float64\n",
      "[ True  True] name\n",
      "PI032-01-01    False\n",
      "PI032-01-04    False\n",
      "dtype: bool\n",
      "name\n",
      "PI032-01-01    0.005\n",
      "PI032-01-04    0.005\n",
      "dtype: float64\n",
      "[ True  True] name\n",
      "PI032-01-01    False\n",
      "PI032-01-04    False\n",
      "dtype: bool\n",
      "name\n",
      "PI032-01-01    0.005\n",
      "PI032-01-04    0.005\n",
      "dtype: float64\n",
      "[ True  True] name\n",
      "PI032-01-01    False\n",
      "PI032-01-04    False\n",
      "dtype: bool\n",
      "name\n",
      "PI032-01-01    0.005\n",
      "PI032-01-04    0.005\n",
      "dtype: float64\n",
      "[ True  True] name\n",
      "PI032-01-01    False\n",
      "PI032-01-04    False\n",
      "dtype: bool\n",
      "name\n",
      "PI032-01-01    0.005\n",
      "PI032-01-04    0.005\n",
      "dtype: float64\n",
      "[ True  True] name\n",
      "PI032-01-01    False\n",
      "PI032-01-04    False\n",
      "dtype: bool\n",
      "name\n",
      "PI032-01-01    0.005\n",
      "PI032-01-04    0.005\n",
      "dtype: float64\n",
      "[ True  True] name\n",
      "PI032-01-01    False\n",
      "PI032-01-04    False\n",
      "dtype: bool\n",
      "name\n",
      "PI032-01-01    0.005\n",
      "PI032-01-04    0.005\n",
      "dtype: float64\n",
      "[ True  True] name\n",
      "PI032-01-01    False\n",
      "PI032-01-04    False\n",
      "dtype: bool\n",
      "name\n",
      "PI032-01-01    0.005\n",
      "PI032-01-04    0.005\n",
      "dtype: float64\n",
      "[ True  True] name\n",
      "PI032-01-01    False\n",
      "PI032-01-04    False\n",
      "dtype: bool\n",
      "name\n",
      "PI032-01-01    0.005\n",
      "PI032-01-04    0.005\n",
      "dtype: float64\n",
      "[ True False] name\n",
      "PI032-01-01    False\n",
      "PI032-01-04    False\n",
      "dtype: bool\n",
      "name\n",
      "PI032-01-01    0.005\n",
      "PI032-01-04    0.005\n",
      "dtype: float64\n",
      "[ True] name\n",
      "PI032-01-01    False\n",
      "dtype: bool\n",
      "name\n",
      "PI032-01-01    0.005\n",
      "dtype: float64\n",
      "[ True] name\n",
      "PI032-01-01    False\n",
      "dtype: bool\n",
      "name\n",
      "PI032-01-01    0.005\n",
      "dtype: float64\n",
      "[ True] name\n",
      "PI032-01-01    False\n",
      "dtype: bool\n",
      "name\n",
      "PI032-01-01    0.005\n",
      "dtype: float64\n",
      "[ True] name\n",
      "PI032-01-01    False\n",
      "dtype: bool\n",
      "name\n",
      "PI032-01-01    0.005\n",
      "dtype: float64\n",
      "[ True] name\n",
      "PI032-01-01    False\n",
      "dtype: bool\n",
      "name\n",
      "PI032-01-01    0.005\n",
      "dtype: float64\n",
      "[ True] name\n",
      "PI032-01-01    False\n",
      "dtype: bool\n",
      "name\n",
      "PI032-01-01    0.005\n",
      "dtype: float64\n",
      "[ True] name\n",
      "PI032-01-01    False\n",
      "dtype: bool\n",
      "name\n",
      "PI032-01-01    0.005\n",
      "dtype: float64\n",
      "[ True] name\n",
      "PI032-01-01    False\n",
      "dtype: bool\n",
      "name\n",
      "PI032-01-01    0.005\n",
      "dtype: float64\n",
      "[False] name\n",
      "PI032-01-01    False\n",
      "dtype: bool\n",
      "name\n",
      "PI032-01-01    0.005\n",
      "dtype: float64\n"
     ]
    }
   ],
   "source": [
    "x3, om, t2 = t.correct_olivine()"
   ]
  },
  {
   "cell_type": "code",
   "execution_count": 13,
   "metadata": {},
   "outputs": [
    {
     "data": {
      "text/plain": [
       "name\n",
       "PI032-01-01    0.1136\n",
       "PI032-01-04    0.0615\n",
       "dtype: float64"
      ]
     },
     "execution_count": 13,
     "metadata": {},
     "output_type": "execute_result"
    }
   ],
   "source": [
    "om"
   ]
  },
  {
   "cell_type": "code",
   "execution_count": 14,
   "metadata": {},
   "outputs": [
    {
     "data": {
      "text/plain": [
       "name\n",
       "PI032-01-01    0.110\n",
       "PI032-01-04    0.065\n",
       "dtype: float64"
      ]
     },
     "execution_count": 14,
     "metadata": {},
     "output_type": "execute_result"
    }
   ],
   "source": [
    "ol_crystallised"
   ]
  },
  {
   "cell_type": "code",
   "execution_count": null,
   "metadata": {},
   "outputs": [],
   "source": []
  }
 ],
 "metadata": {
  "kernelspec": {
   "display_name": "Python 3.9.7 ('base')",
   "language": "python",
   "name": "python3"
  },
  "language_info": {
   "codemirror_mode": {
    "name": "ipython",
    "version": 3
   },
   "file_extension": ".py",
   "mimetype": "text/x-python",
   "name": "python",
   "nbconvert_exporter": "python",
   "pygments_lexer": "ipython3",
   "version": "3.9.7"
  },
  "orig_nbformat": 4,
  "vscode": {
   "interpreter": {
    "hash": "3a9bb5c46ea8dfb7b7b773d3f421233097d1a58d8de08b35bdb5d7d6a8b4b418"
   }
  }
 },
 "nbformat": 4,
 "nbformat_minor": 2
}
