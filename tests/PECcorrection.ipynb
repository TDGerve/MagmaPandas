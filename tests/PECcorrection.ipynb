{
 "cells": [
  {
   "cell_type": "code",
   "execution_count": 1,
   "metadata": {},
   "outputs": [
    {
     "name": "stdout",
     "output_type": "stream",
     "text": [
      "############## Post-entrapment modification #############\n",
      "#################### correction model ###################\n",
      "\n",
      "Settings________________________________________________\n",
      "Stepsize equilibration (moles)......................0.002\n",
      "Stepsize crystallisation (moles)....................0.005\n",
      "Decrease factor.....................................5    \n",
      "FeO convergence (wt. %).............................0.05 \n",
      "Kd convergence......................................0.001\n",
      "Temperature convergence (°).........................0.1  \n"
     ]
    }
   ],
   "source": [
    "# import pandas as pd\n",
    "import MagmaPandas as mp\n",
    "import MagmaPandas.geochemistry.PEC as pec\n",
    "import pandas as pd\n",
    "import elements as e\n",
    "import matplotlib.pyplot as plt\n",
    "import meltInc.plotting as p\n",
    "\n",
    "p.layout()\n",
    "config = pec.PEC_configuration()\n",
    "config.print()"
   ]
  },
  {
   "cell_type": "code",
   "execution_count": 2,
   "metadata": {},
   "outputs": [],
   "source": [
    "melt = mp.read_melt_inclusion('./melt.csv', index_col=['name'], total_col='total')\n",
    "olivine = mp.read_olivine('./olivine.csv', index_col=['name'], total_col=\"total\")"
   ]
  },
  {
   "cell_type": "code",
   "execution_count": 3,
   "metadata": {},
   "outputs": [],
   "source": [
    "forsterites = olivine.forsterite\n",
    "inclusions = melt.iloc[[0,1], :].copy()\n",
    "ol_host = olivine.iloc[[0,1], :].copy()\n",
    "Fo = 0.9\n",
    "FeO_initial = 11.2\n",
    "P_bar = 2e3"
   ]
  },
  {
   "cell_type": "code",
   "execution_count": null,
   "metadata": {},
   "outputs": [],
   "source": [
    "equilibrated_inclusions = mp.MagmaFrame(index=inclusions.index, columns=inclusions.columns, dtype=float, units=\"wt. %\", datatype=\"oxide\")\n",
    "ol_equilibrated = pd.Series(index=inclusions.index, dtype=float)\n",
    "\n",
    "for (idx, mi), (_, ol) in zip(inclusions.iterrows(), ol_host.iterrows()):\n",
    "\n",
    "    x, oc, kd = pec.Fe_equilibrate(mi, ol, P_bar)\n",
    "    equilibrated_inclusions.loc[idx] = x.iloc[-1]\n",
    "    ol_equilibrated.loc[idx] = oc"
   ]
  },
  {
   "cell_type": "code",
   "execution_count": null,
   "metadata": {},
   "outputs": [],
   "source": [
    "equilibrated_inclusions"
   ]
  },
  {
   "cell_type": "code",
   "execution_count": null,
   "metadata": {},
   "outputs": [],
   "source": [
    "ol_equilibrated"
   ]
  },
  {
   "cell_type": "code",
   "execution_count": null,
   "metadata": {},
   "outputs": [],
   "source": [
    "corrected_inclusions = mp.Melt(index=inclusions.index, columns=inclusions.columns, dtype=float, units=\"wt. %\", datatype=\"oxide\")\n",
    "ol_crystallised = pd.Series(index=inclusions.index, dtype=float)\n",
    "\n",
    "for (idx, mi), (_, ol) in zip(equilibrated_inclusions.iterrows(), ol_host.iterrows()):\n",
    "\n",
    "    x2, oc2, kd2, t = pec.crystallisation_correction(mi, ol, FeO_initial, P_bar)\n",
    "    corrected_inclusions.loc[idx] = x2.iloc[-1]\n",
    "    ol_crystallised.loc[idx] = oc2"
   ]
  },
  {
   "cell_type": "code",
   "execution_count": null,
   "metadata": {},
   "outputs": [],
   "source": [
    "ol_crystallised"
   ]
  },
  {
   "cell_type": "code",
   "execution_count": null,
   "metadata": {},
   "outputs": [],
   "source": [
    "fig, ax = plt.subplots(figsize=(8,8))\n",
    "\n",
    "plt.plot(x[\"MgO\"], x[\"FeO\"], \"-o\")\n",
    "plt.plot(x2[\"MgO\"], x2[\"FeO\"], \"-D\")\n"
   ]
  },
  {
   "cell_type": "code",
   "execution_count": 4,
   "metadata": {},
   "outputs": [],
   "source": [
    "t = pec.PEC_olivine(inclusions, ol_host, P_bar, FeO_initial)"
   ]
  },
  {
   "cell_type": "code",
   "execution_count": 5,
   "metadata": {},
   "outputs": [
    {
     "name": "stdout",
     "output_type": "stream",
     "text": [
      "T correction 09"
     ]
    }
   ],
   "source": [
    "t.Fe_equilibrate(inplace=True)"
   ]
  },
  {
   "cell_type": "code",
   "execution_count": null,
   "metadata": {},
   "outputs": [],
   "source": [
    "om"
   ]
  },
  {
   "cell_type": "code",
   "execution_count": null,
   "metadata": {},
   "outputs": [],
   "source": []
  }
 ],
 "metadata": {
  "kernelspec": {
   "display_name": "Python 3.10.5 ('py310')",
   "language": "python",
   "name": "python3"
  },
  "language_info": {
   "codemirror_mode": {
    "name": "ipython",
    "version": 3
   },
   "file_extension": ".py",
   "mimetype": "text/x-python",
   "name": "python",
   "nbconvert_exporter": "python",
   "pygments_lexer": "ipython3",
   "version": "3.10.5"
  },
  "orig_nbformat": 4,
  "vscode": {
   "interpreter": {
    "hash": "4b701f657d075cf990b60e06b28aaf26cc35cacdbae41fa41850956724588167"
   }
  }
 },
 "nbformat": 4,
 "nbformat_minor": 2
}
