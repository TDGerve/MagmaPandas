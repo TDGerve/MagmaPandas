{
 "cells": [
  {
   "cell_type": "code",
   "execution_count": 1,
   "metadata": {},
   "outputs": [
    {
     "name": "stdout",
     "output_type": "stream",
     "text": [
      "############## Post-entrapment modification #############\n",
      "#################### correction model ###################\n",
      "\n",
      "Settings________________________________________________\n",
      "Stepsize equilibration (moles).....................0.002 \n",
      "Stepsize crystallisation (moles)...................0.05  \n",
      "Decrease factor....................................5     \n",
      "FeO convergence (wt. %)............................0.05  \n",
      "Kd convergence.....................................0.0001\n",
      "Temperature convergence (°)........................0.1   \n"
     ]
    }
   ],
   "source": [
    "# import pandas as pd\n",
    "import MagmaPandas as mp\n",
    "import MagmaPandas.geochemistry.PEC as pec\n",
    "import pandas as pd\n",
    "import elements as e\n",
    "import matplotlib.pyplot as plt\n",
    "import meltInc.plotting as p\n",
    "\n",
    "p.layout()\n",
    "config = pec.PEC_configuration()\n",
    "config.print()"
   ]
  },
  {
   "cell_type": "code",
   "execution_count": 2,
   "metadata": {},
   "outputs": [],
   "source": [
    "melt = mp.read_melt_inclusion('./melt.csv', index_col=['name'], total_col='total')\n",
    "olivine = mp.read_olivine('./olivine.csv', index_col=['name'], total_col=\"total\")"
   ]
  },
  {
   "cell_type": "code",
   "execution_count": 3,
   "metadata": {},
   "outputs": [],
   "source": [
    "forsterites = olivine.forsterite\n",
    "inclusions = melt.copy()\n",
    "ol_host = olivine.copy()\n",
    "Fo = 0.9\n",
    "# FeO_initial = 11.2\n",
    "# FeO_initial = lambda x: 11.3981 - 0.07896 * x[\"MgO\"]\n",
    "FeO_initial = 11.2\n",
    "P_bar = 1"
   ]
  },
  {
   "cell_type": "code",
   "execution_count": null,
   "metadata": {},
   "outputs": [],
   "source": [
    "equilibrated_inclusions = mp.MagmaFrame(index=inclusions.index, columns=inclusions.columns, dtype=float, units=\"wt. %\", datatype=\"oxide\")\n",
    "ol_equilibrated = pd.Series(index=inclusions.index, dtype=float)\n",
    "\n",
    "totalItems= equilibrated_inclusions.shape[0]\n",
    "for i, ((idx, mi), (_, ol)) in enumerate(zip(inclusions.iterrows(), ol_host.iterrows())):\n",
    "\n",
    "    print(f\"{i + 1:0>3}/{totalItems:0>3} inclusions equilibrated\", end= \"\\r\")\n",
    "    x, oc, kd = pec.Fe_equilibrate(mi, ol, P_bar)\n",
    "    equilibrated_inclusions.loc[idx] = x.iloc[-1]\n",
    "    ol_equilibrated.loc[idx] = oc[-1]"
   ]
  },
  {
   "cell_type": "code",
   "execution_count": null,
   "metadata": {},
   "outputs": [],
   "source": [
    "corrected_inclusions = mp.Melt(index=inclusions.index, columns=inclusions.columns, dtype=float, units=\"wt. %\", datatype=\"oxide\")\n",
    "ol_crystallised = pd.Series(index=inclusions.index, dtype=float)\n",
    "\n",
    "totalItems = equilibrated_inclusions.shape[0]\n",
    "\n",
    "for i, ((idx, mi), (_, ol)) in enumerate(zip(equilibrated_inclusions.iterrows(), ol_host.iterrows())):\n",
    "\n",
    "    print(f\"{i + 1:0>3}/{totalItems:0>3} inclusions corrected\", end= \"\\r\")\n",
    "\n",
    "    x2, oc2, kd2, t = pec.crystallisation_correction(mi, ol, FeO_initial, P_bar)\n",
    "    corrected_inclusions.loc[idx] = x2.iloc[-1]\n",
    "    ol_crystallised.loc[idx] = oc2[-1]"
   ]
  },
  {
   "cell_type": "code",
   "execution_count": 4,
   "metadata": {},
   "outputs": [],
   "source": [
    "mi_pec = pec.PEC_olivine(inclusions, ol_host, P_bar, FeO_initial)"
   ]
  },
  {
   "cell_type": "code",
   "execution_count": 5,
   "metadata": {},
   "outputs": [
    {
     "name": "stdout",
     "output_type": "stream",
     "text": [
      "029/029 inclusions equilibrated\n",
      "029/029 inclusions corrected\n"
     ]
    }
   ],
   "source": [
    "mi_pec.reset()\n",
    "x, oc, t = mi_pec.correct()"
   ]
  },
  {
   "cell_type": "code",
   "execution_count": 6,
   "metadata": {},
   "outputs": [
    {
     "data": {
      "text/plain": [
       "name\n",
       "PI032-01-01    0.122860\n",
       "PI032-01-04    0.061500\n",
       "PI032-02-01    0.119120\n",
       "PI032-02-02    0.110184\n",
       "PI032-02-03    0.125900\n",
       "PI032-03-01    0.119916\n",
       "PI032-04-01    0.111156\n",
       "PI032-04-02    0.119364\n",
       "PI032-04-03    0.104304\n",
       "PI032-05-01    0.032192\n",
       "PI041-02-01    0.011860\n",
       "PI041-02-02    0.040268\n",
       "PI041-03-01    0.138420\n",
       "PI041-03-03    0.129248\n",
       "PI041-04-02    0.040380\n",
       "PI041-04-03    0.045240\n",
       "PI041-04-04    0.027000\n",
       "PI041-04-05    0.042148\n",
       "PI041-04-06    0.044780\n",
       "PI041-04-07    0.057896\n",
       "PI041-05-02    0.009200\n",
       "PI041-05-03    0.005560\n",
       "PI041-05-04    0.014220\n",
       "PI041-05-06    0.010540\n",
       "PI041-07-01    0.093976\n",
       "PI041-07-02    0.096228\n",
       "PI041-07-06    0.096892\n",
       "PI052-01-02   -0.015808\n",
       "PI052-02-01    0.104500\n",
       "dtype: float64"
      ]
     },
     "execution_count": 6,
     "metadata": {},
     "output_type": "execute_result"
    }
   ],
   "source": [
    "oc"
   ]
  },
  {
   "cell_type": "code",
   "execution_count": null,
   "metadata": {},
   "outputs": [],
   "source": [
    "t = mi_pec.correct_inclusion(5)"
   ]
  },
  {
   "cell_type": "code",
   "execution_count": null,
   "metadata": {},
   "outputs": [],
   "source": [
    "markersize = 12\n",
    "\n",
    "fig, ax = plt.subplots(figsize=(8,7))\n",
    "\n",
    "for (idx, i), (_, j) in zip(mi_pec.inclusions.iterrows(), mi_pec.inclusions_uncorrected.iterrows()):\n",
    "    data = pd.concat([pd.Series(i), pd.Series(j)], axis=1).T\n",
    "    data.index = [\"corrected\", \"original\"]\n",
    "    plt.plot(data[\"MgO\"], data[\"FeO\"], \"--\", color=\"k\")\n",
    "\n",
    "plt.plot(mi_pec.inclusions[\"MgO\"], mi_pec.inclusions[\"FeO\"], \"o\", markersize=markersize)\n",
    "plt.plot(mi_pec.inclusions_uncorrected[\"MgO\"], mi_pec.inclusions_uncorrected[\"FeO\"], \"D\", markersize=markersize)\n",
    "\n",
    "ax.set_xlabel(\"wt. % MgO\")\n",
    "ax.set_ylabel(\"wt. % FeO\")\n",
    "\n",
    "plt.show()"
   ]
  }
 ],
 "metadata": {
  "kernelspec": {
   "display_name": "Python 3.10.5 ('py310')",
   "language": "python",
   "name": "python3"
  },
  "language_info": {
   "codemirror_mode": {
    "name": "ipython",
    "version": 3
   },
   "file_extension": ".py",
   "mimetype": "text/x-python",
   "name": "python",
   "nbconvert_exporter": "python",
   "pygments_lexer": "ipython3",
   "version": "3.10.5"
  },
  "orig_nbformat": 4,
  "vscode": {
   "interpreter": {
    "hash": "4b701f657d075cf990b60e06b28aaf26cc35cacdbae41fa41850956724588167"
   }
  }
 },
 "nbformat": 4,
 "nbformat_minor": 2
}
