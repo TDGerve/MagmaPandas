{
 "cells": [
  {
   "cell_type": "code",
   "execution_count": 22,
   "metadata": {},
   "outputs": [
    {
     "name": "stdout",
     "output_type": "stream",
     "text": [
      "\n",
      "################ MagmaPandas ################\n",
      "#############################################\n",
      "General settings_____________________________\n",
      "fO2 buffer................................QFM\n",
      "Δ buffer....................................0\n",
      "Melt Fe3+/Fe2+........................borisov\n",
      "Kd Fe-Mg ol-melt.......................toplis\n",
      "Melt thermometer...............putirka2008_15\n",
      "Volatile solubility model......IaconoMarziano\n",
      "Volatile species........................mixed\n"
     ]
    }
   ],
   "source": [
    "import MagmaPandas as mp\n",
    "import pandas as pd\n",
    "\n",
    "print(mp.configuration)\n"
   ]
  },
  {
   "cell_type": "code",
   "execution_count": 2,
   "metadata": {},
   "outputs": [],
   "source": [
    "file = \"C:/Users/u0123694/Desktop/glass.csv\""
   ]
  },
  {
   "cell_type": "code",
   "execution_count": 10,
   "metadata": {},
   "outputs": [],
   "source": [
    "glass = pd.read_csv(file, index_col=[\"sample_no\"])\n",
    "glass = glass.rename(columns={\"h2o\": \"H2O\"})"
   ]
  },
  {
   "cell_type": "code",
   "execution_count": 18,
   "metadata": {},
   "outputs": [
    {
     "data": {
      "text/plain": [
       "sample_no\n",
       "213.00    1242.099332\n",
       "214.00    1243.933320\n",
       "215.00    1228.669977\n",
       "216.00    1223.393306\n",
       "218.00    1205.843223\n",
       "224.00    1264.981265\n",
       "228.00    1289.562449\n",
       "230.00    1304.238247\n",
       "233.00    1322.537074\n",
       "234.00    1327.800772\n",
       "235.00    1344.464871\n",
       "c553      1301.536913\n",
       "c559      1384.259687\n",
       "cag03a    1616.034789\n",
       "cag03b    1597.818483\n",
       "cag03e    1610.079669\n",
       "cag04b    1568.956457\n",
       "cag04d    1559.782221\n",
       "cag05c    1572.422046\n",
       "cag05d    1543.563229\n",
       "Name: T_K, dtype: float64"
      ]
     },
     "execution_count": 18,
     "metadata": {},
     "output_type": "execute_result"
    }
   ],
   "source": [
    "T_K = glass[\"TK\"].copy()\n",
    "P_bar = glass[\"P_BAR\"].copy()\n",
    "\n",
    "melt = mp.Melt(glass, datatype=\"oxide\", units=\"wt. %\")"
   ]
  },
  {
   "cell_type": "code",
   "execution_count": 23,
   "metadata": {},
   "outputs": [],
   "source": [
    "mp.configuration.dQFM = 0\n",
    "# mp.configuration.Kd_model = \"Blundy\"\n",
    "\n",
    "Fe3Fe2 = melt.Fe3Fe2_QFM(T_K=T_K, P_bar=P_bar)\n",
    "Kds = melt.Kd_olivine_FeMg(0.9, T_K=T_K, P_bar=P_bar, Fe3Fe2=Fe3Fe2)"
   ]
  },
  {
   "cell_type": "code",
   "execution_count": 24,
   "metadata": {},
   "outputs": [
    {
     "data": {
      "text/plain": [
       "sample_no\n",
       "213.00    0.318154\n",
       "214.00    0.321217\n",
       "215.00    0.322349\n",
       "216.00    0.318941\n",
       "218.00    0.318551\n",
       "224.00    0.317463\n",
       "228.00    0.315929\n",
       "230.00    0.316175\n",
       "233.00    0.313611\n",
       "234.00    0.314743\n",
       "235.00    0.311371\n",
       "c553      0.388022\n",
       "c559      0.361986\n",
       "cag03a    0.276483\n",
       "cag03b    0.283080\n",
       "cag03e    0.266492\n",
       "cag04b    0.288283\n",
       "cag04d    0.277298\n",
       "cag05c    0.290386\n",
       "cag05d    0.242816\n",
       "dtype: float64"
      ]
     },
     "execution_count": 24,
     "metadata": {},
     "output_type": "execute_result"
    }
   ],
   "source": [
    "Kds.head(20)"
   ]
  },
  {
   "cell_type": "code",
   "execution_count": null,
   "metadata": {},
   "outputs": [],
   "source": []
  }
 ],
 "metadata": {
  "kernelspec": {
   "display_name": "Python 3.10.5 ('py310')",
   "language": "python",
   "name": "python3"
  },
  "language_info": {
   "codemirror_mode": {
    "name": "ipython",
    "version": 3
   },
   "file_extension": ".py",
   "mimetype": "text/x-python",
   "name": "python",
   "nbconvert_exporter": "python",
   "pygments_lexer": "ipython3",
   "version": "3.10.5"
  },
  "orig_nbformat": 4,
  "vscode": {
   "interpreter": {
    "hash": "4b701f657d075cf990b60e06b28aaf26cc35cacdbae41fa41850956724588167"
   }
  }
 },
 "nbformat": 4,
 "nbformat_minor": 2
}
