{
 "cells": [
  {
   "cell_type": "code",
   "execution_count": 1,
   "metadata": {},
   "outputs": [
    {
     "name": "stdout",
     "output_type": "stream",
     "text": [
      "## Allison (2022) volatile solubility ##\n",
      "Settings________________________________\n",
      "Fugacity model.............hollowayBlank\n",
      "Species model......................mixed\n",
      "\n",
      "Calibration range______________________\n",
      "Temperature..................1273-1673°K\n",
      "Pressure........................< 7 kbar\n"
     ]
    }
   ],
   "source": [
    "import MagmaPandas.geochemistry.volatile_solubility.Allison2022 as a\n",
    "import MagmaPandas.geochemistry.volatile_solubility.IaconoMarziano as im\n",
    "from MagmaPandas.geochemistry.eos_volatiles import hollowayBlank as h\n",
    "a_config = a.Allison_configuration()\n",
    "a_config.model = \"mixed\"\n",
    "a_config.print()\n"
   ]
  },
  {
   "cell_type": "code",
   "execution_count": 2,
   "metadata": {},
   "outputs": [
    {
     "name": "stderr",
     "output_type": "stream",
     "text": [
      "/Users/thomas/miniforge3/lib/python3.9/site-packages/VESIcal/calculate_classes.py:7: UserWarning: \n",
      "\n",
      " WARNING: Thermoengine is not installed. MagmaSat model will not function. A model name must be given when performing any calculation as model='some-model-name'.\n",
      "  from VESIcal.models import magmasat\n"
     ]
    }
   ],
   "source": [
    "# import pandas as pd\n",
    "import MagmaPandas as mp\n",
    "import MagmaPandas.parse.readers as r\n",
    "import pandas as pd\n",
    "import elements as e\n",
    "import numpy as np\n",
    "import matplotlib.pyplot as plt\n",
    "import VESIcal as v\n",
    "import meltInc.plotting as p\n",
    "config = mp.configuration()\n",
    "\n",
    "p.layout()"
   ]
  },
  {
   "cell_type": "code",
   "execution_count": 3,
   "metadata": {},
   "outputs": [
    {
     "name": "stdout",
     "output_type": "stream",
     "text": [
      "Kd Fe-Mg ol-melt.......................toplis\n",
      "Melt Fe3+/Fe2+........................borisov\n",
      "Melt thermometer...............putirka2008_14\n",
      "Volatile solubility model......IaconoMarziano\n"
     ]
    }
   ],
   "source": [
    "config.print()"
   ]
  },
  {
   "cell_type": "code",
   "execution_count": 4,
   "metadata": {},
   "outputs": [
    {
     "data": {
      "text/plain": [
       "SiO2     46.889000\n",
       "Al2O3    15.078000\n",
       "MgO       6.831000\n",
       "CaO      12.663000\n",
       "FeO       7.380000\n",
       "Na2O      3.146000\n",
       "K2O       1.766000\n",
       "MnO       0.135000\n",
       "TiO2      2.642000\n",
       "P2O5      0.972000\n",
       "Cr2O3     0.055000\n",
       "CO2       0.280800\n",
       "H2O       1.070768\n",
       "F         0.072400\n",
       "S         0.134300\n",
       "Cl        0.058700\n",
       "total    99.173965\n",
       "dtype: float32"
      ]
     },
     "execution_count": 4,
     "metadata": {},
     "output_type": "execute_result"
    }
   ],
   "source": [
    "melt = mp.read_melt_inclusion('./melt.csv', index_col=['name'], total_col='total')\n",
    "inclusion = melt.iloc[10, :].copy()\n",
    "inclusion"
   ]
  },
  {
   "cell_type": "code",
   "execution_count": 5,
   "metadata": {},
   "outputs": [],
   "source": [
    "P_bar = 3e3\n",
    "T_K = 1200+273.15"
   ]
  },
  {
   "cell_type": "code",
   "execution_count": 7,
   "metadata": {},
   "outputs": [
    {
     "data": {
      "text/plain": [
       "(2773.2839565437334, 2584.299581634737)"
      ]
     },
     "execution_count": 7,
     "metadata": {},
     "output_type": "execute_result"
    }
   ],
   "source": [
    "im.calculate_saturation(inclusion, T_K), a.calculate_saturation(inclusion, T_K)"
   ]
  },
  {
   "cell_type": "code",
   "execution_count": 20,
   "metadata": {},
   "outputs": [
    {
     "data": {
      "text/plain": [
       "(0, 0.2808000246941415)"
      ]
     },
     "execution_count": 20,
     "metadata": {},
     "output_type": "execute_result"
    }
   ],
   "source": [
    "a.calculate_solubility(inclusion, P_bar=2584.29958163, T_K=T_K, x_fluid=0.00)"
   ]
  },
  {
   "cell_type": "code",
   "execution_count": null,
   "metadata": {},
   "outputs": [],
   "source": [
    "Xfl = np.arange(0,1,0.01)\n",
    "Ca = []\n",
    "Cim = []\n",
    "\n",
    "for x in Xfl:\n",
    "    C = a.calculate_solubility(inclusion, P_bar, T_K, x_fluid=x, output=\"CO2\")\n",
    "    Ca.append(C)\n",
    "\n",
    "\n",
    "plt.plot(Xfl, Ca)\n",
    "\n"
   ]
  },
  {
   "cell_type": "code",
   "execution_count": null,
   "metadata": {},
   "outputs": [],
   "source": [
    "i"
   ]
  },
  {
   "cell_type": "code",
   "execution_count": null,
   "metadata": {},
   "outputs": [],
   "source": [
    "im.calculate_solubility(inclusion, P_bar, T_K, x_fluid=0.6, output=\"CO2\")"
   ]
  },
  {
   "cell_type": "code",
   "execution_count": null,
   "metadata": {},
   "outputs": [],
   "source": [
    "a.calculate_solubility(inclusion, P_bar, T_K, x_fluid=0.05, output=\"CO2\")"
   ]
  },
  {
   "cell_type": "code",
   "execution_count": null,
   "metadata": {},
   "outputs": [],
   "source": [
    "inclusion.index.difference(inclusion._weights.index)"
   ]
  },
  {
   "cell_type": "code",
   "execution_count": null,
   "metadata": {},
   "outputs": [],
   "source": [
    "CO2 = inclusion[\"CO2\"]\n",
    "cations = a.co2._cation_fractions_Allison(inclusion)\n",
    "deltaV = a.co2._deltaV(cations)\n",
    "lnK0 = a.co2._lnK0(cations)\n",
    "FW = 36.594  # alkali basalt formula weight per 1 oxygen\n",
    "\n",
    "XCO3 = CO2 * (1 / 44.01) / ((100 / FW) - (CO2 / FW))\n",
    "Kf = XCO3 / (1 + XCO3)\n",
    "deltaV, lnK0, XCO3"
   ]
  },
  {
   "cell_type": "code",
   "execution_count": null,
   "metadata": {},
   "outputs": [],
   "source": [
    "a.co2._root_partial_pressure(2e3, T_K, deltaV, lnK0, Kf)"
   ]
  },
  {
   "cell_type": "code",
   "execution_count": null,
   "metadata": {},
   "outputs": [],
   "source": [
    "pressures = np.arange(0, 7.250e3, 250)\n",
    "\n",
    "H2O = [a.h2o.calculate_solubility(p, T_K) for p in pressures]\n",
    "CO2 = [a.co2.calculate_solubility(inclusion, p, T_K) for p in pressures]\n",
    "CO2im = [im.co2.calculate_solubility(inclusion, p, T_K) for p in pressures]\n",
    "H2Oim = [im.h2o.calculate_solubility(inclusion, p, T_K) for p in pressures]\n",
    "\n",
    "fig, ax = plt.subplots(figsize=(10,10))\n",
    "\n",
    "ax.plot(pressures, CO2)\n",
    "ax.plot(pressures, CO2im, label=\"i-m\")\n",
    "plt.legend()\n",
    "plt.show()"
   ]
  },
  {
   "cell_type": "code",
   "execution_count": null,
   "metadata": {},
   "outputs": [],
   "source": [
    "pd.DataFrame({\"P\":pressures, \"CO2\":CO2, \"CO2im\": CO2im})"
   ]
  },
  {
   "cell_type": "code",
   "execution_count": null,
   "metadata": {},
   "outputs": [],
   "source": [
    "pressures"
   ]
  },
  {
   "cell_type": "code",
   "execution_count": null,
   "metadata": {},
   "outputs": [],
   "source": []
  }
 ],
 "metadata": {
  "kernelspec": {
   "display_name": "Python 3.9.7 ('base')",
   "language": "python",
   "name": "python3"
  },
  "language_info": {
   "codemirror_mode": {
    "name": "ipython",
    "version": 3
   },
   "file_extension": ".py",
   "mimetype": "text/x-python",
   "name": "python",
   "nbconvert_exporter": "python",
   "pygments_lexer": "ipython3",
   "version": "3.9.7"
  },
  "orig_nbformat": 4,
  "vscode": {
   "interpreter": {
    "hash": "3a9bb5c46ea8dfb7b7b773d3f421233097d1a58d8de08b35bdb5d7d6a8b4b418"
   }
  }
 },
 "nbformat": 4,
 "nbformat_minor": 2
}
