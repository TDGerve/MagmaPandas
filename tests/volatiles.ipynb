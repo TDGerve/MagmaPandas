{
 "cells": [
  {
   "cell_type": "code",
   "execution_count": 1,
   "metadata": {},
   "outputs": [
    {
     "name": "stdout",
     "output_type": "stream",
     "text": [
      "# Iacono-Marziano volatile solubility ##\n",
      "Settings________________________________\n",
      "Parameterisation..........hydrous_webapp\n",
      "Fugacity model.....................ideal\n",
      "Activity model.....................ideal\n",
      "Species model......................mixed\n",
      "\n",
      "Calibration range______________________\n",
      "Temperature..................1373-1673°K\n",
      "Pressure.....................0.1-10 kbar\n"
     ]
    }
   ],
   "source": [
    "import MagmaPandas.geochemistry.volatile_solubility.IaconoMarziano as im\n",
    "import MagmaPandas.geochemistry.volatile_solubility.Allison2022 as a\n",
    "im_config = im.IaconoMarziano_configuration()\n",
    "im_config.parameters = \"hydrous_webapp\"\n",
    "im_config.print()"
   ]
  },
  {
   "cell_type": "code",
   "execution_count": 2,
   "metadata": {},
   "outputs": [
    {
     "name": "stderr",
     "output_type": "stream",
     "text": [
      "/Users/thomas/miniforge3/lib/python3.9/site-packages/VESIcal/calculate_classes.py:7: UserWarning: \n",
      "\n",
      " WARNING: Thermoengine is not installed. MagmaSat model will not function. A model name must be given when performing any calculation as model='some-model-name'.\n",
      "  from VESIcal.models import magmasat\n"
     ]
    }
   ],
   "source": [
    "# import pandas as pd\n",
    "import MagmaPandas as mp\n",
    "import MagmaPandas.parse.readers as r\n",
    "import pandas as pd\n",
    "import elements as e\n",
    "import numpy as np\n",
    "import matplotlib.pyplot as plt\n",
    "import VESIcal as v\n",
    "config = mp.configuration()"
   ]
  },
  {
   "cell_type": "code",
   "execution_count": 3,
   "metadata": {},
   "outputs": [],
   "source": [
    "melt = mp.read_melt_inclusion('./melt.csv', index_col=['name'], total_col='total')"
   ]
  },
  {
   "cell_type": "code",
   "execution_count": 4,
   "metadata": {},
   "outputs": [],
   "source": [
    "sample = \"PI052-02-01\"\n",
    "FeO_initial = 15\n",
    "Fo_host = 0.6\n",
    "Kd = 0.29\n",
    "P_bar = 1e3\n",
    "T_K = 1400\n",
    "inclusion = melt.iloc[4,:].copy()\n",
    "# inclusion[\"H2O\"] = 5\n"
   ]
  },
  {
   "cell_type": "code",
   "execution_count": 5,
   "metadata": {},
   "outputs": [
    {
     "data": {
      "text/plain": [
       "SiO2     47.851799\n",
       "Al2O3    15.871700\n",
       "MgO       7.863920\n",
       "CaO      10.468700\n",
       "FeO       8.851050\n",
       "Na2O      3.148020\n",
       "K2O       1.180670\n",
       "MnO       0.098343\n",
       "TiO2      3.431850\n",
       "P2O5      0.598803\n",
       "Cr2O3          NaN\n",
       "CO2       0.357400\n",
       "H2O       1.046258\n",
       "dtype: float32"
      ]
     },
     "execution_count": 5,
     "metadata": {},
     "output_type": "execute_result"
    }
   ],
   "source": [
    "s = v.Sample(inclusion[inclusion.index.intersection(v.oxides)])\n",
    "s.get_composition()"
   ]
  },
  {
   "cell_type": "code",
   "execution_count": 7,
   "metadata": {},
   "outputs": [
    {
     "name": "stdout",
     "output_type": "stream",
     "text": [
      "VESIcal: 1135.08                          IM: 1107.76, A: 1460.26, delta:  27 bar, Xfl: 0.032, Xfl-im:  0.042\n",
      "VESIcal: 980.97                            IM: 959.98, A: 1582.02, delta:  21 bar, Xfl: 0.030, Xfl-im:  0.050\n",
      "VESIcal: 2697.32                          IM: 2569.67, A: 4117.28, delta:  128 bar, Xfl: 0.028, Xfl-im:  0.057\n",
      "VESIcal: 3550.70                          IM: 3392.23, A: 2098.91, delta:  158 bar, Xfl: 0.028, Xfl-im:  0.022\n",
      "VESIcal: 4161.33                          IM: 3936.30, A: 3922.23, delta:  225 bar, Xfl: 0.027, Xfl-im:  0.040\n",
      "VESIcal: 1705.94                          IM: 1651.75, A: 1945.10, delta:  54 bar, Xfl: 0.057, Xfl-im:  0.083\n",
      "VESIcal: 2065.49                          IM: 1989.94, A: 3028.65, delta:  76 bar, Xfl: 0.005, Xfl-im:  0.011\n",
      "VESIcal: 2155.12                          IM: 2075.37, A: 1639.88, delta:  80 bar, Xfl: 0.072, Xfl-im:  0.058\n",
      "VESIcal: 3190.00                          IM: 3036.59, A: 4077.36, delta:  153 bar, Xfl: 0.029, Xfl-im:  0.057\n",
      "VESIcal: 2034.00                          IM: 1964.63, A: 1780.54, delta:  69 bar, Xfl: 0.051, Xfl-im:  0.052\n",
      "VESIcal: 2865.30                          IM: 2748.51, A: 2747.09, delta:  117 bar, Xfl: 0.043, Xfl-im:  0.054\n",
      "VESIcal: 2541.54                          IM: 2441.26, A: 1698.48, delta:  100 bar, Xfl: 0.053, Xfl-im:  0.043\n",
      "VESIcal: 1491.59                           IM: 1450.32, A: 705.56, delta:  41 bar, Xfl: 0.092, Xfl-im:  0.053\n",
      "VESIcal: 3793.91                          IM: 3616.65, A: 2185.25, delta:  177 bar, Xfl: 0.034, Xfl-im:  0.027\n",
      "VESIcal: 3306.15                          IM: 3157.37, A: 2314.65, delta:  149 bar, Xfl: 0.023, Xfl-im:  0.021\n",
      "VESIcal: 2696.71                          IM: 2589.15, A: 2546.12, delta:  108 bar, Xfl: 0.043, Xfl-im:  0.052\n",
      "VESIcal: 3063.95                          IM: 2931.46, A: 2344.84, delta:  132 bar, Xfl: 0.023, Xfl-im:  0.022\n",
      "VESIcal: 3821.33                          IM: 3633.77, A: 2152.72, delta:  188 bar, Xfl: 0.035, Xfl-im:  0.026\n",
      "VESIcal: 2919.50                          IM: 2792.26, A: 2074.31, delta:  127 bar, Xfl: 0.040, Xfl-im:  0.036\n",
      "VESIcal: 2222.88                          IM: 2137.44, A: 1975.15, delta:  85 bar, Xfl: 0.049, Xfl-im:  0.052\n"
     ]
    }
   ],
   "source": [
    "for idx in range(20):\n",
    "\n",
    "    inclusion = melt.iloc[idx,:].copy()\n",
    "    s = v.Sample(inclusion[inclusion.index.intersection(v.oxides)])\n",
    "    model = \"IaconoMarziano\"\n",
    "    VC = v.calculate_saturation_pressure(s, temperature=T_K, model=model).result\n",
    "    IM, xim = im.calculate_saturation(inclusion, T_K, output=\"both\")\n",
    "    A, x = a.calculate_saturation(inclusion, T_K, output=\"both\")\n",
    "    string = f\"IM: {IM:.2f}, A: {A:.2f}\"\n",
    "    print(f\"VESIcal: {VC:<30.2f} {string:>25}, delta: {(VC - IM): .0f} bar, Xfl: {x:.3f}, Xfl-im: {xim: .3f}\")"
   ]
  },
  {
   "cell_type": "code",
   "execution_count": null,
   "metadata": {},
   "outputs": [],
   "source": [
    "model = \"IaconoMarzianoCarbon\"\n",
    "\n",
    "p = np.arange(1,  1e4, 5e1)\n",
    "fig, ax = plt.subplots(figsize=(10, 10))\n",
    "\n",
    "plt.plot(p, [im.co2.calculate_solubility(inclusion, P_bar=i, T_K=T_K) for i in p])\n",
    "plt.plot(p, [v.calculate_dissolved_volatiles(s, temperature=T_K-273.15, pressure=i, model=model).result for i in p], label=\"VC\")\n",
    "\n",
    "plt.legend()\n",
    "plt.show()"
   ]
  },
  {
   "cell_type": "code",
   "execution_count": null,
   "metadata": {},
   "outputs": [],
   "source": []
  }
 ],
 "metadata": {
  "kernelspec": {
   "display_name": "Python 3.9.7 ('base')",
   "language": "python",
   "name": "python3"
  },
  "language_info": {
   "codemirror_mode": {
    "name": "ipython",
    "version": 3
   },
   "file_extension": ".py",
   "mimetype": "text/x-python",
   "name": "python",
   "nbconvert_exporter": "python",
   "pygments_lexer": "ipython3",
   "version": "3.9.7"
  },
  "orig_nbformat": 4,
  "vscode": {
   "interpreter": {
    "hash": "3a9bb5c46ea8dfb7b7b773d3f421233097d1a58d8de08b35bdb5d7d6a8b4b418"
   }
  }
 },
 "nbformat": 4,
 "nbformat_minor": 2
}
