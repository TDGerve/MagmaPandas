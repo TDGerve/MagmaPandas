{
 "cells": [
  {
   "cell_type": "code",
   "execution_count": 1,
   "metadata": {},
   "outputs": [
    {
     "name": "stdout",
     "output_type": "stream",
     "text": [
      "Settings________________________________\n",
      "Parameterisation..........hydrous_webapp\n",
      "Fugacity model.....................ideal\n",
      "Activity model.....................ideal\n",
      "Species model......................mixed\n",
      "\n",
      "Calibration range______________________\n",
      "Temperature..................1373-1673°K\n",
      "Pressure.....................0.1-10 kbar\n"
     ]
    }
   ],
   "source": [
    "import MagmaPandas.geochemistry.volatile_solubility.IaconoMarziano as im\n",
    "im_config = im.IaconoMarziano_configuration()\n",
    "im_config.parameters = \"hydrous_webapp\"\n",
    "im_config.print()"
   ]
  },
  {
   "cell_type": "code",
   "execution_count": 2,
   "metadata": {},
   "outputs": [
    {
     "name": "stderr",
     "output_type": "stream",
     "text": [
      "c:\\Users\\u0123694\\miniforge3\\envs\\py38\\lib\\site-packages\\VESIcal\\calculate_classes.py:7: UserWarning: \n",
      "\n",
      " WARNING: Thermoengine is not installed. MagmaSat model will not function. A model name must be given when performing any calculation as model='some-model-name'.\n",
      "  from VESIcal.models import magmasat\n"
     ]
    }
   ],
   "source": [
    "# import pandas as pd\n",
    "import MagmaPandas as mp\n",
    "import MagmaPandas.parse.readers as r\n",
    "import pandas as pd\n",
    "import elements as e\n",
    "import numpy as np\n",
    "import matplotlib.pyplot as plt\n",
    "import VESIcal as v\n",
    "config = mp.configuration()"
   ]
  },
  {
   "cell_type": "code",
   "execution_count": 14,
   "metadata": {},
   "outputs": [],
   "source": [
    "melt = mp.read_melt_inclusion('./melt.csv', index_col=['name'], total_col='total')"
   ]
  },
  {
   "cell_type": "code",
   "execution_count": 15,
   "metadata": {},
   "outputs": [],
   "source": [
    "sample = \"PI052-02-01\"\n",
    "FeO_initial = 15\n",
    "Fo_host = 0.6\n",
    "Kd = 0.29\n",
    "P_bar = 1e3\n",
    "T_K = 1400\n",
    "inclusion = melt.iloc[4,:].copy()\n",
    "# inclusion[\"H2O\"] = 5\n"
   ]
  },
  {
   "cell_type": "code",
   "execution_count": 16,
   "metadata": {},
   "outputs": [
    {
     "data": {
      "text/plain": [
       "SiO2      60.084\n",
       "Al2O3    101.961\n",
       "MgO       40.304\n",
       "CaO       56.077\n",
       "FeO       71.844\n",
       "Na2O      61.979\n",
       "K2O       94.195\n",
       "MnO       70.937\n",
       "TiO2      79.865\n",
       "P2O5     141.943\n",
       "Cr2O3    151.989\n",
       "CO2       44.008\n",
       "H2O       18.019\n",
       "F         18.998\n",
       "S         32.065\n",
       "Cl        35.453\n",
       "Name: weight, dtype: float64"
      ]
     },
     "execution_count": 16,
     "metadata": {},
     "output_type": "execute_result"
    }
   ],
   "source": [
    "# inclusion = inclusion.drop([\"F\", \"S\", \"Cl\"]).recalculate()\n",
    "inclusion.weights"
   ]
  },
  {
   "cell_type": "code",
   "execution_count": 6,
   "metadata": {},
   "outputs": [],
   "source": [
    "IM_oxideMasses = {\n",
    "            \"Al2O3\": 101.96,\n",
    "            \"CaO\": 56.08,\n",
    "            \"FeO\": 71.85,\n",
    "            \"K2O\": 94.2,\n",
    "            \"MgO\": 40.32,\n",
    "            \"Na2O\": 61.98,\n",
    "            \"SiO2\": 60.09,\n",
    "            \"TiO2\": 79.9,\n",
    "            \"H2O\": 18.01,\n",
    "        }"
   ]
  },
  {
   "cell_type": "code",
   "execution_count": 9,
   "metadata": {},
   "outputs": [],
   "source": [
    "me = inclusion.moles"
   ]
  },
  {
   "cell_type": "code",
   "execution_count": 10,
   "metadata": {},
   "outputs": [
    {
     "data": {
      "text/plain": [
       "SiO2     47.851799\n",
       "Al2O3    15.871700\n",
       "MgO       7.863920\n",
       "CaO      10.468700\n",
       "FeO       8.851050\n",
       "Na2O      3.148020\n",
       "K2O       1.180670\n",
       "MnO       0.098343\n",
       "TiO2      3.431850\n",
       "P2O5      0.598803\n",
       "Cr2O3          NaN\n",
       "CO2       0.357400\n",
       "H2O       1.046258\n",
       "dtype: float32"
      ]
     },
     "execution_count": 10,
     "metadata": {},
     "output_type": "execute_result"
    }
   ],
   "source": [
    "s = v.Sample(inclusion[inclusion.index.intersection(v.oxides)])\n",
    "s.get_composition()"
   ]
  },
  {
   "cell_type": "code",
   "execution_count": 11,
   "metadata": {},
   "outputs": [
    {
     "name": "stdout",
     "output_type": "stream",
     "text": [
      "0.33961636053524036 0.33958904157577674\n"
     ]
    }
   ],
   "source": [
    "print(im.NBO_O_calculate(inclusion.moles), v.models.iaconomarziano.water().NBO_O(s, coeffs=\"webapp\"))"
   ]
  },
  {
   "cell_type": "code",
   "execution_count": 17,
   "metadata": {},
   "outputs": [
    {
     "name": "stdout",
     "output_type": "stream",
     "text": [
      "VESIcal: 1135.0819765844035             me:        1107.7874597993034, delta:  27 bar\n",
      "VESIcal: 980.9671966994213              me:         959.9956446178064, delta:  21 bar\n",
      "VESIcal: 2697.319412478516              me:         2569.746491286821, delta:  128 bar\n",
      "VESIcal: 3550.6968582982827             me:         3539.831729917701, delta:  11 bar\n",
      "VESIcal: 4161.32557550735               me:         3936.385122545884, delta:  225 bar\n",
      "VESIcal: 1705.9411018490598             me:        1651.7880720073622, delta:  54 bar\n",
      "VESIcal: 2065.4855287788396             me:        1989.9578444632941, delta:  76 bar\n",
      "VESIcal: 2155.119685850898              me:        2075.4150558608762, delta:  80 bar\n",
      "VESIcal: 3189.999238225935              me:        3036.6759980311454, delta:  153 bar\n",
      "VESIcal: 2033.9987248521838             me:        1964.6640546659467, delta:  69 bar\n",
      "VESIcal: 2865.2959249451137             me:         2748.566581631606, delta:  117 bar\n",
      "VESIcal: 2541.5411238324036             me:        2441.3064970102214, delta:  100 bar\n",
      "VESIcal: 1491.594958015423              me:        1450.3469052827506, delta:  41 bar\n",
      "VESIcal: 3793.908761095062              me:        3775.5365275646377, delta:  18 bar\n",
      "VESIcal: 3306.153400435355              me:         3275.031037593087, delta:  31 bar\n",
      "VESIcal: 2696.705053511218              me:        2589.2016091490814, delta:  108 bar\n",
      "VESIcal: 3063.954366893345              me:         2931.501904964619, delta:  132 bar\n",
      "VESIcal: 3821.3253745980096             me:         3801.944028402848, delta:  19 bar\n",
      "VESIcal: 2919.5002803187026             me:         2792.305086721323, delta:  127 bar\n",
      "VESIcal: 2222.8806250816956             me:        2137.4764273236724, delta:  85 bar\n"
     ]
    }
   ],
   "source": [
    "for idx in range(20):\n",
    "\n",
    "    inclusion = melt.iloc[idx,:].copy()\n",
    "    s = v.Sample(inclusion[inclusion.index.intersection(v.oxides)])\n",
    "    model = \"IaconoMarziano\"\n",
    "    VC = v.calculate_saturation_pressure(s, temperature=T_K, model=model).result\n",
    "    me = im.calculate_saturation(inclusion, T_K)\n",
    "    print(f\"VESIcal: {VC:<30} me: {me:>25}, delta: {(VC - me): .0f} bar\")"
   ]
  },
  {
   "cell_type": "code",
   "execution_count": 37,
   "metadata": {},
   "outputs": [
    {
     "data": {
      "image/png": "[encoded data removed]",
      "text/plain": [
       "<Figure size 720x720 with 1 Axes>"
      ]
     },
     "metadata": {
      "needs_background": "light"
     },
     "output_type": "display_data"
    }
   ],
   "source": [
    "model = \"IaconoMarzianoCarbon\"\n",
    "\n",
    "p = np.arange(1,  1e4, 5e1)\n",
    "fig, ax = plt.subplots(figsize=(10, 10))\n",
    "\n",
    "plt.plot(p, [im.co2.calculate_solubility(inclusion, P_bar=i, T_K=T_K) for i in p])\n",
    "plt.plot(p, [v.calculate_dissolved_volatiles(s, temperature=T_K-273.15, pressure=i, model=model).result for i in p], label=\"VC\")\n",
    "\n",
    "plt.legend()\n",
    "plt.show()"
   ]
  },
  {
   "cell_type": "code",
   "execution_count": null,
   "metadata": {},
   "outputs": [],
   "source": []
  }
 ],
 "metadata": {
  "interpreter": {
   "hash": "fb06a6baa6d44fd72e554eb3999baf3be698845450cddd4e9be77580a1d54969"
  },
  "kernelspec": {
   "display_name": "Python 3.8.12 ('py38')",
   "language": "python",
   "name": "python3"
  },
  "language_info": {
   "codemirror_mode": {
    "name": "ipython",
    "version": 3
   },
   "file_extension": ".py",
   "mimetype": "text/x-python",
   "name": "python",
   "nbconvert_exporter": "python",
   "pygments_lexer": "ipython3",
   "version": "3.8.12"
  },
  "orig_nbformat": 4
 },
 "nbformat": 4,
 "nbformat_minor": 2
}
