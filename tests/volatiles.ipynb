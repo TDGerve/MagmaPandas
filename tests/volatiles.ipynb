{
 "cells": [
  {
   "cell_type": "code",
   "execution_count": null,
   "metadata": {},
   "outputs": [],
   "source": [
    "import MagmaPandas.geochemistry.volatile_solubility.IaconoMarziano as im\n",
    "import MagmaPandas.geochemistry.volatile_solubility.Allison2022 as a\n",
    "im_config = im.IaconoMarziano_configuration\n",
    "im_config.print()\n",
    "print(\"\\n\")\n",
    "a_config = a.Allison_configuration\n",
    "a_config.print()"
   ]
  },
  {
   "cell_type": "code",
   "execution_count": null,
   "metadata": {},
   "outputs": [],
   "source": [
    "# import pandas as pd\n",
    "import MagmaPandas as mp\n",
    "import MagmaPandas.parse.readers as r\n",
    "import pandas as pd\n",
    "import elements as e\n",
    "import numpy as np\n",
    "import matplotlib.pyplot as plt\n",
    "import VESIcal as v\n",
    "config = mp.configuration()"
   ]
  },
  {
   "cell_type": "code",
   "execution_count": null,
   "metadata": {},
   "outputs": [],
   "source": [
    "melt = mp.read_melt_inclusion('./melt.csv', index_col=['name'], total_col='total')"
   ]
  },
  {
   "cell_type": "code",
   "execution_count": null,
   "metadata": {},
   "outputs": [],
   "source": [
    "melt"
   ]
  },
  {
   "cell_type": "code",
   "execution_count": null,
   "metadata": {},
   "outputs": [],
   "source": [
    "sample = \"PI032-04-01\"\n",
    "FeO_initial = 15\n",
    "Fo_host = 0.6\n",
    "Kd = 0.29\n",
    "P_bar = 1e3\n",
    "T_K = 1400\n",
    "inclusion = melt.loc[sample,:].copy()\n",
    "# inclusion[\"H2O\"] = 5\n"
   ]
  },
  {
   "cell_type": "code",
   "execution_count": null,
   "metadata": {},
   "outputs": [],
   "source": [
    "s = v.Sample(inclusion[inclusion.index.intersection(v.oxides)])\n",
    "s.get_composition()"
   ]
  },
  {
   "cell_type": "code",
   "execution_count": null,
   "metadata": {},
   "outputs": [],
   "source": [
    "for idx in range(20):\n",
    "\n",
    "    inclusion = melt.iloc[idx,:].copy()\n",
    "    s = v.Sample(inclusion[inclusion.index.intersection(v.oxides)])\n",
    "    model = \"IaconoMarziano\"\n",
    "    VC = v.calculate_saturation_pressure(s, temperature=T_K, model=model).result\n",
    "    IM, xim = im.calculate_saturation(inclusion, T_K, output=\"both\")\n",
    "    A, x = a.calculate_saturation(inclusion, T_K, output=\"both\")\n",
    "    string = f\"IM: {IM:>5.0f}, A: {A:>5.0f}\"\n",
    "    print(f\"VESIcal: {VC:<10.0f} {string:>25}, delta: {(VC - IM): >3.0f} bar, Xfl-IM: {xim: >4.2f}, Xfl-A: {x: .2f}\")"
   ]
  },
  {
   "cell_type": "code",
   "execution_count": null,
   "metadata": {},
   "outputs": [],
   "source": [
    "model = \"IaconoMarzianoWater\"\n",
    "\n",
    "p = np.arange(1,  1e4, 5e1)\n",
    "fig, ax = plt.subplots(figsize=(10, 10))\n",
    "\n",
    "plt.plot(p, [a.h2o.calculate_solubility(inclusion, P_bar=i, T_K=T_K) for i in p])\n",
    "plt.plot(p, [v.calculate_dissolved_volatiles(s, temperature=T_K-273.15, pressure=i, model=model).result for i in p], label=\"VC\")\n",
    "\n",
    "plt.legend()\n",
    "plt.show()"
   ]
  },
  {
   "cell_type": "code",
   "execution_count": null,
   "metadata": {},
   "outputs": [],
   "source": []
  }
 ],
 "metadata": {
  "kernelspec": {
   "display_name": "Python 3.8.12 ('py38')",
   "language": "python",
   "name": "python3"
  },
  "language_info": {
   "codemirror_mode": {
    "name": "ipython",
    "version": 3
   },
   "file_extension": ".py",
   "mimetype": "text/x-python",
   "name": "python",
   "nbconvert_exporter": "python",
   "pygments_lexer": "ipython3",
   "version": "3.8.12"
  },
  "orig_nbformat": 4,
  "vscode": {
   "interpreter": {
    "hash": "fb06a6baa6d44fd72e554eb3999baf3be698845450cddd4e9be77580a1d54969"
   }
  }
 },
 "nbformat": 4,
 "nbformat_minor": 2
}
