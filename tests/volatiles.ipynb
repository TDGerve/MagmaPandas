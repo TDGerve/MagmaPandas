{
 "cells": [
  {
   "cell_type": "code",
   "execution_count": 1,
   "metadata": {},
   "outputs": [
    {
     "name": "stdout",
     "output_type": "stream",
     "text": [
      "##### Shiskina volatile solubility #####\n",
      "########################################\n",
      "Settings________________________________\n",
      "Fugacity model.....................ideal\n",
      "\n",
      "Calibration range______________________\n",
      "Temperature..................1423-1523°K\n",
      "Pressure......................0.2-5 kbar\n",
      "\n",
      "\n"
     ]
    }
   ],
   "source": [
    "import MagmaPandas.volatile_solubility.models.IaconoMarziano as im\n",
    "import MagmaPandas.volatile_solubility.models.Allison2022 as a\n",
    "import MagmaPandas.volatile_solubility.models.shiskina as sh\n",
    "sh_config = sh.shiskina_configuration\n",
    "sh_config.print()\n",
    "# print(\"\\n\")\n",
    "# a_config = a.Allison_configuration\n",
    "# a_config.print()"
   ]
  },
  {
   "cell_type": "code",
   "execution_count": 2,
   "metadata": {},
   "outputs": [
    {
     "name": "stdout",
     "output_type": "stream",
     "text": [
      "\n",
      "################ MagmaPandas ################\n",
      "#############################################\n",
      "General settings_____________________________\n",
      "fO2 buffer................................QFM\n",
      "Δ buffer....................................1\n",
      "Melt Fe3+/Fe2+........................borisov\n",
      "Kd Fe-Mg ol-melt.......................toplis\n",
      "Melt thermometer...............putirka2008_15\n",
      "Volatile solubility model......IaconoMarziano\n",
      "Volatile species........................mixed\n"
     ]
    },
    {
     "name": "stderr",
     "output_type": "stream",
     "text": [
      "/Users/thomas/miniforge3/lib/python3.9/site-packages/VESIcal/calculate_classes.py:7: UserWarning: \n",
      "\n",
      " WARNING: Thermoengine is not installed. MagmaSat model will not function. A model name must be given when performing any calculation as model='some-model-name'.\n",
      "  from VESIcal.models import magmasat\n"
     ]
    }
   ],
   "source": [
    "# import pandas as pd\n",
    "import MagmaPandas as mp\n",
    "import MagmaPandas.parse_io.readers as r\n",
    "import pandas as pd\n",
    "import elements as e\n",
    "import numpy as np\n",
    "import matplotlib.pyplot as plt\n",
    "import VESIcal as v\n",
    "config = mp.configuration\n",
    "print(config)"
   ]
  },
  {
   "cell_type": "code",
   "execution_count": 3,
   "metadata": {},
   "outputs": [],
   "source": [
    "\n",
    "melt = mp.read_melt('./melt.csv', index_col=['name'], total_col='total')"
   ]
  },
  {
   "cell_type": "code",
   "execution_count": 6,
   "metadata": {},
   "outputs": [
    {
     "name": "stdout",
     "output_type": "stream",
     "text": [
      "|██████████████████████████████| 29/29 [100%] in 3.4s (8.42/s)                                                          23/29 [79%] in 2s (10.5/s, eta: 1s) \n"
     ]
    },
    {
     "data": {
      "text/plain": [
       "name\n",
       "PI032-01-01    2455.798938\n",
       "PI032-01-04    2665.571696\n",
       "PI032-02-01    2464.518548\n",
       "PI032-02-02    2625.414051\n",
       "PI032-02-03    2433.940770\n",
       "PI032-03-01    2980.914992\n",
       "PI032-04-01    3210.365792\n",
       "PI032-04-02    3878.538100\n",
       "PI032-04-03     432.078972\n",
       "PI032-05-01    3445.968541\n",
       "PI041-02-01    3305.089875\n",
       "PI041-02-02    2171.634669\n",
       "PI041-03-01    3653.416977\n",
       "PI041-03-03    3750.295344\n",
       "PI041-04-02    4428.174676\n",
       "PI041-04-03    4410.842640\n",
       "PI041-04-04    4288.526570\n",
       "PI041-04-05    4527.961509\n",
       "PI041-04-06    4294.099361\n",
       "PI041-04-07    4512.630147\n",
       "PI041-05-02    2788.948953\n",
       "PI041-05-03    2792.203792\n",
       "PI041-05-04    1868.927708\n",
       "PI041-05-06    3084.813844\n",
       "PI041-07-01    3897.921258\n",
       "PI041-07-02    2956.813065\n",
       "PI041-07-06    3345.630140\n",
       "PI052-01-02    1074.813409\n",
       "PI052-02-01    1639.876834\n",
       "dtype: float64"
      ]
     },
     "execution_count": 6,
     "metadata": {},
     "output_type": "execute_result"
    }
   ],
   "source": [
    "config.volatile_solubility = \"Allison2022\"\n",
    "melt.volatile_saturation_pressure(1400)"
   ]
  },
  {
   "cell_type": "code",
   "execution_count": null,
   "metadata": {},
   "outputs": [],
   "source": [
    "sample = \"PI032-04-01\"\n",
    "FeO_initial = 15\n",
    "Fo_host = 0.6\n",
    "Kd = 0.29\n",
    "P_bar = 1e3\n",
    "T_K = 1500\n",
    "inclusion = melt.loc[sample,:].copy()\n",
    "# inclusion[\"H2O\"] = 5\n"
   ]
  },
  {
   "cell_type": "code",
   "execution_count": null,
   "metadata": {},
   "outputs": [],
   "source": [
    "import MagmaPandas.volatile_solubility as vs\n",
    "vs.calculate_saturation(inclusion, 1400)"
   ]
  },
  {
   "cell_type": "code",
   "execution_count": null,
   "metadata": {},
   "outputs": [],
   "source": [
    "s = v.Sample(inclusion[inclusion.index.intersection(v.oxides)])\n",
    "s.get_composition()"
   ]
  },
  {
   "cell_type": "code",
   "execution_count": null,
   "metadata": {},
   "outputs": [],
   "source": [
    "v.get_model_names()"
   ]
  },
  {
   "cell_type": "code",
   "execution_count": null,
   "metadata": {},
   "outputs": [],
   "source": [
    "print(f\"{'Sample': <15}{'VESIcal':<10}{'Me':<10}{'delta': <7}{'X-H2O': >}\")\n",
    "for idx in range(20):\n",
    "\n",
    "    inclusion = melt.iloc[idx,:]\n",
    "    s = v.Sample(inclusion[inclusion.index.intersection(v.oxides)])\n",
    "    model = \"IaconoMarziano\"\n",
    "    VC = v.calculate_saturation_pressure(s, temperature=T_K-273, model=model).result\n",
    "    IM, xIM = im.calculate_saturation(inclusion, T_K, output=\"both\")\n",
    "    # A, xA = a.calculate_saturation(inclusion, T_K, output=\"both\")\n",
    "    # SH, x = sh.mixed.calculate_saturation(inclusion, output=\"both\")\n",
    "    # string = f\"IM: {IM:>5.0f}, A: {A:>5.0f}\"    \n",
    "    print(f\"{inclusion.name:<15}{VC:<10.0f}{IM:<10.0f}{(VC - IM): <7.0f}{xIM: >.2f}\")\n",
    "    # print(f\"VESIcal: {VC:<10.0f} {string:>25}, delta: {(VC - IM): >3.0f} bar, Xfl-IM: {xim: >4.2f}, Xfl-A: {x: .2f}\")"
   ]
  },
  {
   "cell_type": "code",
   "execution_count": null,
   "metadata": {},
   "outputs": [],
   "source": [
    "model = \"IaconoMarzianoWater\"\n",
    "\n",
    "p = np.arange(1,  1e4, 5e1)\n",
    "fig, ax = plt.subplots(figsize=(10, 10))\n",
    "\n",
    "plt.plot(p, [im.h2o.calculate_solubility(inclusion, P_bar=i, T_K=T_K) for i in p], label=\"Me\", linewidth=4, alpha=0.8, linestyle=\"--\")\n",
    "plt.plot(p, [v.calculate_dissolved_volatiles(s, temperature=T_K-273.15, pressure=i, model=model).result for i in p], label=\"VESIcal\")\n",
    "\n",
    "plt.legend()\n",
    "plt.show()"
   ]
  },
  {
   "cell_type": "code",
   "execution_count": null,
   "metadata": {},
   "outputs": [],
   "source": [
    "melt.iloc[0, :]"
   ]
  },
  {
   "cell_type": "code",
   "execution_count": null,
   "metadata": {},
   "outputs": [],
   "source": []
  }
 ],
 "metadata": {
  "kernelspec": {
   "display_name": "Python 3.9.7 ('base')",
   "language": "python",
   "name": "python3"
  },
  "language_info": {
   "codemirror_mode": {
    "name": "ipython",
    "version": 3
   },
   "file_extension": ".py",
   "mimetype": "text/x-python",
   "name": "python",
   "nbconvert_exporter": "python",
   "pygments_lexer": "ipython3",
   "version": "3.9.7"
  },
  "orig_nbformat": 4,
  "vscode": {
   "interpreter": {
    "hash": "3a9bb5c46ea8dfb7b7b773d3f421233097d1a58d8de08b35bdb5d7d6a8b4b418"
   }
  }
 },
 "nbformat": 4,
 "nbformat_minor": 2
}
