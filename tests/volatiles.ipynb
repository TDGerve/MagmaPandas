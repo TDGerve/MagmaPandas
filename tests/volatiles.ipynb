{
 "cells": [
  {
   "cell_type": "code",
   "execution_count": 1,
   "metadata": {},
   "outputs": [
    {
     "name": "stdout",
     "output_type": "stream",
     "text": [
      "##### Shiskina volatile solubility #####\n",
      "########################################\n",
      "Settings________________________________\n",
      "Fugacity model.....................ideal\n",
      "\n",
      "Calibration range______________________\n",
      "Temperature..................1423-1523°K\n",
      "Pressure......................0.2-5 kbar\n",
      "\n",
      "\n"
     ]
    }
   ],
   "source": [
    "import MagmaPandas.volatile_solubility.models.IaconoMarziano as im\n",
    "import MagmaPandas.volatile_solubility.models.Allison2022 as a\n",
    "import MagmaPandas.volatile_solubility.models.shiskina as sh\n",
    "sh_config = sh.shiskina_configuration\n",
    "sh_config.print()\n",
    "# print(\"\\n\")\n",
    "# a_config = a.Allison_configuration\n",
    "# a_config.print()"
   ]
  },
  {
   "cell_type": "code",
   "execution_count": 2,
   "metadata": {},
   "outputs": [
    {
     "name": "stdout",
     "output_type": "stream",
     "text": [
      "\n",
      "################ MagmaPandas ################\n",
      "#############################################\n",
      "General settings_____________________________\n",
      "fO2 buffer................................QFM\n",
      "Δ buffer....................................1\n",
      "Melt Fe3+/Fe2+........................borisov\n",
      "Kd Fe-Mg ol-melt.......................toplis\n",
      "Melt thermometer...............putirka2008_15\n",
      "Volatile solubility model......IaconoMarziano\n",
      "Volatile species........................mixed\n"
     ]
    },
    {
     "name": "stderr",
     "output_type": "stream",
     "text": [
      "/Users/thomas/miniforge3/lib/python3.9/site-packages/VESIcal/calculate_classes.py:7: UserWarning: \n",
      "\n",
      " WARNING: Thermoengine is not installed. MagmaSat model will not function. A model name must be given when performing any calculation as model='some-model-name'.\n",
      "  from VESIcal.models import magmasat\n"
     ]
    }
   ],
   "source": [
    "# import pandas as pd\n",
    "import MagmaPandas as mp\n",
    "import MagmaPandas.parse_io.readers as r\n",
    "import pandas as pd\n",
    "import elements as e\n",
    "import numpy as np\n",
    "import matplotlib.pyplot as plt\n",
    "import VESIcal as v\n",
    "config = mp.configuration\n",
    "print(config)"
   ]
  },
  {
   "cell_type": "code",
   "execution_count": 3,
   "metadata": {},
   "outputs": [],
   "source": [
    "\n",
    "melt = mp.read_melt('./melt.csv', index_col=['name'], total_col='total')"
   ]
  },
  {
   "cell_type": "code",
   "execution_count": 5,
   "metadata": {},
   "outputs": [
    {
     "name": "stdout",
     "output_type": "stream",
     "text": [
      "|██████████████████████████████| 29/29 [100%] in 7.6s (3.79/s)                                                          \n"
     ]
    },
    {
     "data": {
      "text/plain": [
       "name\n",
       "PI032-01-01    3949.366305\n",
       "PI032-01-04    3057.190217\n",
       "PI032-02-01    4341.186656\n",
       "PI032-02-02    3952.830863\n",
       "PI032-02-03    4150.502879\n",
       "PI032-03-01    3496.658999\n",
       "PI032-04-01    5501.409275\n",
       "PI032-04-02    5970.260092\n",
       "PI032-04-03     773.562849\n",
       "PI032-05-01    3804.514753\n",
       "PI041-02-01    4589.353936\n",
       "PI041-02-02    2716.185743\n",
       "PI041-03-01    4407.296932\n",
       "PI041-03-03    4363.360713\n",
       "PI041-04-02    5534.463719\n",
       "PI041-04-03    5583.160472\n",
       "PI041-04-04    5246.134624\n",
       "PI041-04-05    5632.732573\n",
       "PI041-04-06    5412.904744\n",
       "PI041-04-07    5919.402605\n",
       "PI041-05-02    2875.194412\n",
       "PI041-05-03    2945.745299\n",
       "PI041-05-04    2253.836206\n",
       "PI041-05-06    3780.551695\n",
       "PI041-07-01    4808.849925\n",
       "PI041-07-02    2988.226375\n",
       "PI041-07-06    3821.417536\n",
       "PI052-01-02    1975.676346\n",
       "PI052-02-01    2305.232334\n",
       "dtype: float64"
      ]
     },
     "execution_count": 5,
     "metadata": {},
     "output_type": "execute_result"
    }
   ],
   "source": [
    "config.volatile_solubility = \"shiskina\"\n",
    "melt.volatile_saturation_pressure(1400)"
   ]
  },
  {
   "cell_type": "code",
   "execution_count": null,
   "metadata": {},
   "outputs": [],
   "source": [
    "sample = \"PI032-04-01\"\n",
    "FeO_initial = 15\n",
    "Fo_host = 0.6\n",
    "Kd = 0.29\n",
    "P_bar = 1e3\n",
    "T_K = 1500\n",
    "inclusion = melt.loc[sample,:].copy()\n",
    "# inclusion[\"H2O\"] = 5\n"
   ]
  },
  {
   "cell_type": "code",
   "execution_count": null,
   "metadata": {},
   "outputs": [],
   "source": [
    "import MagmaPandas.volatile_solubility as vs\n",
    "vs.calculate_saturation(inclusion, 1400)"
   ]
  },
  {
   "cell_type": "code",
   "execution_count": null,
   "metadata": {},
   "outputs": [],
   "source": [
    "s = v.Sample(inclusion[inclusion.index.intersection(v.oxides)])\n",
    "s.get_composition()"
   ]
  },
  {
   "cell_type": "code",
   "execution_count": null,
   "metadata": {},
   "outputs": [],
   "source": [
    "v.get_model_names()"
   ]
  },
  {
   "cell_type": "code",
   "execution_count": null,
   "metadata": {},
   "outputs": [],
   "source": [
    "print(f\"{'Sample': <15}{'VESIcal':<10}{'Me':<10}{'delta': <7}{'X-H2O': >}\")\n",
    "for idx in range(20):\n",
    "\n",
    "    inclusion = melt.iloc[idx,:]\n",
    "    s = v.Sample(inclusion[inclusion.index.intersection(v.oxides)])\n",
    "    model = \"IaconoMarziano\"\n",
    "    VC = v.calculate_saturation_pressure(s, temperature=T_K-273, model=model).result\n",
    "    IM, xIM = im.calculate_saturation(inclusion, T_K, output=\"both\")\n",
    "    # A, xA = a.calculate_saturation(inclusion, T_K, output=\"both\")\n",
    "    # SH, x = sh.mixed.calculate_saturation(inclusion, output=\"both\")\n",
    "    # string = f\"IM: {IM:>5.0f}, A: {A:>5.0f}\"    \n",
    "    print(f\"{inclusion.name:<15}{VC:<10.0f}{IM:<10.0f}{(VC - IM): <7.0f}{xIM: >.2f}\")\n",
    "    # print(f\"VESIcal: {VC:<10.0f} {string:>25}, delta: {(VC - IM): >3.0f} bar, Xfl-IM: {xim: >4.2f}, Xfl-A: {x: .2f}\")"
   ]
  },
  {
   "cell_type": "code",
   "execution_count": null,
   "metadata": {},
   "outputs": [],
   "source": [
    "model = \"IaconoMarzianoWater\"\n",
    "\n",
    "p = np.arange(1,  1e4, 5e1)\n",
    "fig, ax = plt.subplots(figsize=(10, 10))\n",
    "\n",
    "plt.plot(p, [im.h2o.calculate_solubility(inclusion, P_bar=i, T_K=T_K) for i in p], label=\"Me\", linewidth=4, alpha=0.8, linestyle=\"--\")\n",
    "plt.plot(p, [v.calculate_dissolved_volatiles(s, temperature=T_K-273.15, pressure=i, model=model).result for i in p], label=\"VESIcal\")\n",
    "\n",
    "plt.legend()\n",
    "plt.show()"
   ]
  },
  {
   "cell_type": "code",
   "execution_count": null,
   "metadata": {},
   "outputs": [],
   "source": [
    "melt.iloc[0, :]"
   ]
  },
  {
   "cell_type": "code",
   "execution_count": null,
   "metadata": {},
   "outputs": [],
   "source": []
  }
 ],
 "metadata": {
  "kernelspec": {
   "display_name": "Python 3.9.7 ('base')",
   "language": "python",
   "name": "python3"
  },
  "language_info": {
   "codemirror_mode": {
    "name": "ipython",
    "version": 3
   },
   "file_extension": ".py",
   "mimetype": "text/x-python",
   "name": "python",
   "nbconvert_exporter": "python",
   "pygments_lexer": "ipython3",
   "version": "3.9.7"
  },
  "orig_nbformat": 4,
  "vscode": {
   "interpreter": {
    "hash": "3a9bb5c46ea8dfb7b7b773d3f421233097d1a58d8de08b35bdb5d7d6a8b4b418"
   }
  }
 },
 "nbformat": 4,
 "nbformat_minor": 2
}
